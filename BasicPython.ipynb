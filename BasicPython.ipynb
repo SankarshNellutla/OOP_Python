{
 "cells": [
  {
   "cell_type": "markdown",
   "id": "7141cc03",
   "metadata": {},
   "source": [
    "# Python Basics:\n",
    "\n",
    "This notebook is organized for quick reference and future learning, with clear syntax, code examples, and concise explanations for each topic. It’s designed to help me (and anyone else) review or learn Python fundamentals efficiently.\n",
    "\n",
    "**Topics I’ve covered:**\n",
    "- Print Statement\n",
    "- Variables and Data Types\n",
    "- User Input\n",
    "- Type Conversion\n",
    "- Strings and String Methods\n",
    "- Formatted Strings\n",
    "- Arithmetic Operations\n",
    "- Operator Precedence (BODMAS/PEMDAS)\n",
    "- Math Functions\n",
    "- Comparison Operators\n",
    "- Conditional Statements\n",
    "- While Loops (with projects)\n",
    "- For Loops and Nested Loops\n",
    "- Lists and List Methods\n",
    "- 2D Lists\n",
    "- Tuples\n",
    "- Dictionaries\n",
    "- Functions and Reusable Functions\n",
    "- Exception Handling\n",
    "\n",
    "Each section includes:\n",
    "- A brief explanation of the concept\n",
    "- Syntax reference\n",
    "- Practical code examples\n",
    "- Explanations for key code snippets\n",
    "\n",
    "Use these notes as a quick reference, a learning tool, or a foundation for your own Python projects!"
   ]
  },
  {
   "cell_type": "markdown",
   "id": "bff6a042",
   "metadata": {},
   "source": [
    "## 1. Print Statement\n",
    "\n",
    "The `print()` function outputs text or variables to the console. It's one of the most basic and frequently used functions in Python."
   ]
  },
  {
   "cell_type": "markdown",
   "id": "7012e03e",
   "metadata": {},
   "source": [
    "**Syntax:**\n",
    "```python\n",
    "print(value)\n",
    "```"
   ]
  },
  {
   "cell_type": "code",
   "execution_count": 1,
   "id": "d5f8e7c3",
   "metadata": {},
   "outputs": [
    {
     "name": "stdout",
     "output_type": "stream",
     "text": [
      "Sankarsh Nellutla\n",
      "o----\n",
      " ||||\n",
      "**********\n"
     ]
    }
   ],
   "source": [
    "# Printing simple strings and patterns\n",
    "print(\"Sankarsh Nellutla\") # Sankarsh Nellutla\n",
    "print('o----') # o----\n",
    "print(\" ||||\") #  ||||\n",
    "print(\"*\" * 10) # **********"
   ]
  },
  {
   "cell_type": "markdown",
   "id": "4e8db247",
   "metadata": {},
   "source": [
    "**Explanation:**\n",
    "- `print()` displays the specified message to the screen.\n",
    "- You can print strings, numbers, or the result of expressions (like `\"*\" * 10`)."
   ]
  },
  {
   "cell_type": "markdown",
   "id": "e7817485",
   "metadata": {},
   "source": [
    "## 2. Variables\n",
    "\n",
    "Variables store data values. Python is dynamically typed, so you don't need to declare the type explicitly."
   ]
  },
  {
   "cell_type": "markdown",
   "id": "28bcc05e",
   "metadata": {},
   "source": [
    "**Syntax:**\n",
    "```python\n",
    "variable_name = value\n",
    "```"
   ]
  },
  {
   "cell_type": "code",
   "execution_count": 2,
   "id": "80e10097",
   "metadata": {},
   "outputs": [
    {
     "name": "stdout",
     "output_type": "stream",
     "text": [
      "20\n"
     ]
    }
   ],
   "source": [
    "# Assigning values to variables\n",
    "price = 10\n",
    "price = 20\n",
    "rating = 4.9\n",
    "name = 'Sankarsh'\n",
    "is_published = True\n",
    "print(price) # 20\n",
    "\n",
    "# Example: We check in a patient named John Smith. He's 20 years old and is a new patient.\n",
    "Name = \"John Smith\"\n",
    "Age = 20\n",
    "Status_New = True"
   ]
  },
  {
   "cell_type": "markdown",
   "id": "f5cdceca",
   "metadata": {},
   "source": [
    "**Explanation:**\n",
    "- Variables can store different data types: int, float, str, bool.\n",
    "- Variable names are case-sensitive and should be descriptive.\n",
    "- You can reassign variables to new values at any time."
   ]
  },
  {
   "cell_type": "markdown",
   "id": "cdfcee08",
   "metadata": {},
   "source": [
    "## 3. User Input\n",
    "\n",
    "Use `input()` to get data from the user. The result is always a string, so convert it if you need another type."
   ]
  },
  {
   "cell_type": "markdown",
   "id": "a1fa68d8",
   "metadata": {},
   "source": [
    "**Syntax:**\n",
    "```python\n",
    "input(\"Prompt message\")\n",
    "```"
   ]
  },
  {
   "cell_type": "code",
   "execution_count": 3,
   "id": "80063105",
   "metadata": {},
   "outputs": [
    {
     "name": "stdout",
     "output_type": "stream",
     "text": [
      "Hello Sankarsh Nellutla\n",
      "23\n",
      "23\n",
      "Sankarsh likes white\n",
      "Sankarsh likes white\n"
     ]
    }
   ],
   "source": [
    "# Getting user input and displaying a message\n",
    "Name = input(\"Enter your name: \")\n",
    "print('Hello '+ Name) # Hello Sankarsh\n",
    "\n",
    "Age = int(input(\"Enter your age: \"))\n",
    "print(Age) # 23\n",
    "\n",
    "# Example: Ask two questions: person's name and favourite color. Then, print a message like \"Mosh likes blue\"\n",
    "Name = input(\"Enter your name: \")\n",
    "Favourite_color = input(\"Enter your favourite color: \")\n",
    "print(Name + \" likes \" + Favourite_color) # Sankarsh likes White"
   ]
  },
  {
   "cell_type": "markdown",
   "id": "b8afb5cb",
   "metadata": {},
   "source": [
    "**Explanation:**\n",
    "- `input()` always returns a string. Use `int()` or `float()` to convert if needed.\n",
    "- Concatenate strings with `+` to build messages."
   ]
  },
  {
   "cell_type": "markdown",
   "id": "3e0c7f76",
   "metadata": {},
   "source": [
    "## 4. Type Conversion\n",
    "\n",
    "Convert between types using functions like `int()`, `float()`, and `str()`."
   ]
  },
  {
   "cell_type": "markdown",
   "id": "d4b8e0e9",
   "metadata": {},
   "source": [
    "**Syntax:**\n",
    "```python\n",
    "int(string)\n",
    "float(string)\n",
    "str(number)\n",
    "```"
   ]
  },
  {
   "cell_type": "code",
   "execution_count": 4,
   "id": "5eee34e8",
   "metadata": {},
   "outputs": [
    {
     "name": "stdout",
     "output_type": "stream",
     "text": [
      "24\n",
      "77.11064\n",
      "77.11064\n"
     ]
    }
   ],
   "source": [
    "# Calculating age from year of birth\n",
    "YearOfBirth = int(input(\"Enter your YOB: \"))\n",
    "Age = 2025-YearOfBirth\n",
    "print(Age) # 24\n",
    "\n",
    "# Example: Ask a user their weight (in pounds), convert it to kilograms and print on the terminal.\n",
    "WeightLbs = int(input(\"Enter your Weight in lbs: \"))\n",
    "weightKgs = WeightLbs*0.453592\n",
    "print(weightKgs) # 78.017824"
   ]
  },
  {
   "cell_type": "markdown",
   "id": "f9b2c314",
   "metadata": {},
   "source": [
    "**Explanation:**\n",
    "- Use `int()` to convert strings to integers, `float()` for floating-point numbers.\n",
    "- Type conversion is essential when working with user input or calculations."
   ]
  },
  {
   "cell_type": "markdown",
   "id": "6f4bf7f6",
   "metadata": {},
   "source": [
    "## 5. Strings\n",
    "\n",
    "Strings are sequences of characters. You can access characters by index, slice them, and use various string methods."
   ]
  },
  {
   "cell_type": "markdown",
   "id": "9951c2cc",
   "metadata": {},
   "source": [
    "**Syntax:**\n",
    "```python\n",
    "string[index]\n",
    "string[start:end]\n",
    "string[-n:]\n",
    "```"
   ]
  },
  {
   "cell_type": "code",
   "execution_count": 5,
   "id": "7aa2ceac",
   "metadata": {},
   "outputs": [
    {
     "name": "stdout",
     "output_type": "stream",
     "text": [
      "o\n",
      "r Begin\n",
      "ython for Beginners\n",
      "inners\n",
      "Python for Beginners\n",
      "Python for Beginners\n",
      "ennife\n"
     ]
    }
   ],
   "source": [
    "course = \"Python for Beginners\"\n",
    "print(course[-16]) # o\n",
    "\n",
    "# P    y   t   h   o   n       f   o   r      B   e  g  i  n  n  e  r  s\n",
    "# 0    1   2   3   4   5   6   7   8   9   10 11 12 13 14 15 16 17 18 19\n",
    "# -20 -19 -18 -17 -16 -15 -14 -13 -12 -11 -10 -9 -8 -7 -6 -5 -4 -3 -2 -1\n",
    "\n",
    "print(course[9:-4]) # r Begin\n",
    "print(course[1:]) # ython for Beginners\n",
    "print(course[-6:]) # inners\n",
    "print(course[:]) # Python for Beginners\n",
    "\n",
    "another = course[:]\n",
    "print(another) # Python for Beginners\n",
    "\n",
    "# Example: Guess answer for below syntax\n",
    "name = 'Jennifer'\n",
    "print(name[1:-1]) # ennife"
   ]
  },
  {
   "cell_type": "markdown",
   "id": "d8b1029e",
   "metadata": {},
   "source": [
    "**Explanation:**\n",
    "- Strings are indexed from 0 (left) and -1 (right).\n",
    "- Slicing allows you to extract substrings.\n",
    "- Negative indices count from the end of the string."
   ]
  },
  {
   "cell_type": "markdown",
   "id": "f34a8ac1",
   "metadata": {},
   "source": [
    "## 6. Formatted Strings\n",
    "\n",
    "Formatted strings (f-strings) allow you to embed variables directly in string literals for easier and more readable formatting."
   ]
  },
  {
   "cell_type": "code",
   "execution_count": 6,
   "id": "9d2cc690",
   "metadata": {},
   "outputs": [
    {
     "name": "stdout",
     "output_type": "stream",
     "text": [
      "Sankarsh [Nellutla] is a coder\n",
      "Sankarsh [Nellutla] is a coder\n",
      "Sankarsh {Nellutla} is a Coder\n"
     ]
    }
   ],
   "source": [
    "FirstName = \"Sankarsh\"\n",
    "LastName = \"Nellutla\"\n",
    "\n",
    "# Normal method\n",
    "message = FirstName + \" [\" +LastName + \"] is a coder\"\n",
    "print(message) # Sankarsh [Nellutla] is a coder\n",
    "\n",
    "# Formatted String\n",
    "msg = f'{FirstName} [{LastName}] is a coder'\n",
    "print(msg) # Sankarsh [Nellutla] is a coder\n",
    "\n",
    "# Example: Sankarsh {Nellutla} is a Coder\n",
    "FName = \"Sankarsh\"\n",
    "LName = \"Nellutla\"\n",
    "Stmt = f'{FName} {{{LName}}} is a Coder'\n",
    "print(Stmt)"
   ]
  },
  {
   "cell_type": "markdown",
   "id": "05b9b5e3",
   "metadata": {},
   "source": [
    "**Explanation:**\n",
    "- Use `f''` to create formatted strings.\n",
    "- Place variables inside curly braces `{}`.\n",
    "- Double curly braces `{{}}` print literal braces."
   ]
  },
  {
   "cell_type": "markdown",
   "id": "8dee9cf9",
   "metadata": {},
   "source": [
    "## 7. String Methods\n",
    "\n",
    "Python provides many built-in methods to manipulate strings, such as changing case, finding substrings, and replacing text."
   ]
  },
  {
   "cell_type": "code",
   "execution_count": 7,
   "id": "c1778502",
   "metadata": {},
   "outputs": [
    {
     "name": "stdout",
     "output_type": "stream",
     "text": [
      "Python For Beginners\n",
      "20\n",
      "PYTHON FOR BEGINNERS\n",
      "14\n",
      "11\n",
      "Python for Absolute Beginners\n",
      "Jython for Beginners\n",
      "True\n"
     ]
    }
   ],
   "source": [
    "course = \"Python for Beginners\"\n",
    "print(course.title()) # Python For Beginners\n",
    "print(len(course)) # 20\n",
    "Caps = course.upper() # here upper is method whereas print, len is functions\n",
    "print(Caps) # PYTHON FOR BEGINNERS\n",
    "print(course.find('i')) #14\n",
    "print(course.find('Beginners')) #11\n",
    "print(course.replace(\"Beginners\", \"Absolute Beginners\")) #Python for Absolute Beginners\n",
    "print(course.replace('P', \"J\")) # Jython for Beginners\n",
    "print(\"Python\" in course) # True"
   ]
  },
  {
   "cell_type": "markdown",
   "id": "323dcf17",
   "metadata": {},
   "source": [
    "**Explanation:**\n",
    "- `.title()`, `.upper()`, `.lower()` change the case of strings.\n",
    "- `.find()` returns the index of a substring or -1 if not found.\n",
    "- `.replace()` substitutes parts of the string.\n",
    "- The `in` operator checks for substring presence."
   ]
  },
  {
   "cell_type": "markdown",
   "id": "56612bbc",
   "metadata": {},
   "source": [
    "## 8. Arithmetic Operations\n",
    "\n",
    "Python supports standard arithmetic operations: addition, subtraction, multiplication, division, floor division, modulus, and exponentiation."
   ]
  },
  {
   "cell_type": "markdown",
   "id": "377a9330",
   "metadata": {},
   "source": [
    "**Syntax:**\n",
    "```python\n",
    "+, -, *, /, //, %, **\n",
    "```"
   ]
  },
  {
   "cell_type": "code",
   "execution_count": 8,
   "id": "7b13abd6",
   "metadata": {},
   "outputs": [
    {
     "name": "stdout",
     "output_type": "stream",
     "text": [
      "13\n",
      "7\n",
      "30\n",
      "3.3333333333333335\n",
      "3\n",
      "1\n",
      "1000\n",
      "13\n"
     ]
    }
   ],
   "source": [
    "print(10 + 3) # 13\n",
    "print(10 - 3) # 7\n",
    "print(10 * 3) # 30\n",
    "print(10 / 3) # 3.3333333333333335\n",
    "print(10 // 3) # 3\n",
    "print(10 % 3) # 1\n",
    "print(10 ** 3) # 1000\n",
    "\n",
    "x = 10\n",
    "x = x + 3\n",
    "x += 3 # 13\n",
    "x -= 3 # 7\n",
    "print(x)"
   ]
  },
  {
   "cell_type": "markdown",
   "id": "c474bed5",
   "metadata": {},
   "source": [
    "**Explanation:**\n",
    "- Use `+`, `-`, `*`, `/`, `//`, `%`, and `**` for arithmetic operations.\n",
    "- Compound assignment operators (`+=`, `-=`) update variables in place."
   ]
  },
  {
   "cell_type": "markdown",
   "id": "dbd44bb3",
   "metadata": {},
   "source": [
    "## 9. Operator Precedence  # BODMAS Rule\n",
    "\n",
    "Operator precedence determines the order in which operations are evaluated. Python follows the BODMAS/PEMDAS rule."
   ]
  },
  {
   "cell_type": "markdown",
   "id": "62609473",
   "metadata": {},
   "source": [
    "**Syntax:**\n",
    "```python\n",
    "# Use parentheses to control precedence\n",
    "(expression)\n",
    "```"
   ]
  },
  {
   "cell_type": "code",
   "execution_count": 9,
   "id": "ace1f577",
   "metadata": {},
   "outputs": [
    {
     "name": "stdout",
     "output_type": "stream",
     "text": [
      "16\n",
      "22\n",
      "52\n",
      "47\n"
     ]
    }
   ],
   "source": [
    "x = 10 + 3 * 2 # 16\n",
    "print(x)\n",
    "y = 10 + 3 * 2 ** 2\n",
    "print(y) # 22\n",
    "z = (10 + 3) * 2 ** 2\n",
    "print(z) # 52\n",
    "\n",
    "# Example:\n",
    "x = (2 + 3) * 10 - 3\n",
    "print(x) # 47"
   ]
  },
  {
   "cell_type": "markdown",
   "id": "cd052ac3",
   "metadata": {},
   "source": [
    "**Explanation:**\n",
    "- Parentheses `()` have the highest precedence.\n",
    "- Exponentiation `**` is next, followed by multiplication/division, then addition/subtraction.\n",
    "- Use parentheses to make order of operations explicit."
   ]
  },
  {
   "cell_type": "markdown",
   "id": "5821495c",
   "metadata": {},
   "source": [
    "## 10. Math Functions\n",
    "\n",
    "Python provides built-in and library math functions for rounding, absolute value, and more advanced operations."
   ]
  },
  {
   "cell_type": "markdown",
   "id": "066dae4d",
   "metadata": {},
   "source": [
    "**Syntax:**\n",
    "```python\n",
    "round(number)\n",
    "abs(number)\n",
    "import math\n",
    "math.ceil(number)\n",
    "math.floor(number)\n",
    "```"
   ]
  },
  {
   "cell_type": "code",
   "execution_count": 10,
   "id": "1b45c969",
   "metadata": {},
   "outputs": [
    {
     "name": "stdout",
     "output_type": "stream",
     "text": [
      "3\n",
      "2.9\n",
      "3\n",
      "2\n"
     ]
    }
   ],
   "source": [
    "x = 2.9\n",
    "print(round(x)) # 3\n",
    "print(abs(-x)) # 2.9\n",
    "\n",
    "import math # https://docs.python.org/3/library/math.html\n",
    "print(math.ceil(2.9)) # 3\n",
    "print(math.floor(2.9)) # 2"
   ]
  },
  {
   "cell_type": "markdown",
   "id": "01efb618",
   "metadata": {},
   "source": [
    "**Explanation:**\n",
    "- `round()` rounds a number to the nearest integer.\n",
    "- `abs()` returns the absolute value.\n",
    "- The `math` module provides additional functions like `ceil()` and `floor()`."
   ]
  },
  {
   "cell_type": "markdown",
   "id": "7402358c",
   "metadata": {},
   "source": [
    "## 11. Comparison Operators (> , >= , < , <= , == , !=)\n",
    "\n",
    "Comparison operators are used to compare values. They return a boolean result (True or False)."
   ]
  },
  {
   "cell_type": "markdown",
   "id": "3f5e1392",
   "metadata": {},
   "source": [
    "**Syntax:**\n",
    "```python\n",
    "# Comparison examples\n",
    "x > y\n",
    "x >= y\n",
    "x < y\n",
    "x <= y\n",
    "x == y\n",
    "x != y\n",
    "```"
   ]
  },
  {
   "cell_type": "code",
   "execution_count": 11,
   "id": "c9612331",
   "metadata": {},
   "outputs": [
    {
     "name": "stdout",
     "output_type": "stream",
     "text": [
      "It's a hot day\n"
     ]
    }
   ],
   "source": [
    "# Example: Temperature check\n",
    "def Temperature(temp):\n",
    "    if temp > 30:\n",
    "        print(\"It's a hot day\")\n",
    "    elif temp < 10:\n",
    "        print(\"It's a cold day\")\n",
    "    else:\n",
    "        print(\"It's neither hot nor cold\")\n",
    "\n",
    "temp = int(input(\"Enter the temperature in °C: \"))\n",
    "Temperature(temp)"
   ]
  },
  {
   "cell_type": "code",
   "execution_count": 12,
   "id": "b1e3b3f2",
   "metadata": {},
   "outputs": [
    {
     "name": "stdout",
     "output_type": "stream",
     "text": [
      "Looks good!\n"
     ]
    }
   ],
   "source": [
    "# Example: Name length validation\n",
    "def NameLength(Name):\n",
    "    if len(Name) < 3:\n",
    "        print(\"Name must be at least 3 characters\")\n",
    "    elif len(Name) > 50:\n",
    "        print(\"Name can be a maximum of 50 characters\")\n",
    "    else:\n",
    "        print(\"Looks good!\")\n",
    "\n",
    "Name = input(\"Enter your name: \")\n",
    "NameLength(Name)"
   ]
  },
  {
   "cell_type": "markdown",
   "id": "e5f9ef4d",
   "metadata": {},
   "source": [
    "**Explanation:**\n",
    "- `>` greater than, `<` less than, `>=` greater than or equal to, `<=` less than or equal to.\n",
    "- `==` checks equality, `!=` checks inequality.\n",
    "- Useful for making decisions based on comparisons."
   ]
  },
  {
   "cell_type": "markdown",
   "id": "e73421de",
   "metadata": {},
   "source": [
    "## 12. Project: Weight Converter\n",
    "\n",
    "A simple project to practice input, conditionals, and functions. This project demonstrates how to use user input, conditional statements, and functions to convert weight between kilograms and pounds."
   ]
  },
  {
   "cell_type": "markdown",
   "id": "f47f0a9e",
   "metadata": {},
   "source": [
    "**Syntax:**\n",
    "```python\n",
    "def function_name(parameters):\n",
    "    # code\n",
    "```"
   ]
  },
  {
   "cell_type": "code",
   "execution_count": 13,
   "id": "328745d6",
   "metadata": {},
   "outputs": [
    {
     "name": "stdout",
     "output_type": "stream",
     "text": [
      "You are 88.1848 pounds\n"
     ]
    }
   ],
   "source": [
    "def weightconverter(weight, unit):\n",
    "    if unit == \"k\":\n",
    "        print(f'You are {weight*2.20462} pounds')\n",
    "    elif unit == \"l\":\n",
    "        print(f'You are {weight*0.453592} kilos')\n",
    "\n",
    "weight = int(input(\"Weight: \"))\n",
    "unit = input(\"(L)bs or (K)g: \").lower()\n",
    "weightconverter(weight, unit)"
   ]
  },
  {
   "cell_type": "markdown",
   "id": "ee7e4877",
   "metadata": {},
   "source": [
    "**Explanation:**\n",
    "- The function checks the unit and performs the appropriate conversion.\n",
    "- Demonstrates function definition, input handling, and conditional logic."
   ]
  },
  {
   "cell_type": "markdown",
   "id": "7d8cb4b1",
   "metadata": {},
   "source": [
    "## 13. While Loop\n",
    "\n",
    "A `while` loop repeatedly executes a block of code as long as a condition is True. Useful for repeated input validation and repeated actions until a condition is met."
   ]
  },
  {
   "cell_type": "markdown",
   "id": "49e34913",
   "metadata": {},
   "source": [
    "**Syntax:**\n",
    "```python\n",
    "while condition:\n",
    "    # code block\n",
    "```"
   ]
  },
  {
   "cell_type": "code",
   "execution_count": 14,
   "id": "425c7b5c",
   "metadata": {},
   "outputs": [
    {
     "name": "stdout",
     "output_type": "stream",
     "text": [
      "1\n",
      "2\n",
      "3\n",
      "4\n",
      "5\n",
      "Done\n"
     ]
    }
   ],
   "source": [
    "# Example 1: Counting\n",
    "\n",
    "i = 1\n",
    "while i <= 5:\n",
    "    print(i)\n",
    "    i = i + 1\n",
    "print(\"Done\")"
   ]
  },
  {
   "cell_type": "code",
   "execution_count": 15,
   "id": "39a3c6b5",
   "metadata": {},
   "outputs": [
    {
     "name": "stdout",
     "output_type": "stream",
     "text": [
      "*\n",
      "**\n",
      "***\n",
      "****\n",
      "*****\n",
      "Done\n"
     ]
    }
   ],
   "source": [
    "# Example 2: Printing patterns\n",
    "\n",
    "i = 1\n",
    "while i <= 5:\n",
    "    print(\"*\" * i)\n",
    "    i = i + 1\n",
    "print(\"Done\")"
   ]
  },
  {
   "cell_type": "code",
   "execution_count": 16,
   "id": "04a5c78d",
   "metadata": {},
   "outputs": [
    {
     "name": "stdout",
     "output_type": "stream",
     "text": [
      "Hello Chikki\n"
     ]
    }
   ],
   "source": [
    "# Example 3: Input validation\n",
    "\n",
    "name = input(\"Enter your name: \")\n",
    "while name == \"\":\n",
    "    print(\"You did not enter your name\")\n",
    "    name = input(\"Enter your name again: \")\n",
    "print(f\"Hello {name}\")"
   ]
  },
  {
   "cell_type": "code",
   "execution_count": 17,
   "id": "43ec095e",
   "metadata": {},
   "outputs": [
    {
     "name": "stdout",
     "output_type": "stream",
     "text": [
      "You are good to go!\n"
     ]
    }
   ],
   "source": [
    "# Example 4: Age validation\n",
    "\n",
    "Age = int(input(\"Enter your age: \"))\n",
    "while Age < 0:\n",
    "    print(\"Age can't be negative\")\n",
    "    Age = int(input(\"Enter your age again: \"))\n",
    "print(\"You are good to go!\")"
   ]
  },
  {
   "cell_type": "code",
   "execution_count": 18,
   "id": "a2e84c87",
   "metadata": {},
   "outputs": [
    {
     "name": "stdout",
     "output_type": "stream",
     "text": [
      "Good taste\n",
      "Good taste\n",
      "Good taste\n",
      "Bye\n",
      "Bye\n"
     ]
    }
   ],
   "source": [
    "# Example 5: Quit with 'q'\n",
    "\n",
    "food = input(\"Enter a food you like (q to quit): \").lower()\n",
    "while not food == \"q\":\n",
    "    print(\"Good taste\")\n",
    "    food = input(\"Enter your another favourite food Type 'q' to quit: \").lower()\n",
    "print(\"Bye\")"
   ]
  },
  {
   "cell_type": "code",
   "execution_count": 19,
   "id": "82dcccda",
   "metadata": {},
   "outputs": [
    {
     "name": "stdout",
     "output_type": "stream",
     "text": [
      "5 is a number between 1 to 10\n"
     ]
    }
   ],
   "source": [
    "# Example 6: Number between 1 and 10\n",
    "\n",
    "num = int(input(\"Enter a number between 1 to 10: \"))\n",
    "while num < 1 or num > 10:\n",
    "    print(\"Number is invalid\")\n",
    "    num = int(input(\"Enter your number again: \"))\n",
    "print(f\"{num} is a number between 1 to 10\")"
   ]
  },
  {
   "cell_type": "code",
   "execution_count": 20,
   "id": "08e8cd48",
   "metadata": {},
   "outputs": [
    {
     "name": "stdout",
     "output_type": "stream",
     "text": [
      "8 is a number between 1 to 10\n",
      "Bye\n"
     ]
    }
   ],
   "source": [
    "# Example 7: Function for positive number till 10\n",
    "\n",
    "def PosNumTill10():\n",
    "    num = int(input(\"Enter a number between 1 to 10: \"))\n",
    "    while num < 1 or num > 10:\n",
    "        print(\"Number is invalid\")\n",
    "        num = int(input(\"Enter your number again: \"))\n",
    "    print(f\"{num} is a number between 1 to 10\")\n",
    "    print(\"Bye\")\n",
    "PosNumTill10()"
   ]
  },
  {
   "cell_type": "markdown",
   "id": "5cd61a22",
   "metadata": {},
   "source": [
    "**Explanation:**\n",
    "- The `while` loop is useful for repeated input validation and repeated actions until a condition is met.\n",
    "- Use `break` to exit a loop early if needed."
   ]
  },
  {
   "cell_type": "markdown",
   "id": "784c39de",
   "metadata": {},
   "source": [
    "## 14. While Loop Project: Guessing Game\n",
    "Guess a number from 1-10. You have 3 chances. Show \"You failed\" after 3 chances, or \"You Win\" if guessed correctly."
   ]
  },
  {
   "cell_type": "code",
   "execution_count": 21,
   "id": "99527d62",
   "metadata": {},
   "outputs": [
    {
     "name": "stdout",
     "output_type": "stream",
     "text": [
      "You Won!\n"
     ]
    }
   ],
   "source": [
    "def GuessingGame():\n",
    "    SecretNumber = 1\n",
    "    GuessCount = 0\n",
    "    GuessLimit = 3\n",
    "    while GuessCount < GuessLimit:\n",
    "        Guess = int(input(\"Enter your guess from 1 - 10: \"))\n",
    "        GuessCount += 1\n",
    "        if Guess == SecretNumber:\n",
    "            print(\"You Won!\")\n",
    "            break\n",
    "    else:\n",
    "        print(\"You Failed!\")\n",
    "GuessingGame()"
   ]
  },
  {
   "cell_type": "markdown",
   "id": "2552020b",
   "metadata": {},
   "source": [
    "**Explanation:**\n",
    "- The loop allows up to 3 guesses. If the correct number is guessed, the loop breaks and \"You Won!\" is printed. Otherwise, \"You Failed!\" is shown after 3 attempts."
   ]
  },
  {
   "cell_type": "markdown",
   "id": "5a7c13bb",
   "metadata": {},
   "source": [
    "## 15. While Loop Project: Car Game\n",
    "Simulate a car game with commands: help, start, stop, quit. Respond to user input accordingly."
   ]
  },
  {
   "cell_type": "code",
   "execution_count": 22,
   "id": "868c32c9",
   "metadata": {},
   "outputs": [
    {
     "name": "stdout",
     "output_type": "stream",
     "text": [
      "Car started.. Ready to go!\n",
      "Hey! car is already started...What are u doing?\n",
      "Hey! car is already started...What are u doing?\n",
      "Car stopped\n",
      "Car stopped\n"
     ]
    }
   ],
   "source": [
    "def CarGame():\n",
    "    started = False\n",
    "    while True:\n",
    "        command = input(\"> \").lower()\n",
    "        if command == \"help\":\n",
    "            print('''\\nstart - to start the car\\nstop - to stop the car\\nquit - to exit\\n''')\n",
    "        elif command == \"start\":\n",
    "            if started:\n",
    "                print(\"Hey! car is already started...What are u doing?\")\n",
    "            else:\n",
    "                print(\"Car started.. Ready to go!\")\n",
    "                started = True\n",
    "        elif command == \"stop\":\n",
    "            if not started:\n",
    "                print(\"Hey! car is already stopped...What are u doing?\")\n",
    "            else:\n",
    "                print(\"Car stopped\")\n",
    "                started = False\n",
    "        elif command == \"quit\":\n",
    "            break\n",
    "        else:\n",
    "            print(\"I don't understand that...\")\n",
    "CarGame()"
   ]
  },
  {
   "cell_type": "markdown",
   "id": "9fe755d1",
   "metadata": {},
   "source": [
    "**Explanation:**\n",
    "- Demonstrates infinite loops, command parsing, and state management with a boolean flag.\n",
    "- Use `break` to exit the loop when the user types 'quit'."
   ]
  },
  {
   "cell_type": "markdown",
   "id": "6d4c249b",
   "metadata": {},
   "source": [
    "## 16. For Loop\n",
    "\n",
    "A `for` loop is used to iterate over a sequence (like a string, list, or range)."
   ]
  },
  {
   "cell_type": "markdown",
   "id": "0ae551c6",
   "metadata": {},
   "source": [
    "**Syntax:**\n",
    "```python\n",
    "for variable in sequence:\n",
    "    # code block\n",
    "```"
   ]
  },
  {
   "cell_type": "code",
   "execution_count": 23,
   "id": "4d5cb8db",
   "metadata": {},
   "outputs": [
    {
     "name": "stdout",
     "output_type": "stream",
     "text": [
      "P\n",
      "y\n",
      "t\n",
      "h\n",
      "o\n",
      "n\n"
     ]
    }
   ],
   "source": [
    "# Example 1: Iterating over a string\n",
    "for item in \"Python\":\n",
    "    print(item)"
   ]
  },
  {
   "cell_type": "code",
   "execution_count": 24,
   "id": "2fb052f2",
   "metadata": {},
   "outputs": [
    {
     "name": "stdout",
     "output_type": "stream",
     "text": [
      "Sankarsh\n",
      "Pavana\n",
      "Sana\n"
     ]
    }
   ],
   "source": [
    "# Example 2: Iterating over a list\n",
    "for item in [\"Sankarsh\", \"Pavana\", \"Sana\"]:\n",
    "    print(item)"
   ]
  },
  {
   "cell_type": "code",
   "execution_count": 25,
   "id": "46305371",
   "metadata": {},
   "outputs": [
    {
     "name": "stdout",
     "output_type": "stream",
     "text": [
      "0\n",
      "1\n",
      "2\n",
      "3\n",
      "4\n",
      "5\n",
      "6\n",
      "7\n",
      "8\n",
      "9\n",
      "5\n",
      "7\n",
      "9\n"
     ]
    }
   ],
   "source": [
    "# Example 3: Iterating over a range\n",
    "for item in range(10):\n",
    "    print(item)\n",
    "for item in range(5, 10, 2):\n",
    "    print(item)"
   ]
  },
  {
   "cell_type": "code",
   "execution_count": 26,
   "id": "3b0cca23",
   "metadata": {},
   "outputs": [
    {
     "name": "stdout",
     "output_type": "stream",
     "text": [
      "0\n",
      "1\n",
      "2\n",
      "3\n",
      "4\n",
      "5\n",
      "6\n",
      "7\n",
      "8\n",
      "9\n"
     ]
    }
   ],
   "source": [
    "# Example 4: Iterating over a list of numbers\n",
    "for item in [0,1,2,3,4,5,6,7,8,9]:\n",
    "    print(item)"
   ]
  },
  {
   "cell_type": "markdown",
   "id": "9329285f",
   "metadata": {},
   "source": [
    "**Explanation:**\n",
    "- `for` loops are used for definite iteration (when you know how many times to loop).\n",
    "- `range(start, stop, step)` generates a sequence of numbers."
   ]
  },
  {
   "cell_type": "markdown",
   "id": "a3996196",
   "metadata": {},
   "source": [
    "### Example: Total Price in Shopping Cart\n",
    "\n",
    "**Question:** Find the total cost of all products in a shopping cart."
   ]
  },
  {
   "cell_type": "code",
   "execution_count": 27,
   "id": "5b0d08d3",
   "metadata": {},
   "outputs": [
    {
     "name": "stdout",
     "output_type": "stream",
     "text": [
      "Total price in cart: 60\n"
     ]
    }
   ],
   "source": [
    "prices = [10, 20, 30]\n",
    "total = 0\n",
    "for price in prices:\n",
    "    total += price\n",
    "print(f\"Total price in cart: {total}\")"
   ]
  },
  {
   "cell_type": "markdown",
   "id": "97723fcd",
   "metadata": {},
   "source": [
    "**Explanation:**\n",
    "- The loop adds each price to the total."
   ]
  },
  {
   "cell_type": "markdown",
   "id": "d12846b9",
   "metadata": {},
   "source": [
    "## 17. Nested For Loop\n",
    "\n",
    "A nested for loop is a loop inside another loop. Useful for working with 2D data or generating combinations."
   ]
  },
  {
   "cell_type": "markdown",
   "id": "fea89188",
   "metadata": {},
   "source": [
    "**Syntax:**\n",
    "```python\n",
    "for outer in sequence1:\n",
    "    for inner in sequence2:\n",
    "        # code block\n",
    "```"
   ]
  },
  {
   "cell_type": "code",
   "execution_count": 28,
   "id": "f00b608d",
   "metadata": {},
   "outputs": [
    {
     "name": "stdout",
     "output_type": "stream",
     "text": [
      "(0, 0)\n",
      "(0, 1)\n",
      "(0, 2)\n",
      "(0, 3)\n",
      "(1, 0)\n",
      "(1, 1)\n",
      "(1, 2)\n",
      "(1, 3)\n",
      "(2, 0)\n",
      "(2, 1)\n",
      "(2, 2)\n",
      "(2, 3)\n",
      "(3, 0)\n",
      "(3, 1)\n",
      "(3, 2)\n",
      "(3, 3)\n"
     ]
    }
   ],
   "source": [
    "# Example: Printing coordinate pairs\n",
    "for i in range(4):\n",
    "    for j in range(4):\n",
    "        print(f\"({i}, {j})\")"
   ]
  },
  {
   "cell_type": "markdown",
   "id": "9f48e5e0",
   "metadata": {},
   "source": [
    "### Example: Drawing patterns\n",
    "A common use of nested for loops is to draw patterns, such as printing a series of characters in a specific shape. Here, we use a list to determine how many times to print a character on each line."
   ]
  },
  {
   "cell_type": "markdown",
   "id": "e4b88319",
   "metadata": {},
   "source": [
    "**Syntax:**\n",
    "```python\n",
    "for outer in sequence:\n",
    "    for inner in sequence:\n",
    "        # code block\n",
    "```"
   ]
  },
  {
   "cell_type": "code",
   "execution_count": 29,
   "id": "0a1099a9",
   "metadata": {},
   "outputs": [
    {
     "name": "stdout",
     "output_type": "stream",
     "text": [
      "xxxxx\n",
      "xx\n",
      "xxxxx\n",
      "xx\n",
      "xx\n"
     ]
    }
   ],
   "source": [
    "numbers = [5, 2, 5, 2, 2]\n",
    "for x_count in numbers:\n",
    "    output = \"\"\n",
    "    for count in range(x_count):\n",
    "        output += \"x\"\n",
    "    print(output)"
   ]
  },
  {
   "cell_type": "markdown",
   "id": "3101e1a6",
   "metadata": {},
   "source": [
    "**Explanation:**\n",
    "- The outer loop iterates over each number in the list, which determines how many times to print 'x' on each line.\n",
    "- The inner loop builds a string of 'x' characters for each line.\n",
    "- This approach can be used to draw various patterns by changing the list values or the character."
   ]
  },
  {
   "cell_type": "markdown",
   "id": "67ef2e4e",
   "metadata": {},
   "source": [
    "## 18. Lists\n",
    "\n",
    "Lists are ordered, mutable collections of items. Use square brackets `[]` to define a list."
   ]
  },
  {
   "cell_type": "markdown",
   "id": "d395f23e",
   "metadata": {},
   "source": [
    "**Syntax:**\n",
    "```python\n",
    "list_name = [item1, item2, ...]\n",
    "```"
   ]
  },
  {
   "cell_type": "markdown",
   "id": "a3403cff",
   "metadata": {},
   "source": [
    "### Example: Basic list operations\n",
    "\n",
    "```python\n",
    "names = [\"Sankarsh\", \"Pavana\", \"Sana\"]\n",
    "print(names[1])\n",
    "print(names[1:3])\n",
    "print(names[:])\n",
    "names[0] = \"SANKARSH\"\n",
    "print(names)\n",
    "```"
   ]
  },
  {
   "cell_type": "markdown",
   "id": "58e30e2d",
   "metadata": {},
   "source": [
    "### Example: Find the largest number in a list"
   ]
  },
  {
   "cell_type": "code",
   "execution_count": 30,
   "id": "8234edb0",
   "metadata": {},
   "outputs": [
    {
     "name": "stdout",
     "output_type": "stream",
     "text": [
      "55\n"
     ]
    }
   ],
   "source": [
    "FamAges = [3, 24, 23, 34, 55, 1, 7]\n",
    "Max = FamAges[0]\n",
    "for big in FamAges:\n",
    "    if big > Max:\n",
    "        Max = big\n",
    "print(Max)"
   ]
  },
  {
   "cell_type": "markdown",
   "id": "3d239343",
   "metadata": {},
   "source": [
    "**Explanation:**\n",
    "- Lists can store any data type and are mutable (can be changed).\n",
    "- Use indexing and slicing to access elements.\n",
    "- Use loops to process list items."
   ]
  },
  {
   "cell_type": "markdown",
   "id": "15942700",
   "metadata": {},
   "source": [
    "## 19. 2D Lists\n",
    "\n",
    "A 2D list is a list of lists, useful for representing matrices or grids."
   ]
  },
  {
   "cell_type": "markdown",
   "id": "5669fa2b",
   "metadata": {},
   "source": [
    "**Syntax:**\n",
    "```python\n",
    "matrix = [\n",
    "    [1, 2, 3],\n",
    "    [4, 5, 6],\n",
    "    [7, 8, 9]\n",
    "]\n",
    "```"
   ]
  },
  {
   "cell_type": "markdown",
   "id": "05527bc5",
   "metadata": {},
   "source": [
    "### Example: Accessing and modifying 2D lists"
   ]
  },
  {
   "cell_type": "code",
   "execution_count": 31,
   "id": "9ee2ed3c",
   "metadata": {},
   "outputs": [
    {
     "name": "stdout",
     "output_type": "stream",
     "text": [
      "[[1, 2, 3], [4, 5, 6], [20, 8, 9]]\n",
      "1\n",
      "2\n",
      "3\n",
      "4\n",
      "5\n",
      "6\n",
      "20\n",
      "8\n",
      "9\n"
     ]
    }
   ],
   "source": [
    "matrix = [\n",
    "    [1, 2, 3],\n",
    "    [4, 5, 6],\n",
    "    [7, 8, 9]\n",
    "]\n",
    "matrix[2][0] = 20\n",
    "print(matrix)\n",
    "for row in matrix:\n",
    "    for item in row:\n",
    "        print(item)"
   ]
  },
  {
   "cell_type": "markdown",
   "id": "cf9a1b4f",
   "metadata": {},
   "source": [
    "## 20. List Methods\n",
    "\n",
    "Python lists have many built-in methods for adding, removing, and manipulating items."
   ]
  },
  {
   "cell_type": "markdown",
   "id": "96c794c1",
   "metadata": {},
   "source": [
    "**Syntax:**\n",
    "```python\n",
    "list.append(item)\n",
    "list.insert(index, item)\n",
    "list.remove(item)\n",
    "list.pop()\n",
    "list.clear()\n",
    "list.index(item)\n",
    "list.count(item)\n",
    "list.sort()\n",
    "list.reverse()\n",
    "list.copy()\n",
    "```"
   ]
  },
  {
   "cell_type": "markdown",
   "id": "f92d365e",
   "metadata": {},
   "source": [
    "### Example: List methods"
   ]
  },
  {
   "cell_type": "code",
   "execution_count": 32,
   "id": "65304e7c",
   "metadata": {},
   "outputs": [
    {
     "name": "stdout",
     "output_type": "stream",
     "text": [
      "[5, 2, 1, 7, 5, 4, 20]\n",
      "[5, 2, 10, 1, 7, 5, 4, 20]\n",
      "[2, 10, 1, 7, 5, 4, 20]\n",
      "[]\n",
      "[5, 2, 1, 7, 5]\n",
      "1\n",
      "False\n",
      "2\n",
      "[1, 2, 5, 5, 7]\n",
      "[7, 5, 5, 2, 1]\n",
      "[7, 5, 5, 2, 1]\n",
      "[7, 5, 5, 2, 1]\n",
      "[7, 5, 5, 2, 1, 5]\n"
     ]
    }
   ],
   "source": [
    "numbers = [5, 2, 1, 7, 5, 4]\n",
    "numbers.append(20)\n",
    "print(numbers)\n",
    "numbers.insert(2, 10)\n",
    "print(numbers)\n",
    "numbers.remove(5)\n",
    "print(numbers)\n",
    "numbers.clear()\n",
    "print(numbers)\n",
    "numbers = [5, 2, 1, 7, 5, 4]\n",
    "numbers.pop()\n",
    "print(numbers)\n",
    "x = numbers.index(2)\n",
    "print(x)\n",
    "print(50 in numbers)\n",
    "x = numbers.count(5)\n",
    "print(x)\n",
    "numbers.sort()\n",
    "print(numbers)\n",
    "numbers.reverse()\n",
    "print(numbers)\n",
    "numbers2 = numbers.copy()\n",
    "print(numbers2)\n",
    "numbers2.append(5)\n",
    "print(numbers)\n",
    "print(numbers2)"
   ]
  },
  {
   "cell_type": "markdown",
   "id": "e8d19b93",
   "metadata": {},
   "source": [
    "### Example: Remove duplicates from a list"
   ]
  },
  {
   "cell_type": "code",
   "execution_count": 33,
   "id": "74789286",
   "metadata": {},
   "outputs": [
    {
     "name": "stdout",
     "output_type": "stream",
     "text": [
      "[28, 12, 2001, 'Sankarsh', 13, 'Nischal']\n"
     ]
    }
   ],
   "source": [
    "lis = [28, 12, 2001, \"Sankarsh\", 13, 12, 2001, \"Nischal\"]\n",
    "uniques = []\n",
    "for item in lis:\n",
    "    if item not in uniques:\n",
    "        uniques.append(item)\n",
    "print(uniques)"
   ]
  },
  {
   "cell_type": "markdown",
   "id": "4bb51e61",
   "metadata": {},
   "source": [
    "**Explanation:**\n",
    "- Use list methods to add, remove, or find items.\n",
    "- Use a loop and a new list to remove duplicates."
   ]
  },
  {
   "cell_type": "markdown",
   "id": "725b95be",
   "metadata": {},
   "source": [
    "## 21. Tuples\n",
    "\n",
    "Tuples are ordered, immutable collections. Use parentheses `()` to define a tuple."
   ]
  },
  {
   "cell_type": "markdown",
   "id": "c89049ac",
   "metadata": {},
   "source": [
    "**Syntax:**\n",
    "```python\n",
    "tuple_name = (item1, item2, ...)\n",
    "```"
   ]
  },
  {
   "cell_type": "markdown",
   "id": "e186014e",
   "metadata": {},
   "source": [
    "### Example: Tuple operations"
   ]
  },
  {
   "cell_type": "code",
   "execution_count": 34,
   "id": "0313b929",
   "metadata": {},
   "outputs": [
    {
     "name": "stdout",
     "output_type": "stream",
     "text": [
      "2\n",
      "(1, 2, 3, 4, 3)\n",
      "1\n",
      "2\n"
     ]
    }
   ],
   "source": [
    "numbers = (1, 2, 3, 4, 3)\n",
    "print(numbers[1])\n",
    "# numbers[0] = 10 # TypeError: 'tuple' object does not support item assignment\n",
    "print(numbers)\n",
    "x = numbers.index(2)\n",
    "print(x)\n",
    "x = numbers.count(3)\n",
    "print(x)"
   ]
  },
  {
   "cell_type": "markdown",
   "id": "2b8387ef",
   "metadata": {},
   "source": [
    "**Explanation:**\n",
    "- Tuples cannot be changed after creation (immutable).\n",
    "- Use `.index()` and `.count()` to find values in a tuple."
   ]
  },
  {
   "cell_type": "markdown",
   "id": "60774b08",
   "metadata": {},
   "source": [
    "## 22. Dictionaries\n",
    "\n",
    "Dictionaries store key-value pairs. Use curly braces `{}` to define a dictionary."
   ]
  },
  {
   "cell_type": "markdown",
   "id": "9b35dba7",
   "metadata": {},
   "source": [
    "**Syntax:**\n",
    "```python\n",
    "dict_name = {\"key1\": value1, \"key2\": value2}\n",
    "```"
   ]
  },
  {
   "cell_type": "code",
   "execution_count": 35,
   "id": "bddd57a2",
   "metadata": {},
   "outputs": [
    {
     "name": "stdout",
     "output_type": "stream",
     "text": [
      "Sankarsh\n",
      "Dec 28 2001\n",
      "Cookie\n",
      "6013399095\n"
     ]
    }
   ],
   "source": [
    "customer = {\n",
    "    \"name\": \"Sankarsh\",\n",
    "    \"age\": 23,\n",
    "    \"is_verified\": True\n",
    "}\n",
    "print(customer.get(\"name\"))\n",
    "print(customer.get(\"birthdate\", \"Dec 28 2001\"))\n",
    "customer[\"name\"] = \"Cookie\"\n",
    "print(customer[\"name\"])\n",
    "customer[\"phone number\"] = 6013399095\n",
    "print(customer[\"phone number\"])"
   ]
  },
  {
   "cell_type": "code",
   "execution_count": 36,
   "id": "c6f82a0d",
   "metadata": {},
   "outputs": [
    {
     "name": "stdout",
     "output_type": "stream",
     "text": [
      "six zero one three three nine nine zero nine five \n"
     ]
    }
   ],
   "source": [
    "# Example: Phone number to words\n",
    "phone = input(\"phone: \")\n",
    "numbers = {\"1\": \"one\", \"2\": \"two\", \"3\": \"three\", \"4\": \"four\", \"5\": \"five\", \"6\": \"six\", \"7\": \"seven\", \"8\": \"eight\", \"9\": \"nine\", \"0\": \"zero\"}\n",
    "output = \"\"\n",
    "for char in phone:\n",
    "    output = output + numbers.get(char) + \" \"\n",
    "print(output)"
   ]
  },
  {
   "cell_type": "code",
   "execution_count": 37,
   "id": "bdf08ed9",
   "metadata": {},
   "outputs": [
    {
     "name": "stdout",
     "output_type": "stream",
     "text": [
      "['Hey,', 'This', 'is', 'Sankarsh', 'Nellutla.', 'Good', 'to', 'meet', 'you.']\n"
     ]
    }
   ],
   "source": [
    "# Example: Split message into words\n",
    "message = input(\"> \")\n",
    "words = message.split(' ')\n",
    "print(words)"
   ]
  },
  {
   "cell_type": "code",
   "execution_count": 38,
   "id": "ecc42c40",
   "metadata": {},
   "outputs": [
    {
     "name": "stdout",
     "output_type": "stream",
     "text": [
      "😘 \n"
     ]
    }
   ],
   "source": [
    "# Example: Emoji converter\n",
    "message = input(\"> \")\n",
    "emojis = {\":)\": \"😀\", \":(\": \"☹️\", \":3\": \"😘\"}\n",
    "words = message.split(\" \")\n",
    "output = \"\"\n",
    "for word in words:\n",
    "    output = output + emojis.get(word, word) + \" \"\n",
    "print(output)"
   ]
  },
  {
   "cell_type": "markdown",
   "id": "edf4d668",
   "metadata": {},
   "source": [
    "## 23. Functions\n",
    "\n",
    "Functions are reusable blocks of code that perform a specific task. Define functions with `def` and call them by name."
   ]
  },
  {
   "cell_type": "markdown",
   "id": "82db1b10",
   "metadata": {},
   "source": [
    "**Syntax:**\n",
    "```python\n",
    "def function_name(parameters):\n",
    "    # code block\n",
    "```"
   ]
  },
  {
   "cell_type": "code",
   "execution_count": 39,
   "id": "b5d782cb",
   "metadata": {},
   "outputs": [
    {
     "name": "stdout",
     "output_type": "stream",
     "text": [
      "Start\n",
      "Hii there!\n",
      "Welcome aboard\n",
      "Finish\n"
     ]
    }
   ],
   "source": [
    "def greeting_message():\n",
    "    print(\"Hii there!\")\n",
    "    print(\"Welcome aboard\")\n",
    "\n",
    "print(\"Start\")\n",
    "greeting_message()\n",
    "print(\"Finish\")"
   ]
  },
  {
   "cell_type": "code",
   "execution_count": 40,
   "id": "b18e0324",
   "metadata": {},
   "outputs": [
    {
     "name": "stdout",
     "output_type": "stream",
     "text": [
      "Start\n",
      "Hii Sankarsh Nellutla!\n",
      "Welcome aboard\n",
      "Finish\n"
     ]
    }
   ],
   "source": [
    "def greeting_message(first_name, last_name):\n",
    "    print(f'Hii {first_name} {last_name}!')\n",
    "    print(\"Welcome aboard\")\n",
    "\n",
    "print(\"Start\")\n",
    "greeting_message(\"Sankarsh\", \"Nellutla\")\n",
    "print(\"Finish\")"
   ]
  },
  {
   "cell_type": "code",
   "execution_count": 41,
   "id": "99346d57",
   "metadata": {},
   "outputs": [
    {
     "name": "stdout",
     "output_type": "stream",
     "text": [
      "Start\n",
      "Hii Sankarsh Nellutla!\n",
      "Welcome aboard\n",
      "Hii sankarsh Nellutla!\n",
      "Welcome aboard\n",
      "Hii Pavana Chikkala!\n",
      "Welcome aboard\n",
      "Finish\n"
     ]
    }
   ],
   "source": [
    "def greeting_message(first_name, last_name):\n",
    "    print(f'Hii {first_name} {last_name}!')\n",
    "    print(\"Welcome aboard\")\n",
    "\n",
    "print(\"Start\")\n",
    "greeting_message(last_name=\"Nellutla\", first_name=\"Sankarsh\")\n",
    "greeting_message(\"sankarsh\", last_name=\"Nellutla\")\n",
    "greeting_message(\"Pavana\", \"Chikkala\")\n",
    "print(\"Finish\")\n",
    "# Note: Positional arguments must come before keyword arguments."
   ]
  },
  {
   "cell_type": "code",
   "execution_count": 42,
   "id": "a5e7cd41",
   "metadata": {},
   "outputs": [
    {
     "name": "stdout",
     "output_type": "stream",
     "text": [
      "25\n"
     ]
    }
   ],
   "source": [
    "def square(number):\n",
    "    return number * number\n",
    "\n",
    "number = int(input(\"enter a number: \"))\n",
    "print(square(number))"
   ]
  },
  {
   "cell_type": "markdown",
   "id": "2492cac9",
   "metadata": {},
   "source": [
    "## 24. Creating a Reusable Function\n",
    "\n",
    "Reusable functions help avoid code duplication and make programs modular."
   ]
  },
  {
   "cell_type": "code",
   "execution_count": 43,
   "id": "7b5449f1",
   "metadata": {},
   "outputs": [
    {
     "name": "stdout",
     "output_type": "stream",
     "text": [
      "😀 \n"
     ]
    }
   ],
   "source": [
    "# # Example: Emoji converter as a function\n",
    "def emoji_converter(message):\n",
    "    emojis = {\":)\": \"😀\", \":(\": \"☹️\", \":3\": \"😘\"}\n",
    "    words = message.split(\" \")\n",
    "    output = \"\"\n",
    "    for word in words:\n",
    "        output = output + emojis.get(word, word) + \" \"\n",
    "    return output\n",
    "message = input(\"> \")\n",
    "print(emoji_converter(message))"
   ]
  },
  {
   "cell_type": "markdown",
   "id": "fc4b9799",
   "metadata": {},
   "source": [
    "**Explanation:**\n",
    "- Functions can return processed results for reuse elsewhere in your code."
   ]
  },
  {
   "cell_type": "markdown",
   "id": "1446913e",
   "metadata": {},
   "source": [
    "## 25. Exceptions\n",
    "\n",
    "Exceptions are errors detected during execution. Use `try`, `except` blocks to handle them gracefully."
   ]
  },
  {
   "cell_type": "markdown",
   "id": "f7e11763",
   "metadata": {},
   "source": [
    "**Syntax:**\n",
    "```python\n",
    "try:\n",
    "    # code that may raise an exception\n",
    "except ExceptionType:\n",
    "    # code to handle the exception\n",
    "```"
   ]
  },
  {
   "cell_type": "markdown",
   "id": "e5b5b313",
   "metadata": {},
   "source": [
    "### Example: Handling ValueError and ZeroDivisionError"
   ]
  },
  {
   "cell_type": "code",
   "execution_count": 44,
   "id": "5fcabe1a",
   "metadata": {},
   "outputs": [
    {
     "name": "stdout",
     "output_type": "stream",
     "text": [
      "90909090.9090909\n"
     ]
    }
   ],
   "source": [
    "try:\n",
    "    age = int(input(\"Enter your age: \"))\n",
    "    income = 2000000000\n",
    "    risk = income / age\n",
    "    print(risk)\n",
    "except ValueError:\n",
    "    print(\"Invalid input\")\n",
    "except ZeroDivisionError:\n",
    "    print(\"Age cannot be 0.\")"
   ]
  },
  {
   "cell_type": "markdown",
   "id": "9c7810be",
   "metadata": {},
   "source": [
    "**Explanation:**\n",
    "- Use `try` to wrap code that might fail.\n",
    "- Use `except` to catch and handle specific exceptions.\n",
    "- Prevents program from crashing due to common input errors."
   ]
  }
 ],
 "metadata": {
  "kernelspec": {
   "display_name": "Python 3",
   "language": "python",
   "name": "python3"
  },
  "language_info": {
   "codemirror_mode": {
    "name": "ipython",
    "version": 3
   },
   "file_extension": ".py",
   "mimetype": "text/x-python",
   "name": "python",
   "nbconvert_exporter": "python",
   "pygments_lexer": "ipython3",
   "version": "3.12.4"
  }
 },
 "nbformat": 4,
 "nbformat_minor": 5
}
