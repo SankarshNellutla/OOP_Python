{
 "cells": [
  {
   "cell_type": "markdown",
   "id": "8c9befef",
   "metadata": {},
   "source": [
    "### 1. Dog Class\n",
    "\n",
    "Define a Dog class with a name attribute and a bark() method that prints \"\"name\" says: Woof!\".\n",
    "\n",
    "Create two dogs and call bark() on each."
   ]
  },
  {
   "cell_type": "code",
   "execution_count": null,
   "id": "425beeae",
   "metadata": {},
   "outputs": [],
   "source": [
    "class Dog:\n",
    "    def __init__(self,name):\n",
    "        self.name = name\n",
    "    \n",
    "    def bark(self):\n",
    "        print(f\"{self.name} says: Woof!\")\n",
    "\n",
    "dog1 = Dog(\"gojo\")\n",
    "dog2 = Dog(\"jugo\")\n",
    "\n",
    "dog1.bark()\n",
    "dog2.bark()"
   ]
  },
  {
   "cell_type": "markdown",
   "id": "c1b1867c",
   "metadata": {},
   "source": [
    "### 2. Rectangle Class\n",
    "\n",
    "Write a Rectangle class with width and height.\n",
    "\n",
    "Add methods area() and perimeter().\n",
    "\n",
    "Instantiate one rectangle and print its area and perimeter."
   ]
  },
  {
   "cell_type": "code",
   "execution_count": null,
   "id": "58ce8cf3",
   "metadata": {},
   "outputs": [],
   "source": [
    "class Rectangle:\n",
    "    def __init__(self, width, height):\n",
    "        self.width = width\n",
    "        self.height = height\n",
    "\n",
    "    def area(self):\n",
    "        print(self.width*self.height)\n",
    "\n",
    "    def perimeter(self):\n",
    "        print(2*(self.width+self.height))\n",
    "    \n",
    "rectangle = Rectangle(width=3, height=5)\n",
    "\n",
    "rectangle.area()\n",
    "rectangle.perimeter()\n"
   ]
  },
  {
   "cell_type": "markdown",
   "id": "827825ba",
   "metadata": {},
   "source": [
    "### 3. BankAccount with Error\n",
    "\n",
    "Implement BankAccount with owner and balance.\n",
    "\n",
    "deposit(amount) adds to balance; withdraw(amount) subtracts but raises a custom OverdrawError (you define) if amount > balance.\n",
    "\n",
    "Demonstrate both a successful withdraw and a caught exception."
   ]
  },
  {
   "cell_type": "code",
   "execution_count": null,
   "id": "3809802e",
   "metadata": {},
   "outputs": [],
   "source": [
    "class BankAccount:\n",
    "    def __init__(self, owner, balance):\n",
    "        self.owner = owner\n",
    "        self.balance =  balance\n",
    "\n",
    "    def deposit(self, amount):\n",
    "        print(f\"₹{amount} added to your account. Total balance is ₹{self.balance + amount}\") \n",
    "\n",
    "    def withdraw(self, amount):\n",
    "        if self.balance > amount:\n",
    "            print(f\"₹{amount} withdrawn from your account. Total balance is ₹{self.balance - amount}\")\n",
    "        else:\n",
    "            print(\"Insufficient funds\")\n",
    "\n",
    "acnt301272 = BankAccount(owner = \"Prem\", balance = 10000000)\n",
    "\n",
    "acnt301272.deposit(9999)\n",
    "acnt301272.withdraw(9900000)\n",
    "acnt301272.withdraw(10000001)"
   ]
  },
  {
   "cell_type": "markdown",
   "id": "2c7be3ce",
   "metadata": {},
   "source": [
    "### 4. Student School\n",
    "\n",
    "- Create Student with instance attributes name, grade, and a class variable school = \"XYZ High\".\n",
    "- Instantiate two students, then print each student’s name, grade, and school."
   ]
  },
  {
   "cell_type": "code",
   "execution_count": null,
   "id": "4e079964",
   "metadata": {},
   "outputs": [],
   "source": [
    "class Student:\n",
    "    school = \"XYZ High\"\n",
    "\n",
    "    def __init__(self, name, grade):\n",
    "        self.name = name\n",
    "        self.grade = grade\n",
    "\n",
    "student1 = Student(\"Ramesh\", 9)\n",
    "student2 = Student(\"Suresh\", 10)\n",
    "\n",
    "\n",
    "print(student1.name)\n",
    "print(student1.grade)\n",
    "print(student1.school)\n",
    "print(student2.name)\n",
    "print(student2.grade)\n",
    "print(student2.school)"
   ]
  },
  {
   "cell_type": "markdown",
   "id": "87347398",
   "metadata": {},
   "source": [
    "### 5. Circle Pi Override\n",
    "\n",
    "- Define Circle with class variable pi = 3.14.\n",
    "- In __init__, take radius.\n",
    "- Compute and print the circle’s area.\n",
    "- Then override pi on one instance and show the difference."
   ]
  },
  {
   "cell_type": "code",
   "execution_count": null,
   "id": "fb2731b1",
   "metadata": {},
   "outputs": [],
   "source": [
    "class Circle:\n",
    "    pi = 3.14\n",
    "\n",
    "    def __init__(self,radius):\n",
    "        self.radius = radius\n",
    "\n",
    "    def area(self):\n",
    "        print(self.pi*self.radius**2)\n",
    "\n",
    "\n",
    "circle1 = Circle(3)\n",
    "circle2 = Circle(5)\n",
    "\n",
    "circle1.area()\n",
    "\n",
    "circle1.pi = 4\n",
    "\n",
    "circle1.area()\n",
    "circle2.area()"
   ]
  },
  {
   "cell_type": "markdown",
   "id": "32bd4089",
   "metadata": {},
   "source": [
    "### 6. LightSwitch\n",
    "\n",
    "- Build LightSwitch that starts off (self.on = False).\n",
    "- flip() toggles self.on, and status() prints \"On\" or \"Off\".\n",
    "- Flip twice, printing status each time."
   ]
  },
  {
   "cell_type": "code",
   "execution_count": null,
   "id": "2edb1924",
   "metadata": {},
   "outputs": [],
   "source": [
    "class Lightswitch():\n",
    "    def __init__(self):\n",
    "        self.on = False\n",
    "    \n",
    "    def flip(self):\n",
    "        # if self.on == False:\n",
    "        #     self.on = True\n",
    "        # else:\n",
    "        #     self.on = False\n",
    "        self.on = not self.on\n",
    "\n",
    "    def status(self):\n",
    "        print(f\"{\"Off\" if self.on else \"On\"}\")\n",
    "\n",
    "ls1 = Lightswitch()\n",
    "\n",
    "ls1.status()\n",
    "\n",
    "ls1.flip()\n",
    "ls1.status()\n",
    "\n",
    "ls1.flip()\n",
    "ls1.status()\n",
    "\n",
    "ls1.flip()\n",
    "ls1.status()\n",
    "\n",
    "ls1.status()"
   ]
  },
  {
   "cell_type": "markdown",
   "id": "fd008f9e",
   "metadata": {},
   "source": [
    "### 7. Counter with Step\n",
    "\n",
    "- Write Counter with count (start at 0) and a method incr(step=1) that increases by step.\n",
    "- Add reset() to zero it.\n",
    "- Show incr(3), incr(), then reset(), printing after each."
   ]
  },
  {
   "cell_type": "code",
   "execution_count": null,
   "id": "ef65cbb8",
   "metadata": {},
   "outputs": [],
   "source": [
    "class Counter:\n",
    "    def __init__(self):\n",
    "        self.count = 0\n",
    "\n",
    "    def incr(self, step = 1):\n",
    "        self.count += step\n",
    "        return self.count\n",
    "\n",
    "    def reset(self):\n",
    "        self.count = 0\n",
    "        return self.count\n",
    "    \n",
    "cnt1 = Counter()\n",
    "\n",
    "print(cnt1.incr(3))\n",
    "print(cnt1.incr(4))\n",
    "print(cnt1.incr(9))\n",
    "print(cnt1.incr())\n",
    "print(cnt1.reset())\n",
    "print(cnt1.incr(9))\n",
    "print(cnt1.incr(9))\n",
    "print(cnt1.incr(9))\n"
   ]
  },
  {
   "cell_type": "markdown",
   "id": "0f805276",
   "metadata": {},
   "source": [
    "### 8. Vehicle → Car\n",
    "\n",
    "- Base class Vehicle with start() printing \"Vehicle started\".\n",
    "- Subclass Car overrides start() to print \"Car engine roaring\".\n",
    "- Instantiate each and call start().\n",
    "\n"
   ]
  },
  {
   "cell_type": "code",
   "execution_count": null,
   "id": "ed19a0e0",
   "metadata": {},
   "outputs": [],
   "source": [
    "class Vehicle:\n",
    "    def start(self):\n",
    "        print(\"Vehicle started\")\n",
    "\n",
    "class Car(Vehicle):\n",
    "    def start(self):\n",
    "        print(\"Car engine roaring\")\n",
    "\n",
    "vehicle1 = Vehicle() \n",
    "car1 = Car()\n",
    "\n",
    "vehicle1.start()\n",
    "car1.start()\n"
   ]
  },
  {
   "cell_type": "markdown",
   "id": "9a12d719",
   "metadata": {},
   "source": [
    "### 9. Employee → Manager\n",
    "\n",
    "- Employee has name and salary.\n",
    "- Manager(Employee) adds team_size.\n",
    "- Use super() in Manager.__init__.\n",
    "- Write a details() method on both classes that prints all their attributes."
   ]
  },
  {
   "cell_type": "code",
   "execution_count": null,
   "id": "46a4806a",
   "metadata": {},
   "outputs": [],
   "source": [
    "class Employee:\n",
    "    def __init__(self, name, salary):\n",
    "        self.name = name\n",
    "        self.salary = salary\n",
    "\n",
    "class Manager(Employee):\n",
    "    def __init__(self, name, salary, team_size):\n",
    "        super().__init__(name, salary)\n",
    "        self.team_size = team_size\n",
    "\n",
    "employee1 = Employee(name = \"sankarsh\", salary = 430000)\n",
    "manager1 = Manager(name = \"pavana\", salary = 500000, team_size = 1)\n",
    "\n",
    "print(employee1.name)\n",
    "print(employee1.salary)\n",
    "print(manager1.name)\n",
    "print(manager1.salary)\n",
    "print(manager1.team_size)"
   ]
  },
  {
   "cell_type": "markdown",
   "id": "985bd617",
   "metadata": {},
   "source": [
    "### 10. Playable Interface\n",
    "\n",
    "- Abstract class or just base Playable with a stub play().\n",
    "- Subclasses Guitar, Piano implement play() differently.\n",
    "- Loop over a list of instruments and call play()."
   ]
  },
  {
   "cell_type": "code",
   "execution_count": null,
   "id": "a0d9a4c6",
   "metadata": {},
   "outputs": [],
   "source": [
    "from abc import ABC, abstractmethod\n",
    "class Playable(ABC):\n",
    "    @abstractmethod\n",
    "    def play(self):\n",
    "        pass\n",
    "\n",
    "class Guitar(Playable):\n",
    "    def play(self):\n",
    "        print(\"pull the strings\")\n",
    "\n",
    "class Piano(Playable):\n",
    "    def play(self):\n",
    "        print(\"press the keys\")\n",
    "\n",
    "guitar1 = Guitar()\n",
    "guitar2 = Guitar()\n",
    "piano1 = Piano()\n",
    "guitar3 = Guitar()\n",
    "piano2 = Piano()\n",
    "\n",
    "instruments = [guitar1, guitar2, piano1, guitar3]\n",
    "\n",
    "for instrument in instruments:\n",
    "    instrument.play()"
   ]
  },
  {
   "cell_type": "markdown",
   "id": "029b8a66",
   "metadata": {},
   "source": [
    "### 11. Duck Typing Function\n",
    "\n",
    "- Write describe(obj) that tries to call obj.describe() and, if missing, prints \"No description available\".\n",
    "\n",
    "- Create two classes—one with describe(), one without—and pass both to describe()."
   ]
  },
  {
   "cell_type": "code",
   "execution_count": null,
   "id": "0c8fe8c9",
   "metadata": {},
   "outputs": [],
   "source": [
    "class Dog:\n",
    "    def describe(self):\n",
    "        print(\"I am dog\")\n",
    "\n",
    "class Cat:\n",
    "    pass\n",
    "\n",
    "def describe(obj):\n",
    "    if hasattr(obj, \"describe\") and callable(obj.describe):\n",
    "        obj.describe()\n",
    "    else:\n",
    "        print(\"No description available\")\n",
    "\n",
    "pets = [Dog(), Cat()]\n",
    "\n",
    "for pet in pets:\n",
    "    describe(pet)"
   ]
  },
  {
   "cell_type": "markdown",
   "id": "fdf0cea5",
   "metadata": {},
   "source": [
    "### 12. Library & Book (Aggregation)\n",
    "\n",
    "- Book(title, author) simple class.\n",
    "- Library(name) holds a list of books added via add_book().\n",
    "- List all books’ titles."
   ]
  },
  {
   "cell_type": "code",
   "execution_count": null,
   "id": "c85ece8c",
   "metadata": {},
   "outputs": [],
   "source": [
    "class Book:\n",
    "    def __init__(self, title, author):\n",
    "        self.title = title\n",
    "        self.author = author\n",
    "\n",
    "class Library:\n",
    "    def __init__(self, name):\n",
    "        self.name = name\n",
    "        self.books = []\n",
    "    \n",
    "    def add_book(self, book):\n",
    "        self.books.append(book)\n",
    "\n",
    "    def list_books(self):\n",
    "        for book in self.books:\n",
    "            print(book.title)\n",
    "\n",
    "    \n",
    "\n",
    "\n",
    "lib1 = Library(\"Warangal public library\")\n",
    "\n",
    "book1 = Book(\"N\", \"Prem\")\n",
    "book2 = Book(\"Ch\", \"Raja\")\n",
    "book3 = Book(\"B\", \"Saravan\")\n",
    "\n",
    "lib1.add_book(book1)\n",
    "lib1.add_book(book2)\n",
    "lib1.add_book(book3)\n",
    "\n",
    "lib1.list_books()"
   ]
  },
  {
   "cell_type": "markdown",
   "id": "c700c61a",
   "metadata": {},
   "source": [
    "### 13. Car & Engine (Composition)\n",
    "\n",
    "- Engine(horse_power), and Car(make, model, horse_power) creates its own Engine internally.\n",
    "- Add display() on Car to show its make, model, and engine’s horsepowe"
   ]
  },
  {
   "cell_type": "code",
   "execution_count": null,
   "id": "1c6a120d",
   "metadata": {},
   "outputs": [],
   "source": [
    "class Engine:\n",
    "    def __init__(self, horse_power):\n",
    "        self.horse_power = horse_power\n",
    "        \n",
    "class Car:\n",
    "    def __init__(self, make, model, horse_power):\n",
    "        self.make = make\n",
    "        self.model = model\n",
    "        self.engine = Engine(horse_power)\n",
    "        \n",
    "    def display(self):\n",
    "        return f\"{self.make} {self.model} {self.engine.horse_power}hp\"\n",
    "\n",
    "car1 = Car(make=\"Hyundai\", model=\"I20\", horse_power=300)\n",
    "\n",
    "print(car1.display())"
   ]
  },
  {
   "cell_type": "markdown",
   "id": "39923530",
   "metadata": {},
   "source": [
    "### 14. Shape ABC\n",
    "\n",
    "- Use abc.ABC to define Shape with abstract area().\n",
    "- Implement Circle & Square.\n",
    "- Instantiate each and print its area."
   ]
  },
  {
   "cell_type": "code",
   "execution_count": null,
   "id": "577736a9",
   "metadata": {},
   "outputs": [],
   "source": [
    "from abc import ABC, abstractmethod\n",
    "\n",
    "class Shape(ABC):\n",
    "    @abstractmethod\n",
    "    def area(self):\n",
    "        pass\n",
    "\n",
    "class Circle(Shape):\n",
    "    def __init__(self, radius):\n",
    "        self.radius =radius\n",
    "    def area(self):\n",
    "        print(3.14*self.radius**2)\n",
    "\n",
    "class Square(Shape):\n",
    "    def __init__(self, side):\n",
    "        self.side = side\n",
    "    def area(self):\n",
    "        print(self.side**2)\n",
    "\n",
    "circle1 = Circle(3)\n",
    "square1 = Square(4)\n",
    "\n",
    "circle1.area()\n",
    "square1.area()"
   ]
  },
  {
   "cell_type": "markdown",
   "id": "e80deb5f",
   "metadata": {},
   "source": [
    "### 15. Zoo App\n",
    "\n",
    "- Build a Zoo class that aggregates animals.\n",
    "- Animal base with name and speak().\n",
    "- Subclasses like Lion, Parrot.\n",
    "- Zoo.add_animal(a) and Zoo.make_noise() loops through and calls speak().\n",
    "- Show a sample run with at least 3 animals.\n",
    "\n",
    "\n",
    "#### Expected Output\n"
   ]
  },
  {
   "cell_type": "code",
   "execution_count": 14,
   "id": "94845d2a",
   "metadata": {},
   "outputs": [
    {
     "name": "stdout",
     "output_type": "stream",
     "text": [
      "Houston Zoo\n",
      "Simham Roarrrrr!\n",
      "Puli Roarrrrr!\n",
      "Chiluka Squawk!\n",
      "Pitta Squawk!\n"
     ]
    }
   ],
   "source": [
    "from abc import ABC, abstractmethod\n",
    "\n",
    "class Zoo:\n",
    "    def __init__(self,name):\n",
    "        self.name = name\n",
    "        self.animals = []\n",
    "\n",
    "    def add_animal(self, animal):\n",
    "        self.animals.append(animal)\n",
    "\n",
    "    def make_noise(self):\n",
    "        for animal in self.animals:\n",
    "            animal.speak()\n",
    "\n",
    "class Animal(ABC):\n",
    "    def __init__(self, name):\n",
    "        self.name = name\n",
    "    \n",
    "    @abstractmethod\n",
    "    def speak(self):\n",
    "        pass\n",
    "\n",
    "class Lion(Animal):\n",
    "    def speak(self):\n",
    "        print(f\"{self.name} Roarrrrr!\")\n",
    "\n",
    "class Parrot(Animal):\n",
    "    def speak(self):\n",
    "        print(f\"{self.name} Squawk!\")\n",
    "\n",
    "zoo1 = Zoo(\"Houston Zoo\")\n",
    "\n",
    "lion1 = Lion(\"Simham\")\n",
    "lion2 = Lion(\"Puli\")\n",
    "parrot1 = Parrot(\"Chiluka\")\n",
    "parrot2 = Parrot(\"Pitta\") \n",
    "\n",
    "zoo1.add_animal(lion1)\n",
    "zoo1.add_animal(lion2)\n",
    "zoo1.add_animal(parrot1)\n",
    "zoo1.add_animal(parrot2)\n",
    "\n",
    "print(zoo1.name)\n",
    "zoo1.make_noise()"
   ]
  }
 ],
 "metadata": {
  "kernelspec": {
   "display_name": "Python 3",
   "language": "python",
   "name": "python3"
  },
  "language_info": {
   "codemirror_mode": {
    "name": "ipython",
    "version": 3
   },
   "file_extension": ".py",
   "mimetype": "text/x-python",
   "name": "python",
   "nbconvert_exporter": "python",
   "pygments_lexer": "ipython3",
   "version": "3.12.4"
  }
 },
 "nbformat": 4,
 "nbformat_minor": 5
}
