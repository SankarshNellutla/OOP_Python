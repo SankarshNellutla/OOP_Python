{
 "cells": [
  {
   "cell_type": "markdown",
   "id": "8c9befef",
   "metadata": {},
   "source": [
    "### 1. Dog Class\n",
    "\n",
    "Define a Dog class with a name attribute and a bark() method that prints \"\"name\" says: Woof!\".\n",
    "\n",
    "Create two dogs and call bark() on each."
   ]
  },
  {
   "cell_type": "code",
   "execution_count": 1,
   "id": "425beeae",
   "metadata": {},
   "outputs": [
    {
     "name": "stdout",
     "output_type": "stream",
     "text": [
      "Gojo says: Woof!\n",
      "Jugo says: Woof!\n"
     ]
    }
   ],
   "source": [
    "class Dog:\n",
    "    def __init__(self,name):\n",
    "        self.name = name\n",
    "    \n",
    "    def bark(self):\n",
    "        print(f\"{self.name} says: Woof!\")\n",
    "\n",
    "dog1 = Dog(\"Gojo\")\n",
    "dog2 = Dog(\"Jugo\")\n",
    "\n",
    "dog1.bark()\n",
    "dog2.bark()"
   ]
  },
  {
   "cell_type": "markdown",
   "id": "c1b1867c",
   "metadata": {},
   "source": [
    "### 2. Rectangle Class\n",
    "\n",
    "Write a Rectangle class with width and height.\n",
    "\n",
    "Add methods area() and perimeter().\n",
    "\n",
    "Instantiate one rectangle and print its area and perimeter."
   ]
  },
  {
   "cell_type": "code",
   "execution_count": 2,
   "id": "58ce8cf3",
   "metadata": {},
   "outputs": [
    {
     "name": "stdout",
     "output_type": "stream",
     "text": [
      "15\n",
      "16\n"
     ]
    }
   ],
   "source": [
    "class Rectangle:\n",
    "    def __init__(self, width, height):\n",
    "        self.width = width\n",
    "        self.height = height\n",
    "\n",
    "    def area(self):\n",
    "        print(self.width*self.height)\n",
    "\n",
    "    def perimeter(self):\n",
    "        print(2*(self.width+self.height))\n",
    "    \n",
    "rectangle = Rectangle(width=3, height=5)\n",
    "\n",
    "rectangle.area()\n",
    "rectangle.perimeter()\n"
   ]
  },
  {
   "cell_type": "markdown",
   "id": "827825ba",
   "metadata": {},
   "source": [
    "### 3. BankAccount with Error\n",
    "\n",
    "Implement BankAccount with owner and balance.\n",
    "\n",
    "deposit(amount) adds to balance; withdraw(amount) subtracts but raises a custom OverdrawError (you define) if amount > balance.\n",
    "\n",
    "Demonstrate both a successful withdraw and a caught exception."
   ]
  },
  {
   "cell_type": "code",
   "execution_count": 3,
   "id": "3809802e",
   "metadata": {},
   "outputs": [
    {
     "name": "stdout",
     "output_type": "stream",
     "text": [
      "₹9999 added to your account. Total balance is ₹10009999\n",
      "₹9900000 withdrawn from your account. Total balance is ₹100000\n",
      "Insufficient funds\n"
     ]
    }
   ],
   "source": [
    "class BankAccount:\n",
    "    def __init__(self, owner, balance):\n",
    "        self.owner = owner\n",
    "        self.balance =  balance\n",
    "\n",
    "    def deposit(self, amount):\n",
    "        print(f\"₹{amount} added to your account. Total balance is ₹{self.balance + amount}\") \n",
    "\n",
    "    def withdraw(self, amount):\n",
    "        if self.balance > amount:\n",
    "            print(f\"₹{amount} withdrawn from your account. Total balance is ₹{self.balance - amount}\")\n",
    "        else:\n",
    "            print(\"Insufficient funds\")\n",
    "\n",
    "acnt301272 = BankAccount(owner = \"Prem\", balance = 10000000)\n",
    "\n",
    "acnt301272.deposit(9999)\n",
    "acnt301272.withdraw(9900000)\n",
    "acnt301272.withdraw(10000001)"
   ]
  },
  {
   "cell_type": "markdown",
   "id": "2c7be3ce",
   "metadata": {},
   "source": [
    "### 4. Student School\n",
    "\n",
    "- Create Student with instance attributes name, grade, and a class variable school = \"XYZ High\".\n",
    "- Instantiate two students, then print each student’s name, grade, and school."
   ]
  },
  {
   "cell_type": "code",
   "execution_count": 4,
   "id": "4e079964",
   "metadata": {},
   "outputs": [
    {
     "name": "stdout",
     "output_type": "stream",
     "text": [
      "Ramesh\n",
      "9\n",
      "XYZ High\n",
      "Suresh\n",
      "10\n",
      "XYZ High\n"
     ]
    }
   ],
   "source": [
    "class Student:\n",
    "    school = \"XYZ High\"\n",
    "\n",
    "    def __init__(self, name, grade):\n",
    "        self.name = name\n",
    "        self.grade = grade\n",
    "\n",
    "student1 = Student(\"Ramesh\", 9)\n",
    "student2 = Student(\"Suresh\", 10)\n",
    "\n",
    "\n",
    "print(student1.name)\n",
    "print(student1.grade)\n",
    "print(student1.school)\n",
    "print(student2.name)\n",
    "print(student2.grade)\n",
    "print(student2.school)"
   ]
  },
  {
   "cell_type": "markdown",
   "id": "87347398",
   "metadata": {},
   "source": [
    "### 5. Circle Pi Override\n",
    "\n",
    "- Define Circle with class variable pi = 3.14.\n",
    "- In __init__, take radius.\n",
    "- Compute and print the circle’s area.\n",
    "- Then override pi on one instance and show the difference."
   ]
  },
  {
   "cell_type": "code",
   "execution_count": 5,
   "id": "fb2731b1",
   "metadata": {},
   "outputs": [
    {
     "name": "stdout",
     "output_type": "stream",
     "text": [
      "28.26\n",
      "36\n",
      "78.5\n"
     ]
    }
   ],
   "source": [
    "class Circle:\n",
    "    pi = 3.14\n",
    "\n",
    "    def __init__(self,radius):\n",
    "        self.radius = radius\n",
    "\n",
    "    def area(self):\n",
    "        print(self.pi*self.radius**2)\n",
    "\n",
    "\n",
    "circle1 = Circle(3)\n",
    "circle2 = Circle(5)\n",
    "\n",
    "circle1.area()\n",
    "\n",
    "circle1.pi = 4\n",
    "\n",
    "circle1.area()\n",
    "circle2.area()"
   ]
  },
  {
   "cell_type": "markdown",
   "id": "32bd4089",
   "metadata": {},
   "source": [
    "### 6. LightSwitch\n",
    "\n",
    "- Build LightSwitch that starts off (self.on = False).\n",
    "- flip() toggles self.on, and status() prints \"On\" or \"Off\".\n",
    "- Flip twice, printing status each time."
   ]
  },
  {
   "cell_type": "code",
   "execution_count": 6,
   "id": "2edb1924",
   "metadata": {},
   "outputs": [
    {
     "name": "stdout",
     "output_type": "stream",
     "text": [
      "On\n",
      "Off\n",
      "On\n",
      "Off\n",
      "Off\n"
     ]
    }
   ],
   "source": [
    "class Lightswitch():\n",
    "    def __init__(self):\n",
    "        self.on = False\n",
    "    \n",
    "    def flip(self):\n",
    "        # if self.on == False:\n",
    "        #     self.on = True\n",
    "        # else:\n",
    "        #     self.on = False\n",
    "        self.on = not self.on\n",
    "\n",
    "    def status(self):\n",
    "        print(f\"{\"Off\" if self.on else \"On\"}\")\n",
    "\n",
    "ls1 = Lightswitch()\n",
    "\n",
    "ls1.status()\n",
    "\n",
    "ls1.flip()\n",
    "ls1.status()\n",
    "\n",
    "ls1.flip()\n",
    "ls1.status()\n",
    "\n",
    "ls1.flip()\n",
    "ls1.status()\n",
    "\n",
    "ls1.status()"
   ]
  },
  {
   "cell_type": "markdown",
   "id": "fd008f9e",
   "metadata": {},
   "source": [
    "### 7. Counter with Step\n",
    "\n",
    "- Write Counter with count (start at 0) and a method incr(step=1) that increases by step.\n",
    "- Add reset() to zero it.\n",
    "- Show incr(3), incr(), then reset(), printing after each."
   ]
  },
  {
   "cell_type": "code",
   "execution_count": 7,
   "id": "ef65cbb8",
   "metadata": {},
   "outputs": [
    {
     "name": "stdout",
     "output_type": "stream",
     "text": [
      "3\n",
      "7\n",
      "16\n",
      "17\n",
      "0\n",
      "9\n",
      "18\n",
      "27\n"
     ]
    }
   ],
   "source": [
    "class Counter:\n",
    "    def __init__(self):\n",
    "        self.count = 0\n",
    "\n",
    "    def incr(self, step = 1):\n",
    "        self.count += step\n",
    "        return self.count\n",
    "\n",
    "    def reset(self):\n",
    "        self.count = 0\n",
    "        return self.count\n",
    "    \n",
    "cnt1 = Counter()\n",
    "\n",
    "print(cnt1.incr(3))\n",
    "print(cnt1.incr(4))\n",
    "print(cnt1.incr(9))\n",
    "print(cnt1.incr())\n",
    "print(cnt1.reset())\n",
    "print(cnt1.incr(9))\n",
    "print(cnt1.incr(9))\n",
    "print(cnt1.incr(9))\n"
   ]
  },
  {
   "cell_type": "markdown",
   "id": "0f805276",
   "metadata": {},
   "source": [
    "### 8. Vehicle → Car\n",
    "\n",
    "- Base class Vehicle with start() printing \"Vehicle started\".\n",
    "- Subclass Car overrides start() to print \"Car engine roaring\".\n",
    "- Instantiate each and call start().\n",
    "\n"
   ]
  },
  {
   "cell_type": "code",
   "execution_count": 8,
   "id": "ed19a0e0",
   "metadata": {},
   "outputs": [
    {
     "name": "stdout",
     "output_type": "stream",
     "text": [
      "Vehicle started\n",
      "Car engine roaring\n"
     ]
    }
   ],
   "source": [
    "class Vehicle:\n",
    "    def start(self):\n",
    "        print(\"Vehicle started\")\n",
    "\n",
    "class Car(Vehicle):\n",
    "    def start(self):\n",
    "        print(\"Car engine roaring\")\n",
    "\n",
    "vehicle1 = Vehicle() \n",
    "car1 = Car()\n",
    "\n",
    "vehicle1.start()\n",
    "car1.start()\n"
   ]
  },
  {
   "cell_type": "markdown",
   "id": "9a12d719",
   "metadata": {},
   "source": [
    "### 9. Employee → Manager\n",
    "\n",
    "- Employee has name and salary.\n",
    "- Manager(Employee) adds team_size.\n",
    "- Use super() in Manager.__init__.\n",
    "- Write a details() method on both classes that prints all their attributes."
   ]
  },
  {
   "cell_type": "code",
   "execution_count": 9,
   "id": "46a4806a",
   "metadata": {},
   "outputs": [
    {
     "name": "stdout",
     "output_type": "stream",
     "text": [
      "sankarsh\n",
      "430000\n",
      "pavana\n",
      "500000\n",
      "1\n"
     ]
    }
   ],
   "source": [
    "class Employee:\n",
    "    def __init__(self, name, salary):\n",
    "        self.name = name\n",
    "        self.salary = salary\n",
    "\n",
    "class Manager(Employee):\n",
    "    def __init__(self, name, salary, team_size):\n",
    "        super().__init__(name, salary)\n",
    "        self.team_size = team_size\n",
    "\n",
    "employee1 = Employee(name = \"sankarsh\", salary = 430000)\n",
    "manager1 = Manager(name = \"pavana\", salary = 500000, team_size = 1)\n",
    "\n",
    "print(employee1.name)\n",
    "print(employee1.salary)\n",
    "print(manager1.name)\n",
    "print(manager1.salary)\n",
    "print(manager1.team_size)"
   ]
  },
  {
   "cell_type": "markdown",
   "id": "985bd617",
   "metadata": {},
   "source": [
    "### 10. Playable Interface\n",
    "\n",
    "- Abstract class or just base Playable with a stub play().\n",
    "- Subclasses Guitar, Piano implement play() differently.\n",
    "- Loop over a list of instruments and call play()."
   ]
  },
  {
   "cell_type": "code",
   "execution_count": 10,
   "id": "a0d9a4c6",
   "metadata": {},
   "outputs": [
    {
     "name": "stdout",
     "output_type": "stream",
     "text": [
      "pull the strings\n",
      "pull the strings\n",
      "press the keys\n",
      "pull the strings\n"
     ]
    }
   ],
   "source": [
    "from abc import ABC, abstractmethod\n",
    "class Playable(ABC):\n",
    "    @abstractmethod\n",
    "    def play(self):\n",
    "        pass\n",
    "\n",
    "class Guitar(Playable):\n",
    "    def play(self):\n",
    "        print(\"pull the strings\")\n",
    "\n",
    "class Piano(Playable):\n",
    "    def play(self):\n",
    "        print(\"press the keys\")\n",
    "\n",
    "guitar1 = Guitar()\n",
    "guitar2 = Guitar()\n",
    "piano1 = Piano()\n",
    "guitar3 = Guitar()\n",
    "piano2 = Piano()\n",
    "\n",
    "instruments = [guitar1, guitar2, piano1, guitar3]\n",
    "\n",
    "for instrument in instruments:\n",
    "    instrument.play()"
   ]
  },
  {
   "cell_type": "markdown",
   "id": "029b8a66",
   "metadata": {},
   "source": [
    "### 11. Duck Typing Function\n",
    "\n",
    "- Write describe(obj) that tries to call obj.describe() and, if missing, prints \"No description available\".\n",
    "\n",
    "- Create two classes—one with describe(), one without—and pass both to describe()."
   ]
  },
  {
   "cell_type": "code",
   "execution_count": 11,
   "id": "0c8fe8c9",
   "metadata": {},
   "outputs": [
    {
     "name": "stdout",
     "output_type": "stream",
     "text": [
      "I am dog\n",
      "No description available\n"
     ]
    }
   ],
   "source": [
    "class Dog:\n",
    "    def describe(self):\n",
    "        print(\"I am dog\")\n",
    "\n",
    "class Cat:\n",
    "    pass\n",
    "\n",
    "def describe(obj):\n",
    "    if hasattr(obj, \"describe\") and callable(obj.describe):\n",
    "        obj.describe()\n",
    "    else:\n",
    "        print(\"No description available\")\n",
    "\n",
    "pets = [Dog(), Cat()]\n",
    "\n",
    "for pet in pets:\n",
    "    describe(pet)"
   ]
  },
  {
   "cell_type": "markdown",
   "id": "fdf0cea5",
   "metadata": {},
   "source": [
    "### 12. Library & Book (Aggregation)\n",
    "\n",
    "- Book(title, author) simple class.\n",
    "- Library(name) holds a list of books added via add_book().\n",
    "- List all books’ titles."
   ]
  },
  {
   "cell_type": "code",
   "execution_count": 12,
   "id": "c85ece8c",
   "metadata": {},
   "outputs": [
    {
     "name": "stdout",
     "output_type": "stream",
     "text": [
      "N\n",
      "Ch\n",
      "B\n"
     ]
    }
   ],
   "source": [
    "class Book:\n",
    "    def __init__(self, title, author):\n",
    "        self.title = title\n",
    "        self.author = author\n",
    "\n",
    "class Library:\n",
    "    def __init__(self, name):\n",
    "        self.name = name\n",
    "        self.books = []\n",
    "    \n",
    "    def add_book(self, book):\n",
    "        self.books.append(book)\n",
    "\n",
    "    def list_books(self):\n",
    "        for book in self.books:\n",
    "            print(book.title)\n",
    "\n",
    "    \n",
    "\n",
    "\n",
    "lib1 = Library(\"Warangal public library\")\n",
    "\n",
    "book1 = Book(\"N\", \"Prem\")\n",
    "book2 = Book(\"Ch\", \"Raja\")\n",
    "book3 = Book(\"B\", \"Saravan\")\n",
    "\n",
    "lib1.add_book(book1)\n",
    "lib1.add_book(book2)\n",
    "lib1.add_book(book3)\n",
    "\n",
    "lib1.list_books()"
   ]
  },
  {
   "cell_type": "markdown",
   "id": "c700c61a",
   "metadata": {},
   "source": [
    "### 13. Car & Engine (Composition)\n",
    "\n",
    "- Engine(horse_power), and Car(make, model, horse_power) creates its own Engine internally.\n",
    "- Add display() on Car to show its make, model, and engine’s horsepowe"
   ]
  },
  {
   "cell_type": "code",
   "execution_count": 13,
   "id": "1c6a120d",
   "metadata": {},
   "outputs": [
    {
     "name": "stdout",
     "output_type": "stream",
     "text": [
      "Hyundai I20 300hp\n"
     ]
    }
   ],
   "source": [
    "class Engine:\n",
    "    def __init__(self, horse_power):\n",
    "        self.horse_power = horse_power\n",
    "        \n",
    "class Car:\n",
    "    def __init__(self, make, model, horse_power):\n",
    "        self.make = make\n",
    "        self.model = model\n",
    "        self.engine = Engine(horse_power)\n",
    "        \n",
    "    def display(self):\n",
    "        return f\"{self.make} {self.model} {self.engine.horse_power}hp\"\n",
    "\n",
    "car1 = Car(make=\"Hyundai\", model=\"I20\", horse_power=300)\n",
    "\n",
    "print(car1.display())"
   ]
  },
  {
   "cell_type": "markdown",
   "id": "39923530",
   "metadata": {},
   "source": [
    "### 14. Shape ABC\n",
    "\n",
    "- Use abc.ABC to define Shape with abstract area().\n",
    "- Implement Circle & Square.\n",
    "- Instantiate each and print its area."
   ]
  },
  {
   "cell_type": "code",
   "execution_count": 14,
   "id": "577736a9",
   "metadata": {},
   "outputs": [
    {
     "name": "stdout",
     "output_type": "stream",
     "text": [
      "28.26\n",
      "16\n"
     ]
    }
   ],
   "source": [
    "from abc import ABC, abstractmethod\n",
    "\n",
    "class Shape(ABC):\n",
    "    @abstractmethod\n",
    "    def area(self):\n",
    "        pass\n",
    "\n",
    "class Circle(Shape):\n",
    "    def __init__(self, radius):\n",
    "        self.radius =radius\n",
    "    def area(self):\n",
    "        print(3.14*self.radius**2)\n",
    "\n",
    "class Square(Shape):\n",
    "    def __init__(self, side):\n",
    "        self.side = side\n",
    "    def area(self):\n",
    "        print(self.side**2)\n",
    "\n",
    "circle1 = Circle(3)\n",
    "square1 = Square(4)\n",
    "\n",
    "circle1.area()\n",
    "square1.area()"
   ]
  },
  {
   "cell_type": "markdown",
   "id": "e80deb5f",
   "metadata": {},
   "source": [
    "### 15. Zoo App\n",
    "\n",
    "- Build a Zoo class that aggregates animals.\n",
    "- Animal base with name and speak().\n",
    "- Subclasses like Lion, Parrot.\n",
    "- Zoo.add_animal(a) and Zoo.make_noise() loops through and calls speak().\n",
    "- Show a sample run with at least 3 animals.\n",
    "\n",
    "\n",
    "#### Expected Output\n"
   ]
  },
  {
   "cell_type": "code",
   "execution_count": 15,
   "id": "94845d2a",
   "metadata": {},
   "outputs": [
    {
     "name": "stdout",
     "output_type": "stream",
     "text": [
      "Houston Zoo\n",
      "Simham Roarrrrr!\n",
      "Puli Roarrrrr!\n",
      "Chiluka Squawk!\n",
      "Pitta Squawk!\n"
     ]
    }
   ],
   "source": [
    "from abc import ABC, abstractmethod\n",
    "\n",
    "class Zoo:\n",
    "    def __init__(self,name):\n",
    "        self.name = name\n",
    "        self.animals = []\n",
    "\n",
    "    def add_animal(self, animal):\n",
    "        self.animals.append(animal)\n",
    "\n",
    "    def make_noise(self):\n",
    "        for animal in self.animals:\n",
    "            animal.speak()\n",
    "\n",
    "class Animal(ABC):\n",
    "    def __init__(self, name):\n",
    "        self.name = name\n",
    "    \n",
    "    @abstractmethod\n",
    "    def speak(self):\n",
    "        pass\n",
    "\n",
    "class Lion(Animal):\n",
    "    def speak(self):\n",
    "        print(f\"{self.name} Roarrrrr!\")\n",
    "\n",
    "class Parrot(Animal):\n",
    "    def speak(self):\n",
    "        print(f\"{self.name} Squawk!\")\n",
    "\n",
    "zoo1 = Zoo(\"Houston Zoo\")\n",
    "\n",
    "lion1 = Lion(\"Simham\")\n",
    "lion2 = Lion(\"Puli\")\n",
    "parrot1 = Parrot(\"Chiluka\")\n",
    "parrot2 = Parrot(\"Pitta\") \n",
    "\n",
    "zoo1.add_animal(lion1)\n",
    "zoo1.add_animal(lion2)\n",
    "zoo1.add_animal(parrot1)\n",
    "zoo1.add_animal(parrot2)\n",
    "\n",
    "print(zoo1.name)\n",
    "zoo1.make_noise()"
   ]
  },
  {
   "cell_type": "markdown",
   "id": "d390e3d1",
   "metadata": {},
   "source": [
    "### 16. **Assignment: Build a University Registration System Using Nested Classes**\n",
    "\n",
    "**Your Task**  \n",
    "Design and implement a Python program that models a university’s course registration using nested classes. Specifically:\n",
    "\n",
    "* **Structure**\n",
    "  * A top-level `University` class that holds multiple `Department` instances.\n",
    "  * A nested `Department` class inside `University` that manages multiple `Course` instances.\n",
    "  * A nested `Course` class inside `Department` that tracks enrolled students and enforces a maximum capacity.\n",
    "\n",
    "* **Requirements**\n",
    "  1. **Initialization**\n",
    "     * `University(university_name)` initializes with an empty list of departments.\n",
    "     * `Department(dept_name)` initializes with an empty list of courses.\n",
    "     * `Course(code, title, max_capacity)` initializes with no students.\n",
    "\n",
    "  2. **Core Methods**\n",
    "     * `University.add_department(dept_name)` → returns a new `Department`.\n",
    "     * `Department.add_course(code, title, capacity)` → returns a new `Course`.\n",
    "     * `Course.enroll(student_name)` → adds a student or raises `ValueError` if full.\n",
    "     * `Course.drop(student_name)` → removes the student if present.\n",
    "     * `University.list_structure()` → prints the full hierarchy:\n",
    "\n",
    "       ```\n",
    "       University: <university_name>\n",
    "       - Department: <dept_name>\n",
    "         • <course_code>: <course_title> (<enrolled>/<max_capacity>)\n",
    "           » Student:<student_name>\n",
    "           …\n",
    "       ```\n",
    "\n",
    "  3. **Demonstration**\n",
    "     In your script’s `if __name__ == \"__main__\":` block, show that you can:\n",
    "\n",
    "     * Create a university called **VIT-AP**.\n",
    "     * Add two departments: **CSE Core** and **CSE NS**.\n",
    "     * Add courses to each department (e.g., \"Operating Systems\", \"Datastructures and Algorithms\", \"Cryptography\", \"Secure Networking\") with various capacities.\n",
    "     * Attempt to enroll multiple students in each course, properly catching the overflow exception.\n",
    "     * Call `list_structure()` to display the current registrations.\n",
    "     * Directly (without helpers) instantiate a standalone `Course` for \"Calculus for Engineers\" with capacity 2, enroll one student, and print its details.\n",
    "\n",
    "* **Submission**  \n",
    "  Provide your complete Python source file. Make sure your `list_structure()` output exactly matches the enrolled students and their counts."
   ]
  },
  {
   "cell_type": "code",
   "execution_count": 16,
   "id": "0605991d",
   "metadata": {},
   "outputs": [
    {
     "name": "stdout",
     "output_type": "stream",
     "text": [
      "Enrolled Sankarsh in Operating Systems\n",
      "Enrolled Pavana in Operating Systems\n",
      "Enrolled Lasya in Operating Systems\n",
      "Could not enroll Bavana: Course 100 is full\n",
      "\n",
      "Enrolled Sankarsh in Datastructures and Algorithms\n",
      "Enrolled Pavana in Datastructures and Algorithms\n",
      "\n",
      "Enrolled Abhi in Cryptography\n",
      "Enrolled Aashrita in Cryptography\n",
      "\n",
      "Enrolled Sankarsh in Secure Networking\n",
      "Enrolled Pavana in Secure Networking\n",
      "Enrolled Lasya in Secure Networking\n",
      "Enrolled Bavana in Secure Networking\n",
      "Could not enroll Abhi: Course 202 is full\n",
      "\n",
      "University: VIT-AP\n",
      "- Department: CSE Core\n",
      "    • 100: Operating Systems (3/3)\n",
      "        » Student:Sankarsh\n",
      "        » Student:Pavana\n",
      "        » Student:Lasya\n",
      "    • 101: Datastructures and Algorithms (2/2)\n",
      "        » Student:Sankarsh\n",
      "        » Student:Pavana\n",
      "- Department: CSE NS\n",
      "    • 201: Cryptography (2/4)\n",
      "        » Student:Abhi\n",
      "        » Student:Aashrita\n",
      "    • 202: Secure Networking (4/4)\n",
      "        » Student:Sankarsh\n",
      "        » Student:Pavana\n",
      "        » Student:Lasya\n",
      "        » Student:Bavana\n",
      "\n",
      "Standalone course info: 901 - Calculus for Engineers (1/2)\n",
      "Enrolled students: Charvi\n"
     ]
    }
   ],
   "source": [
    "class University:\n",
    "    def __init__(self, university_name):\n",
    "        self.university_name = university_name\n",
    "        self.departments = []\n",
    "\n",
    "    def add_department(self, dept_name):\n",
    "        dept = self.Department(dept_name)\n",
    "        self.departments.append(dept)\n",
    "        return dept \n",
    "\n",
    "    def list_structure(self):\n",
    "        print(f\"University: {self.university_name}\")\n",
    "        for dept in self.departments:\n",
    "            print(f\"- Department: {dept.dept_name}\")\n",
    "            for course in dept.courses:\n",
    "                enrolled = len(course.students)\n",
    "                cap = course.max_capacity\n",
    "                print(f\"    • {course.code}: {course.title} ({enrolled}/{cap})\")\n",
    "                for student in course.students:\n",
    "                    print(f\"        » Student:{student}\")\n",
    "\n",
    "    class Department:\n",
    "        def __init__(self, dept_name):\n",
    "            self.dept_name = dept_name\n",
    "            self.courses = []\n",
    "        \n",
    "        def add_course(self, code, title, capacity):\n",
    "            course = self.Course(code, title, capacity)\n",
    "            self.courses.append(course)\n",
    "            return course\n",
    "        \n",
    "        class Course:\n",
    "            def __init__(self, code, title, max_capacity):\n",
    "                self.code = code\n",
    "                self.title = title\n",
    "                self.max_capacity = max_capacity\n",
    "                self.students = []\n",
    "\n",
    "            def enroll(self, student_name):\n",
    "                if len(self.students) >= self.max_capacity:\n",
    "                    raise ValueError(f\"Course {self.code} is full\")\n",
    "                self.students.append(student_name)\n",
    "\n",
    "            def drop(self, student_name):\n",
    "                if student_name in self.students:\n",
    "                    self.students.remove(student_name)\n",
    "\n",
    "if __name__ == \"__main__\":\n",
    "\n",
    "    uni1 = University(university_name=\"VIT-AP\")\n",
    "    dept1_1 = uni1.add_department(dept_name=\"CSE Core\")\n",
    "    dept2_1 = uni1.add_department(dept_name=\"CSE NS\")\n",
    "    course_OS = dept1_1.add_course(code=100, title=\"Operating Systems\", capacity=3)\n",
    "    course_DSA = dept1_1.add_course(code=101, title=\"Datastructures and Algorithms\", capacity=2)\n",
    "    course_CRG = dept2_1.add_course(code=201, title=\"Cryptography\", capacity=4)\n",
    "    course_SN = dept2_1.add_course(code=202, title=\"Secure Networking\", capacity=4)\n",
    "\n",
    "    student_names_OS = [\"Sankarsh\", \"Pavana\", \"Lasya\", \"Bavana\"]\n",
    "    for name in student_names_OS:\n",
    "        try:\n",
    "            course_OS.enroll(name)\n",
    "            print(f\"Enrolled {name} in {course_OS.title}\")\n",
    "        except ValueError as e:\n",
    "            print(f\"Could not enroll {name}: {e}\")\n",
    "\n",
    "    print()\n",
    "\n",
    "    student_names_DSA = [\"Sankarsh\", \"Pavana\"]\n",
    "    for name in student_names_DSA:\n",
    "        try:\n",
    "            course_DSA.enroll(name)\n",
    "            print(f\"Enrolled {name} in {course_DSA.title}\")\n",
    "        except ValueError as e:\n",
    "            print(f\"Could not enroll {name}: {e}\")\n",
    "\n",
    "    print()\n",
    "\n",
    "    student_names_CRG = [\"Abhi\", \"Aashrita\"]\n",
    "    for name in student_names_CRG:\n",
    "        try:\n",
    "            course_CRG.enroll(name)\n",
    "            print(f\"Enrolled {name} in {course_CRG.title}\")\n",
    "        except ValueError as e:\n",
    "            print(f\"Could not enroll {name}: {e}\")\n",
    "\n",
    "    print()\n",
    "\n",
    "    student_names_SN = [\"Sankarsh\", \"Pavana\", \"Lasya\", \"Bavana\", \"Abhi\"]\n",
    "    for name in student_names_SN:\n",
    "        try:\n",
    "            course_SN.enroll(name)\n",
    "            print(f\"Enrolled {name} in {course_SN.title}\")\n",
    "        except ValueError as e:\n",
    "            print(f\"Could not enroll {name}: {e}\")\n",
    "\n",
    "    print()\n",
    "\n",
    "    uni1.list_structure()\n",
    "\n",
    "    print()\n",
    "\n",
    "    standalone_dept = University.Department(\"Standalone\")\n",
    "    course_calc = standalone_dept.Course(code = 901, title = \"Calculus for Engineers\", max_capacity = 2)\n",
    "    course_calc.enroll(\"Charvi\")\n",
    "    print(f\"Standalone course info: {course_calc.code} - {course_calc.title} ({len(course_calc.students)}/{course_calc.max_capacity})\")  \n",
    "    print(\"Enrolled students:\", \", \".join(course_calc.students))"
   ]
  }
 ],
 "metadata": {
  "kernelspec": {
   "display_name": "Python 3",
   "language": "python",
   "name": "python3"
  },
  "language_info": {
   "codemirror_mode": {
    "name": "ipython",
    "version": 3
   },
   "file_extension": ".py",
   "mimetype": "text/x-python",
   "name": "python",
   "nbconvert_exporter": "python",
   "pygments_lexer": "ipython3",
   "version": "3.12.4"
  }
 },
 "nbformat": 4,
 "nbformat_minor": 5
}
