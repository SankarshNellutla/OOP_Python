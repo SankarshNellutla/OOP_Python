{
 "cells": [
  {
   "cell_type": "markdown",
   "id": "a0aec121",
   "metadata": {},
   "source": [
    "## Class and Object"
   ]
  },
  {
   "cell_type": "markdown",
   "id": "3181b717",
   "metadata": {},
   "source": [
    "#### class = (blueprint) used to design the structure and layout of an object\n",
    "\n",
    "#### object = A \"bundle\" of related attributes (variables) and methods (functions)\n",
    "1. Ex. phone, cup, book\n",
    "2. You need a \"class\" to create many objects"
   ]
  },
  {
   "cell_type": "code",
   "execution_count": 33,
   "id": "245650e1",
   "metadata": {},
   "outputs": [],
   "source": [
    "import importlib\n",
    "import classes\n",
    "importlib.reload(classes)\n",
    "Car = classes.Car"
   ]
  },
  {
   "cell_type": "code",
   "execution_count": 34,
   "id": "87a75d8e",
   "metadata": {},
   "outputs": [
    {
     "name": "stdout",
     "output_type": "stream",
     "text": [
      "<classes.Car object at 0x10447a150>\n"
     ]
    }
   ],
   "source": [
    "car1 = Car(\"LaFerrari\", \"2025\", \"red\", False)\n",
    "car2 = Car(\"Mustang\", \"2025\", \"black\", True)\n",
    "car3 = Car(\"Urus\", \"2023\", \"yellow\", False)\n",
    "print(car1)"
   ]
  },
  {
   "cell_type": "code",
   "execution_count": 35,
   "id": "2097e97e",
   "metadata": {},
   "outputs": [
    {
     "name": "stdout",
     "output_type": "stream",
     "text": [
      "LaFerrari\n",
      "2023\n",
      "black\n",
      "True\n"
     ]
    }
   ],
   "source": [
    "print(car1.model)\n",
    "print(car3.year)\n",
    "print(car2.color)\n",
    "print(car2.for_sale)"
   ]
  },
  {
   "cell_type": "code",
   "execution_count": 36,
   "id": "530c337c",
   "metadata": {},
   "outputs": [
    {
     "name": "stdout",
     "output_type": "stream",
     "text": [
      "You're driving the red LaFerrari\n",
      "You stopped the red LaFerrari\n"
     ]
    }
   ],
   "source": [
    "car1.drive()\n",
    "car1.stop()"
   ]
  },
  {
   "cell_type": "code",
   "execution_count": 37,
   "id": "8a0f4d5b",
   "metadata": {},
   "outputs": [
    {
     "name": "stdout",
     "output_type": "stream",
     "text": [
      "2023 yellow Urus\n"
     ]
    }
   ],
   "source": [
    "car3.describe()"
   ]
  },
  {
   "cell_type": "markdown",
   "id": "5ea0b13c",
   "metadata": {},
   "source": [
    "## Class Variable"
   ]
  },
  {
   "cell_type": "markdown",
   "id": "b43e4435",
   "metadata": {},
   "source": [
    "#### class variables = Shared among all instances of a class\n",
    "1. Defined outside the constructor\n",
    "2. Allow you to share data among all objects created from that class"
   ]
  },
  {
   "cell_type": "code",
   "execution_count": 38,
   "id": "65408620",
   "metadata": {},
   "outputs": [],
   "source": [
    "import importlib\n",
    "import classes\n",
    "importlib.reload(classes)\n",
    "Student = classes.Student"
   ]
  },
  {
   "cell_type": "code",
   "execution_count": 39,
   "id": "d16197ca",
   "metadata": {},
   "outputs": [],
   "source": [
    "student1 = Student(\"Sankarsh\", 23)\n",
    "student2 = Student(\"Pavana\", 22)"
   ]
  },
  {
   "cell_type": "code",
   "execution_count": 40,
   "id": "39b1a098",
   "metadata": {},
   "outputs": [
    {
     "name": "stdout",
     "output_type": "stream",
     "text": [
      "Sankarsh\n",
      "23\n",
      "2023\n",
      "2\n"
     ]
    }
   ],
   "source": [
    "print(student1.name)\n",
    "print(student1.age)\n",
    "print(Student.class_grad_year)\n",
    "print(Student.num_students)"
   ]
  },
  {
   "cell_type": "code",
   "execution_count": 41,
   "id": "20babd87",
   "metadata": {},
   "outputs": [
    {
     "name": "stdout",
     "output_type": "stream",
     "text": [
      "My graduating class of 2023 has 2 students.\n",
      "Sankarsh\n",
      "Pavana\n"
     ]
    }
   ],
   "source": [
    "print(f\"My graduating class of {Student.class_grad_year} has {Student.num_students} students.\")\n",
    "print(student1.name)\n",
    "print(student2.name)"
   ]
  },
  {
   "cell_type": "markdown",
   "id": "b8b3e774",
   "metadata": {},
   "source": [
    "## Inheritance"
   ]
  },
  {
   "cell_type": "markdown",
   "id": "a5546945",
   "metadata": {},
   "source": [
    "#### Inheritance = Allows a class to inherit attributes and methods from another class\n",
    "1. Helps with code reusability and extensibility \n",
    "2. class Child(Parent).......also known as Sub(Super) classes"
   ]
  },
  {
   "cell_type": "code",
   "execution_count": 42,
   "id": "5cc36ca9",
   "metadata": {},
   "outputs": [],
   "source": [
    "import importlib\n",
    "import classes\n",
    "importlib.reload(classes)\n",
    "Dog = classes.Dog\n",
    "Cat = classes.Cat\n",
    "Mouse = classes.Mouse"
   ]
  },
  {
   "cell_type": "code",
   "execution_count": 43,
   "id": "cf64cc8b",
   "metadata": {},
   "outputs": [],
   "source": [
    "dog = Dog(\"Kukka\")\n",
    "cat = Cat(\"Pilli\")\n",
    "mouse = Mouse(\"Eluka\")"
   ]
  },
  {
   "cell_type": "code",
   "execution_count": 44,
   "id": "c27665e6",
   "metadata": {},
   "outputs": [
    {
     "name": "stdout",
     "output_type": "stream",
     "text": [
      "Kukka\n",
      "Kukka is eating\n",
      "Pilli\n",
      "Pilli is sleeping\n",
      "Eluka is eating\n",
      "True\n"
     ]
    }
   ],
   "source": [
    "print(dog.name)\n",
    "dog.eat()\n",
    "print(cat.name)\n",
    "cat.sleep()\n",
    "mouse.eat()\n",
    "print(mouse.is_alive)"
   ]
  },
  {
   "cell_type": "code",
   "execution_count": 45,
   "id": "bbff6d3e",
   "metadata": {},
   "outputs": [
    {
     "name": "stdout",
     "output_type": "stream",
     "text": [
      "Bow!\n",
      "Meeyaam!\n",
      "chuu chuuu!\n"
     ]
    }
   ],
   "source": [
    "dog.speak()\n",
    "cat.speak()\n",
    "mouse.speak()"
   ]
  },
  {
   "cell_type": "markdown",
   "id": "1fa1f264",
   "metadata": {},
   "source": [
    "## Multiple and Multilevel Inheritance"
   ]
  },
  {
   "cell_type": "markdown",
   "id": "2e2e1936",
   "metadata": {},
   "source": [
    "#### multiple inheritance = inherit from more than one parent class\n",
    "C(A, B)"
   ]
  },
  {
   "cell_type": "code",
   "execution_count": 46,
   "id": "a55176e7",
   "metadata": {},
   "outputs": [],
   "source": [
    "import importlib\n",
    "import classes\n",
    "importlib.reload(classes)\n",
    "Rabbit = classes.Rabbit\n",
    "Hawk = classes.Hawk\n",
    "Fish = classes.Fish"
   ]
  },
  {
   "cell_type": "code",
   "execution_count": 47,
   "id": "f716d0c8",
   "metadata": {},
   "outputs": [],
   "source": [
    "rabbit = Rabbit(\"kundelu\")\n",
    "hawk = Hawk(\"Gaddha\")\n",
    "fish = Fish(\"chepa\")"
   ]
  },
  {
   "cell_type": "code",
   "execution_count": 48,
   "id": "baac4747",
   "metadata": {},
   "outputs": [
    {
     "name": "stdout",
     "output_type": "stream",
     "text": [
      " Gaddha is hunting\n",
      " kundelu is fleeing\n",
      " chepa is fleeing\n",
      " chepa is hunting\n"
     ]
    }
   ],
   "source": [
    "hawk.hunt()\n",
    "rabbit.flee()\n",
    "fish.flee()\n",
    "fish.hunt()"
   ]
  },
  {
   "cell_type": "markdown",
   "id": "c33e779b",
   "metadata": {},
   "source": [
    "#### multilevel inheritance = inherit from a parent which inherits from another parent\n",
    "C（B） <-B（A）く-A"
   ]
  },
  {
   "cell_type": "code",
   "execution_count": 49,
   "id": "6a4284e0",
   "metadata": {},
   "outputs": [
    {
     "name": "stdout",
     "output_type": "stream",
     "text": [
      " Gaddha is eating\n",
      " kundelu is sleeping\n",
      " chepa is hunting\n",
      " chepa is eating\n"
     ]
    },
    {
     "ename": "AttributeError",
     "evalue": "'Hawk' object has no attribute 'flee'",
     "output_type": "error",
     "traceback": [
      "\u001b[31m---------------------------------------------------------------------------\u001b[39m",
      "\u001b[31mAttributeError\u001b[39m                            Traceback (most recent call last)",
      "\u001b[36mCell\u001b[39m\u001b[36m \u001b[39m\u001b[32mIn[49]\u001b[39m\u001b[32m, line 5\u001b[39m\n\u001b[32m      3\u001b[39m fish.hunt()\n\u001b[32m      4\u001b[39m fish.eat()\n\u001b[32m----> \u001b[39m\u001b[32m5\u001b[39m \u001b[43mhawk\u001b[49m\u001b[43m.\u001b[49m\u001b[43mflee\u001b[49m()\n",
      "\u001b[31mAttributeError\u001b[39m: 'Hawk' object has no attribute 'flee'"
     ]
    }
   ],
   "source": [
    "hawk.eat()\n",
    "rabbit.sleep()\n",
    "fish.hunt()\n",
    "fish.eat()\n",
    "hawk.flee()"
   ]
  },
  {
   "cell_type": "code",
   "execution_count": null,
   "id": "03e19d8c",
   "metadata": {},
   "outputs": [
    {
     "ename": "AttributeError",
     "evalue": "'Rabbit' object has no attribute 'hunt'",
     "output_type": "error",
     "traceback": [
      "\u001b[31m---------------------------------------------------------------------------\u001b[39m",
      "\u001b[31mAttributeError\u001b[39m                            Traceback (most recent call last)",
      "\u001b[36mCell\u001b[39m\u001b[36m \u001b[39m\u001b[32mIn[32]\u001b[39m\u001b[32m, line 1\u001b[39m\n\u001b[32m----> \u001b[39m\u001b[32m1\u001b[39m \u001b[43mrabbit\u001b[49m\u001b[43m.\u001b[49m\u001b[43mhunt\u001b[49m()\n",
      "\u001b[31mAttributeError\u001b[39m: 'Rabbit' object has no attribute 'hunt'"
     ]
    }
   ],
   "source": [
    "rabbit.hunt()"
   ]
  }
 ],
 "metadata": {
  "kernelspec": {
   "display_name": "Python 3",
   "language": "python",
   "name": "python3"
  },
  "language_info": {
   "codemirror_mode": {
    "name": "ipython",
    "version": 3
   },
   "file_extension": ".py",
   "mimetype": "text/x-python",
   "name": "python",
   "nbconvert_exporter": "python",
   "pygments_lexer": "ipython3",
   "version": "3.12.4"
  }
 },
 "nbformat": 4,
 "nbformat_minor": 5
}
