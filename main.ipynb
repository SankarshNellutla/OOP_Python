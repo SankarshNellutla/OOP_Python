{
 "cells": [
  {
   "cell_type": "markdown",
   "id": "26ecc978",
   "metadata": {},
   "source": [
    "# Python OOP Notes\n",
    "\n",
    "This notebook covers the main Object-Oriented Programming (OOP) concepts in Python:\n",
    "- Class and Object\n",
    "- Class Variables\n",
    "- Inheritance (Single, Multiple, Multilevel)\n",
    "- Abstract Classes\n",
    "\n",
    "Each section includes explanations and code examples."
   ]
  },
  {
   "cell_type": "markdown",
   "id": "3181b717",
   "metadata": {},
   "source": [
    "## Class and Object\n",
    "\n",
    "A **class** is a blueprint for creating objects.  \n",
    "An **object** (or instance) is a specific realization of a class, bundling related attributes (variables) and methods (functions).\n",
    "\n",
    "Example: You can have a class `Car` and create many car objects from it."
   ]
  },
  {
   "cell_type": "code",
   "execution_count": 53,
   "id": "7ccf5255",
   "metadata": {},
   "outputs": [],
   "source": [
    "# Creating a Car class with attributes and methods\n",
    "\n",
    "class Car():\n",
    "    def __init__(self, model, year, color, for_sale):\n",
    "        # Instance attributes unique to each object\n",
    "        self.model = model\n",
    "        self.year = year\n",
    "        self.color = color\n",
    "        self.for_sale = for_sale\n",
    "\n",
    "    def drive(self):\n",
    "        # Simulate driving the car\n",
    "        print(f\"You're driving the {self.color} {self.model}\")\n",
    "        \n",
    "    def stop(self):\n",
    "        # Simulate stopping the car\n",
    "        print(f\"You stopped the {self.color} {self.model}\")\n",
    "\n",
    "    def describe(self):\n",
    "        # Print a description of the car\n",
    "        print(f\"{self.year} {self.color} {self.model}\")"
   ]
  },
  {
   "cell_type": "code",
   "execution_count": 54,
   "id": "87a75d8e",
   "metadata": {},
   "outputs": [
    {
     "name": "stdout",
     "output_type": "stream",
     "text": [
      "LaFerrari\n",
      "2023\n",
      "black\n",
      "True\n",
      "You're driving the red LaFerrari\n",
      "You stopped the red LaFerrari\n",
      "2023 yellow Urus\n"
     ]
    }
   ],
   "source": [
    "# Creating Car objects (instances)\n",
    "car1 = Car(\"LaFerrari\", \"2025\", \"red\", False)\n",
    "car2 = Car(\"Mustang\", \"2025\", \"black\", True)\n",
    "car3 = Car(\"Urus\", \"2023\", \"yellow\", False)\n",
    "\n",
    "# Accessing attributes and calling methods\n",
    "print(car1.model)\n",
    "print(car3.year)\n",
    "print(car2.color)\n",
    "print(car2.for_sale)\n",
    "\n",
    "car1.drive()\n",
    "car1.stop()\n",
    "car3.describe()"
   ]
  },
  {
   "cell_type": "markdown",
   "id": "b43e4435",
   "metadata": {},
   "source": [
    "## Class Variable\n",
    "\n",
    "**Class variables** are shared among all instances of a class.  \n",
    "They are defined outside the constructor and allow you to share data among all objects created from that class.\n",
    "\n",
    "Example: A class variable can keep track of the total number of students."
   ]
  },
  {
   "cell_type": "code",
   "execution_count": 55,
   "id": "3f3a99f9",
   "metadata": {},
   "outputs": [],
   "source": [
    "# Example of class variables\n",
    "\n",
    "class Student():\n",
    "\n",
    "    class_grad_year = 2023   # Shared by all students\n",
    "    num_students = 0         # Counts all students\n",
    "\n",
    "    def __init__(self, name, age):\n",
    "        self.name = name\n",
    "        self.age = age\n",
    "        Student.num_students += 1  # Increment for each new student"
   ]
  },
  {
   "cell_type": "code",
   "execution_count": 56,
   "id": "d16197ca",
   "metadata": {},
   "outputs": [
    {
     "name": "stdout",
     "output_type": "stream",
     "text": [
      "Sankarsh\n",
      "23\n",
      "2023\n",
      "2\n",
      "My graduating class of 2023 has 2 students.\n",
      "Sankarsh\n",
      "Pavana\n"
     ]
    }
   ],
   "source": [
    "student1 = Student(\"Sankarsh\", 23)\n",
    "student2 = Student(\"Pavana\", 22)\n",
    "\n",
    "print(student1.name)\n",
    "print(student1.age)\n",
    "print(Student.class_grad_year)\n",
    "print(Student.num_students)\n",
    "\n",
    "print(f\"My graduating class of {Student.class_grad_year} has {Student.num_students} students.\")\n",
    "print(student1.name)\n",
    "print(student2.name)"
   ]
  },
  {
   "cell_type": "markdown",
   "id": "b8b3e774",
   "metadata": {},
   "source": [
    "## Inheritance\n",
    "\n",
    "**Inheritance** allows a class (child/subclass) to inherit attributes and methods from another class (parent/superclass).\n",
    "\n",
    "- This helps with code reusability and extensibility.\n",
    "- Syntax: `class Child(Parent)`"
   ]
  },
  {
   "cell_type": "code",
   "execution_count": 61,
   "id": "5cc36ca9",
   "metadata": {},
   "outputs": [],
   "source": [
    "# Example of inheritance\n",
    "\n",
    "class Animal():\n",
    "    def __init__(self, name):\n",
    "        self.name = name\n",
    "        self.is_alive = True\n",
    "    \n",
    "    def eat(self):\n",
    "        print(f\"{self.name} is eating\")\n",
    "    \n",
    "    def sleep(self):\n",
    "        print(f\"{self.name} is sleeping\")\n",
    "    \n",
    "class Dog(Animal):\n",
    "    def speak(self):\n",
    "        print(\"Bow!\")\n",
    "\n",
    "class Cat(Animal):\n",
    "    def speak(self):\n",
    "        print(\"Meeyaam!\")\n",
    "\n",
    "class Mouse(Animal):\n",
    "    def speak(self):\n",
    "        print(\"chuu chuuu!\")"
   ]
  },
  {
   "cell_type": "code",
   "execution_count": 62,
   "id": "cf64cc8b",
   "metadata": {},
   "outputs": [
    {
     "name": "stdout",
     "output_type": "stream",
     "text": [
      "Kukka\n",
      "Kukka is eating\n",
      "Pilli\n",
      "Pilli is sleeping\n",
      "Eluka is eating\n",
      "True\n",
      "Bow!\n",
      "Meeyaam!\n",
      "chuu chuuu!\n"
     ]
    }
   ],
   "source": [
    "dog = Dog(\"Kukka\")\n",
    "cat = Cat(\"Pilli\")\n",
    "mouse = Mouse(\"Eluka\")\n",
    "\n",
    "print(dog.name)\n",
    "dog.eat()\n",
    "print(cat.name)\n",
    "cat.sleep()\n",
    "mouse.eat()\n",
    "print(mouse.is_alive)\n",
    "\n",
    "dog.speak()\n",
    "cat.speak()\n",
    "mouse.speak()"
   ]
  },
  {
   "cell_type": "markdown",
   "id": "1fa1f264",
   "metadata": {},
   "source": [
    "## Multiple and Multilevel Inheritance\n",
    "\n",
    "- **Multiple inheritance**: A class inherits from more than one parent class.  \n",
    "  Syntax: `class C(A, B)`\n",
    "- **Multilevel inheritance**: A class inherits from a parent, which itself inherits from another parent.  \n",
    "  Example: `C(B) <- B(A) <- A`\n",
    "\n",
    "This allows you to build complex relationships and share functionality across classes."
   ]
  },
  {
   "cell_type": "code",
   "execution_count": 64,
   "id": "a55176e7",
   "metadata": {},
   "outputs": [],
   "source": [
    "# Multiple and Multilevel Inheritance Example\n",
    "\n",
    "class Animal:\n",
    "    def __init__(self, name):\n",
    "        self.name = name\n",
    "\n",
    "    def eat(self):\n",
    "        print(f\" {self.name} is eating\")\n",
    "    \n",
    "    def sleep(self):\n",
    "        print(f\" {self.name} is sleeping\")\n",
    "\n",
    "class Prey(Animal):\n",
    "    def flee(self):\n",
    "        print(f\" {self.name} is fleeing\")\n",
    "\n",
    "class Predator(Animal):\n",
    "    def hunt(self):\n",
    "        print(f\" {self.name} is hunting\")\n",
    "\n",
    "class Rabbit(Prey):\n",
    "    pass\n",
    "\n",
    "class Hawk(Predator):\n",
    "    pass\n",
    "\n",
    "class Fish(Prey, Predator):\n",
    "    pass"
   ]
  },
  {
   "cell_type": "code",
   "execution_count": 65,
   "id": "f716d0c8",
   "metadata": {},
   "outputs": [
    {
     "name": "stdout",
     "output_type": "stream",
     "text": [
      " Gaddha is hunting\n",
      " Kundelu is fleeing\n",
      " Chepa is fleeing\n",
      " Chepa is hunting\n"
     ]
    }
   ],
   "source": [
    "rabbit = Rabbit(\"Kundelu\")\n",
    "hawk = Hawk(\"Gaddha\")\n",
    "fish = Fish(\"Chepa\")\n",
    "\n",
    "hawk.hunt()\n",
    "rabbit.flee()\n",
    "fish.flee()\n",
    "fish.hunt()"
   ]
  },
  {
   "cell_type": "markdown",
   "id": "c33e779b",
   "metadata": {},
   "source": [
    "#### Multilevel inheritance demonstration\n",
    "\n",
    "You can call methods from all parent classes in the inheritance chain."
   ]
  },
  {
   "cell_type": "code",
   "execution_count": 66,
   "id": "6a4284e0",
   "metadata": {},
   "outputs": [
    {
     "name": "stdout",
     "output_type": "stream",
     "text": [
      " Gaddha is eating\n",
      " Kundelu is sleeping\n",
      " Chepa is hunting\n",
      " Chepa is eating\n"
     ]
    }
   ],
   "source": [
    "hawk.eat()\n",
    "rabbit.sleep()\n",
    "fish.hunt()\n",
    "fish.eat()\n",
    "# hawk.flee()   # AttributeError: 'Hawk' object has no attribute 'flee'\n",
    "# rabbit.hunt() # AttributeError: 'Rabbit' object has no attribute 'hunt'"
   ]
  },
  {
   "cell_type": "markdown",
   "id": "6d3be9be",
   "metadata": {},
   "source": [
    "## Abstract Class\n",
    "\n",
    "An **abstract class** is a class that cannot be instantiated directly.  \n",
    "It is meant to be subclassed and can contain abstract methods (methods declared but not implemented).\n",
    "\n",
    "**Benefits:**\n",
    "1. Prevents instantiation of the class itself.\n",
    "2. Forces child classes to implement the abstract methods, ensuring a consistent interface."
   ]
  },
  {
   "cell_type": "code",
   "execution_count": 68,
   "id": "3b8444ba",
   "metadata": {},
   "outputs": [],
   "source": [
    "from abc import ABC, abstractmethod\n",
    "\n",
    "# Abstract base class\n",
    "class Vehicle(ABC):\n",
    "    \n",
    "    @abstractmethod\n",
    "    def go(self):\n",
    "        pass\n",
    "\n",
    "    @abstractmethod\n",
    "    def stop(self):\n",
    "        pass\n",
    "\n",
    "# Subclasses must implement all abstract methods\n",
    "class Car(Vehicle):\n",
    "    def go(self):\n",
    "        print(\"You drive the car\")\n",
    "\n",
    "    def stop(self):\n",
    "        print(\"You stop the car\")\n",
    "\n",
    "class Motorcycle(Vehicle):\n",
    "    def go(self):\n",
    "        print(\"You ride the motorcycle\")\n",
    "    \n",
    "    def stop(self):\n",
    "        print(\"You stop the motorcycle\")\n",
    "\n",
    "class Boat(Vehicle):\n",
    "    def go(self):\n",
    "        print(\"You sail the boat\")\n",
    "\n",
    "    def stop(self):\n",
    "        print(\"You anchor the boat\")"
   ]
  },
  {
   "cell_type": "code",
   "execution_count": 69,
   "id": "d004806f",
   "metadata": {},
   "outputs": [
    {
     "name": "stdout",
     "output_type": "stream",
     "text": [
      "You drive the car\n",
      "You stop the car\n",
      "You ride the motorcycle\n",
      "You stop the motorcycle\n",
      "You sail the boat\n",
      "You anchor the boat\n"
     ]
    }
   ],
   "source": [
    "car = Car()\n",
    "motorcycle = Motorcycle()\n",
    "boat = Boat()\n",
    "\n",
    "car.go()\n",
    "car.stop()\n",
    "motorcycle.go()\n",
    "motorcycle.stop()\n",
    "boat.go()\n",
    "boat.stop()"
   ]
  }
 ],
 "metadata": {
  "kernelspec": {
   "display_name": "Python 3",
   "language": "python",
   "name": "python3"
  },
  "language_info": {
   "codemirror_mode": {
    "name": "ipython",
    "version": 3
   },
   "file_extension": ".py",
   "mimetype": "text/x-python",
   "name": "python",
   "nbconvert_exporter": "python",
   "pygments_lexer": "ipython3",
   "version": "3.12.4"
  }
 },
 "nbformat": 4,
 "nbformat_minor": 5
}
