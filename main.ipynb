{
 "cells": [
  {
   "cell_type": "markdown",
   "id": "a0aec121",
   "metadata": {},
   "source": [
    "## Class and Object"
   ]
  },
  {
   "cell_type": "markdown",
   "id": "3181b717",
   "metadata": {},
   "source": [
    "#### class = (blueprint) used to design the structure and layout of an object\n",
    "\n",
    "#### object = A \"bundle\" of related attributes (variables) and methods (functions)\n",
    "1. Ex. phone, cup, book\n",
    "2. You need a \"class\" to create many objects"
   ]
  },
  {
   "cell_type": "code",
   "execution_count": 75,
   "id": "245650e1",
   "metadata": {},
   "outputs": [],
   "source": [
    "import importlib\n",
    "import classes\n",
    "importlib.reload(classes)\n",
    "Car = classes.Car"
   ]
  },
  {
   "cell_type": "code",
   "execution_count": 76,
   "id": "87a75d8e",
   "metadata": {},
   "outputs": [
    {
     "name": "stdout",
     "output_type": "stream",
     "text": [
      "<classes.Car object at 0x10443b560>\n"
     ]
    }
   ],
   "source": [
    "car1 = Car(\"LaFerrari\", \"2025\", \"red\", False)\n",
    "car2 = Car(\"Mustang\", \"2025\", \"black\", True)\n",
    "car3 = Car(\"Urus\", \"2023\", \"yellow\", False)\n",
    "print(car1)"
   ]
  },
  {
   "cell_type": "code",
   "execution_count": 77,
   "id": "2097e97e",
   "metadata": {},
   "outputs": [
    {
     "name": "stdout",
     "output_type": "stream",
     "text": [
      "LaFerrari\n",
      "2023\n",
      "black\n",
      "True\n"
     ]
    }
   ],
   "source": [
    "print(car1.model)\n",
    "print(car3.year)\n",
    "print(car2.color)\n",
    "print(car2.for_sale)"
   ]
  },
  {
   "cell_type": "code",
   "execution_count": 78,
   "id": "530c337c",
   "metadata": {},
   "outputs": [
    {
     "name": "stdout",
     "output_type": "stream",
     "text": [
      "You're driving the red LaFerrari\n",
      "You stopped the red LaFerrari\n"
     ]
    }
   ],
   "source": [
    "car1.drive()\n",
    "car1.stop()"
   ]
  },
  {
   "cell_type": "code",
   "execution_count": 79,
   "id": "8a0f4d5b",
   "metadata": {},
   "outputs": [
    {
     "name": "stdout",
     "output_type": "stream",
     "text": [
      "2023 yellow Urus\n"
     ]
    }
   ],
   "source": [
    "car3.describe()"
   ]
  },
  {
   "cell_type": "markdown",
   "id": "5ea0b13c",
   "metadata": {},
   "source": [
    "## Class Variable"
   ]
  },
  {
   "cell_type": "markdown",
   "id": "b43e4435",
   "metadata": {},
   "source": [
    "#### class variables = Shared among all instances of a class\n",
    "1. Defined outside the constructor\n",
    "2. Allow you to share data among all objects created from that class"
   ]
  },
  {
   "cell_type": "code",
   "execution_count": 80,
   "id": "65408620",
   "metadata": {},
   "outputs": [],
   "source": [
    "import importlib\n",
    "import classes\n",
    "importlib.reload(classes)\n",
    "Student = classes.Student"
   ]
  },
  {
   "cell_type": "code",
   "execution_count": 81,
   "id": "d16197ca",
   "metadata": {},
   "outputs": [],
   "source": [
    "student1 = Student(\"Sankarsh\", 23)\n",
    "student2 = Student(\"Pavana\", 22)"
   ]
  },
  {
   "cell_type": "code",
   "execution_count": 82,
   "id": "39b1a098",
   "metadata": {},
   "outputs": [
    {
     "name": "stdout",
     "output_type": "stream",
     "text": [
      "Sankarsh\n",
      "23\n",
      "2023\n",
      "2\n"
     ]
    }
   ],
   "source": [
    "print(student1.name)\n",
    "print(student1.age)\n",
    "print(Student.class_grad_year)\n",
    "print(Student.num_students)"
   ]
  },
  {
   "cell_type": "code",
   "execution_count": 83,
   "id": "20babd87",
   "metadata": {},
   "outputs": [
    {
     "name": "stdout",
     "output_type": "stream",
     "text": [
      "My graduating class of 2023 has 2 students.\n",
      "Sankarsh\n",
      "Pavana\n"
     ]
    }
   ],
   "source": [
    "print(f\"My graduating class of {Student.class_grad_year} has {Student.num_students} students.\")\n",
    "print(student1.name)\n",
    "print(student2.name)"
   ]
  },
  {
   "cell_type": "markdown",
   "id": "b8b3e774",
   "metadata": {},
   "source": [
    "## Inheritance"
   ]
  },
  {
   "cell_type": "markdown",
   "id": "a5546945",
   "metadata": {},
   "source": [
    "#### Inheritance = Allows a class to inherit attributes and methods from another class\n",
    "1. Helps with code reusability and extensibility \n",
    "2. class Child(Parent).......also known as Sub(Super) classes"
   ]
  },
  {
   "cell_type": "code",
   "execution_count": 84,
   "id": "5cc36ca9",
   "metadata": {},
   "outputs": [],
   "source": [
    "import importlib\n",
    "import classes\n",
    "importlib.reload(classes)\n",
    "Dog = classes.Dog\n",
    "Cat = classes.Cat\n",
    "Mouse = classes.Mouse"
   ]
  },
  {
   "cell_type": "code",
   "execution_count": 85,
   "id": "cf64cc8b",
   "metadata": {},
   "outputs": [],
   "source": [
    "dog = Dog(\"Kukka\")\n",
    "cat = Cat(\"Pilli\")\n",
    "mouse = Mouse(\"Eluka\")"
   ]
  },
  {
   "cell_type": "code",
   "execution_count": 86,
   "id": "c27665e6",
   "metadata": {},
   "outputs": [
    {
     "name": "stdout",
     "output_type": "stream",
     "text": [
      "Kukka\n",
      "Kukka is eating\n",
      "Pilli\n",
      "Pilli is sleeping\n",
      "Eluka is eating\n",
      "True\n"
     ]
    }
   ],
   "source": [
    "print(dog.name)\n",
    "dog.eat()\n",
    "print(cat.name)\n",
    "cat.sleep()\n",
    "mouse.eat()\n",
    "print(mouse.is_alive)"
   ]
  },
  {
   "cell_type": "code",
   "execution_count": 87,
   "id": "bbff6d3e",
   "metadata": {},
   "outputs": [
    {
     "name": "stdout",
     "output_type": "stream",
     "text": [
      "Bow!\n",
      "Meeyaam!\n",
      "chuu chuuu!\n"
     ]
    }
   ],
   "source": [
    "dog.speak()\n",
    "cat.speak()\n",
    "mouse.speak()"
   ]
  },
  {
   "cell_type": "markdown",
   "id": "1fa1f264",
   "metadata": {},
   "source": [
    "## Multiple and Multilevel Inheritance"
   ]
  },
  {
   "cell_type": "markdown",
   "id": "2e2e1936",
   "metadata": {},
   "source": [
    "#### multiple inheritance = inherit from more than one parent class\n",
    "C(A, B)"
   ]
  },
  {
   "cell_type": "code",
   "execution_count": 88,
   "id": "a55176e7",
   "metadata": {},
   "outputs": [],
   "source": [
    "import importlib\n",
    "import classes\n",
    "importlib.reload(classes)\n",
    "Rabbit = classes.Rabbit\n",
    "Hawk = classes.Hawk\n",
    "Fish = classes.Fish"
   ]
  },
  {
   "cell_type": "code",
   "execution_count": 89,
   "id": "f716d0c8",
   "metadata": {},
   "outputs": [],
   "source": [
    "rabbit = Rabbit(\"Kundelu\")\n",
    "hawk = Hawk(\"Gaddha\")\n",
    "fish = Fish(\"Chepa\")"
   ]
  },
  {
   "cell_type": "code",
   "execution_count": 90,
   "id": "baac4747",
   "metadata": {},
   "outputs": [
    {
     "name": "stdout",
     "output_type": "stream",
     "text": [
      " Gaddha is hunting\n",
      " Kundelu is fleeing\n",
      " Chepa is fleeing\n",
      " Chepa is hunting\n"
     ]
    }
   ],
   "source": [
    "hawk.hunt()\n",
    "rabbit.flee()\n",
    "fish.flee()\n",
    "fish.hunt()"
   ]
  },
  {
   "cell_type": "markdown",
   "id": "c33e779b",
   "metadata": {},
   "source": [
    "#### multilevel inheritance = inherit from a parent which inherits from another parent\n",
    "C（B） <-B（A）く-A"
   ]
  },
  {
   "cell_type": "code",
   "execution_count": 91,
   "id": "6a4284e0",
   "metadata": {},
   "outputs": [
    {
     "name": "stdout",
     "output_type": "stream",
     "text": [
      " Gaddha is eating\n",
      " Kundelu is sleeping\n",
      " Chepa is hunting\n",
      " Chepa is eating\n"
     ]
    }
   ],
   "source": [
    "hawk.eat()\n",
    "rabbit.sleep()\n",
    "fish.hunt()\n",
    "fish.eat()\n",
    "# hawk.flee()   # AttributeError: 'Hawk' object has no attribute 'flee'\n",
    "# rabbit.hunt() # AttributeError: 'Rabbit' object has no attribute 'hunt'"
   ]
  },
  {
   "cell_type": "markdown",
   "id": "6d3be9be",
   "metadata": {},
   "source": [
    "## Abstract Class"
   ]
  },
  {
   "cell_type": "markdown",
   "id": "79f4fe99",
   "metadata": {},
   "source": [
    "#### Abstract class: A class that cannot be instantiated on its own; Meant to be subclassed.\n",
    "They can contain abstract methods, which are declared but have no implementation.\n",
    "Abstract classes benefits:\n",
    "1. Prevents instantiation of the class itself\n",
    "2. Requires children to use inherited abstract methods"
   ]
  },
  {
   "cell_type": "code",
   "execution_count": 98,
   "id": "3b8444ba",
   "metadata": {},
   "outputs": [],
   "source": [
    "import importlib\n",
    "import classes\n",
    "importlib.reload(classes)\n",
    "Car = classes.Car\n",
    "Motorcycle = classes.Motorcycle\n",
    "Boat = classes.Boat"
   ]
  },
  {
   "cell_type": "code",
   "execution_count": 99,
   "id": "d004806f",
   "metadata": {},
   "outputs": [],
   "source": [
    "car = Car()\n",
    "motorcycle = Motorcycle()\n",
    "boat = Boat()"
   ]
  },
  {
   "cell_type": "code",
   "execution_count": 100,
   "id": "1874f6f0",
   "metadata": {},
   "outputs": [
    {
     "name": "stdout",
     "output_type": "stream",
     "text": [
      "You drive the car\n",
      "You stop the car\n",
      "You ride the motorcycle\n",
      "You stop the motorcycle\n",
      "You sail the boat\n",
      "You anchor the boat\n"
     ]
    }
   ],
   "source": [
    "car.go()\n",
    "car.stop()\n",
    "motorcycle.go()\n",
    "motorcycle.stop()\n",
    "boat.go()\n",
    "boat.stop()"
   ]
  }
 ],
 "metadata": {
  "kernelspec": {
   "display_name": "Python 3",
   "language": "python",
   "name": "python3"
  },
  "language_info": {
   "codemirror_mode": {
    "name": "ipython",
    "version": 3
   },
   "file_extension": ".py",
   "mimetype": "text/x-python",
   "name": "python",
   "nbconvert_exporter": "python",
   "pygments_lexer": "ipython3",
   "version": "3.12.4"
  }
 },
 "nbformat": 4,
 "nbformat_minor": 5
}
