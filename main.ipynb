{
 "cells": [
  {
   "cell_type": "markdown",
   "id": "26ecc978",
   "metadata": {},
   "source": [
    "# Python OOP Notes\n",
    "\n",
    "## What is Object-Oriented Programming?\n",
    "\n",
    "**Object-Oriented Programming (OOP)** is a programming paradigm based on the concept of \"objects\", which bundle data (attributes) and code (methods).  \n",
    "OOP helps organize code, promotes reusability, and models real-world entities.\n",
    "\n",
    "**Main OOP concepts:**\n",
    "- **Class**: Blueprint for creating objects.\n",
    "- **Object**: Instance of a class.\n",
    "- **Attribute**: Variable that belongs to an object or class.\n",
    "- **Method**: Function that belongs to a class.\n",
    "- **Inheritance**: Mechanism to create new classes from existing ones.\n",
    "- **Abstraction**: Hiding complex implementation details.\n",
    "- **Encapsulation**: Bundling data and methods together.\n",
    "- **Polymorphism**: Using a common interface for different data types.\n",
    "\n",
    "This notebook covers the main Object-Oriented Programming (OOP) concepts in Python:\n",
    "- Class and Object\n",
    "- Class Variables\n",
    "- Inheritance (Single, Multiple, Multilevel)\n",
    "- Abstract Classes\n",
    "- Super() function and Method Overriding\n",
    "- Polymorphism\n",
    "\n",
    "Each section includes explanations, syntax and code examples."
   ]
  },
  {
   "cell_type": "markdown",
   "id": "3181b717",
   "metadata": {},
   "source": [
    "## Class and Object\n",
    "\n",
    "A **class** is a blueprint for creating objects.  \n",
    "An **object** (or instance) is a specific realization of a class, bundling related attributes (variables) and methods (functions).\n",
    "\n",
    "Example: You can have a class `Car` and create many car objects from it."
   ]
  },
  {
   "cell_type": "markdown",
   "id": "60917222",
   "metadata": {},
   "source": [
    "\n",
    "---\n",
    "\n",
    "```markdown\n",
    "### Syntax: Defining a Class and Creating an Object\n",
    "\n",
    "```python\n",
    "class ClassName:\n",
    "    def __init__(self, ...):\n",
    "        # attributes\n",
    "        pass\n",
    "    def method(self):\n",
    "        pass\n",
    "\n",
    "object_name = ClassName(...)"
   ]
  },
  {
   "cell_type": "code",
   "execution_count": 1,
   "id": "7ccf5255",
   "metadata": {},
   "outputs": [],
   "source": [
    "# Creating a Car class with attributes and methods\n",
    "\n",
    "class Car():\n",
    "    def __init__(self, model, year, color, for_sale):\n",
    "        # Instance attributes unique to each object\n",
    "        self.model = model\n",
    "        self.year = year\n",
    "        self.color = color\n",
    "        self.for_sale = for_sale\n",
    "\n",
    "    def drive(self):\n",
    "        # Simulate driving the car\n",
    "        print(f\"You're driving the {self.color} {self.model}\")\n",
    "        \n",
    "    def stop(self):\n",
    "        # Simulate stopping the car\n",
    "        print(f\"You stopped the {self.color} {self.model}\")\n",
    "\n",
    "    def describe(self):\n",
    "        # Print a description of the car\n",
    "        print(f\"{self.year} {self.color} {self.model}\")"
   ]
  },
  {
   "cell_type": "code",
   "execution_count": 2,
   "id": "87a75d8e",
   "metadata": {},
   "outputs": [
    {
     "name": "stdout",
     "output_type": "stream",
     "text": [
      "LaFerrari\n",
      "2023\n",
      "black\n",
      "True\n",
      "You're driving the red LaFerrari\n",
      "You stopped the red LaFerrari\n",
      "2023 yellow Urus\n"
     ]
    }
   ],
   "source": [
    "# Creating Car objects (instances)\n",
    "car1 = Car(\"LaFerrari\", \"2025\", \"red\", False)\n",
    "car2 = Car(\"Mustang\", \"2025\", \"black\", True)\n",
    "car3 = Car(\"Urus\", \"2023\", \"yellow\", False)\n",
    "\n",
    "# Accessing attributes and calling methods\n",
    "print(car1.model)\n",
    "print(car3.year)\n",
    "print(car2.color)\n",
    "print(car2.for_sale)\n",
    "\n",
    "car1.drive()\n",
    "car1.stop()\n",
    "car3.describe()"
   ]
  },
  {
   "cell_type": "markdown",
   "id": "b43e4435",
   "metadata": {},
   "source": [
    "## Class Variable\n",
    "\n",
    "**Class variables** are shared among all instances of a class.  \n",
    "They are defined outside the constructor and allow you to share data among all objects created from that class.\n",
    "\n",
    "Example: A class variable can keep track of the total number of students."
   ]
  },
  {
   "cell_type": "markdown",
   "id": "a8e46973",
   "metadata": {},
   "source": [
    "\n",
    "---\n",
    "\n",
    "```markdown\n",
    "### Syntax: Class Variable\n",
    "\n",
    "```python\n",
    "class ClassName:\n",
    "    class_variable = value\n",
    "    def __init__(self, ...):\n",
    "        pass"
   ]
  },
  {
   "cell_type": "code",
   "execution_count": 3,
   "id": "3f3a99f9",
   "metadata": {},
   "outputs": [],
   "source": [
    "# Example of class variables\n",
    "\n",
    "class Student():\n",
    "\n",
    "    class_grad_year = 2023   # Shared by all students\n",
    "    num_students = 0         # Counts all students\n",
    "\n",
    "    def __init__(self, name, age):\n",
    "        self.name = name\n",
    "        self.age = age\n",
    "        Student.num_students += 1  # Increment for each new student"
   ]
  },
  {
   "cell_type": "code",
   "execution_count": 4,
   "id": "d16197ca",
   "metadata": {},
   "outputs": [
    {
     "name": "stdout",
     "output_type": "stream",
     "text": [
      "Sankarsh\n",
      "23\n",
      "2023\n",
      "2\n",
      "My graduating class of 2023 has 2 students.\n",
      "Sankarsh\n",
      "Pavana\n"
     ]
    }
   ],
   "source": [
    "student1 = Student(\"Sankarsh\", 23)\n",
    "student2 = Student(\"Pavana\", 22)\n",
    "\n",
    "print(student1.name)\n",
    "print(student1.age)\n",
    "print(Student.class_grad_year)\n",
    "print(Student.num_students)\n",
    "\n",
    "print(f\"My graduating class of {Student.class_grad_year} has {Student.num_students} students.\")\n",
    "print(student1.name)\n",
    "print(student2.name)"
   ]
  },
  {
   "cell_type": "markdown",
   "id": "b8b3e774",
   "metadata": {},
   "source": [
    "## Inheritance\n",
    "\n",
    "**Inheritance** allows a class (child/subclass) to inherit attributes and methods from another class (parent/superclass).\n",
    "\n",
    "- This helps with code reusability and extensibility.\n",
    "- Syntax: `class Child(Parent)`"
   ]
  },
  {
   "cell_type": "markdown",
   "id": "31f85eb8",
   "metadata": {},
   "source": [
    "\n",
    "---\n",
    "\n",
    "```markdown\n",
    "### Syntax: Inheritance\n",
    "\n",
    "```python\n",
    "class Parent:\n",
    "    # parent code\n",
    "\n",
    "class Child(Parent):\n",
    "    # child code"
   ]
  },
  {
   "cell_type": "code",
   "execution_count": 5,
   "id": "5cc36ca9",
   "metadata": {},
   "outputs": [],
   "source": [
    "# Example of inheritance\n",
    "\n",
    "class Animal():\n",
    "    def __init__(self, name):\n",
    "        self.name = name\n",
    "        self.is_alive = True\n",
    "    \n",
    "    def eat(self):\n",
    "        print(f\"{self.name} is eating\")\n",
    "    \n",
    "    def sleep(self):\n",
    "        print(f\"{self.name} is sleeping\")\n",
    "    \n",
    "class Dog(Animal):\n",
    "    def speak(self):\n",
    "        print(\"Bow!\")\n",
    "\n",
    "class Cat(Animal):\n",
    "    def speak(self):\n",
    "        print(\"Meeyaam!\")\n",
    "\n",
    "class Mouse(Animal):\n",
    "    def speak(self):\n",
    "        print(\"chuu chuuu!\")"
   ]
  },
  {
   "cell_type": "code",
   "execution_count": 6,
   "id": "cf64cc8b",
   "metadata": {},
   "outputs": [
    {
     "name": "stdout",
     "output_type": "stream",
     "text": [
      "Kukka\n",
      "Kukka is eating\n",
      "Pilli\n",
      "Pilli is sleeping\n",
      "Eluka is eating\n",
      "True\n",
      "Bow!\n",
      "Meeyaam!\n",
      "chuu chuuu!\n"
     ]
    }
   ],
   "source": [
    "dog = Dog(\"Kukka\")\n",
    "cat = Cat(\"Pilli\")\n",
    "mouse = Mouse(\"Eluka\")\n",
    "\n",
    "print(dog.name)\n",
    "dog.eat()\n",
    "print(cat.name)\n",
    "cat.sleep()\n",
    "mouse.eat()\n",
    "print(mouse.is_alive)\n",
    "\n",
    "dog.speak()\n",
    "cat.speak()\n",
    "mouse.speak()"
   ]
  },
  {
   "cell_type": "markdown",
   "id": "1fa1f264",
   "metadata": {},
   "source": [
    "## Multiple and Multilevel Inheritance\n",
    "\n",
    "- **Multiple inheritance**: A class inherits from more than one parent class.  \n",
    "  Syntax: `class C(A, B)`\n",
    "- **Multilevel inheritance**: A class inherits from a parent, which itself inherits from another parent.  \n",
    "  Example: `C(B) <- B(A) <- A`\n",
    "\n",
    "This allows you to build complex relationships and share functionality across classes."
   ]
  },
  {
   "cell_type": "markdown",
   "id": "61fc3412",
   "metadata": {},
   "source": [
    "\n",
    "---\n",
    "\n",
    "```markdown\n",
    "### Syntax: Multiple and Multilevel Inheritance\n",
    "\n",
    "```python\n",
    "# Multiple inheritance\n",
    "class A: pass\n",
    "class B: pass\n",
    "class C(A, B): pass\n",
    "\n",
    "# Multilevel inheritance\n",
    "class A: pass\n",
    "class B(A): pass\n",
    "class C(B): pass"
   ]
  },
  {
   "cell_type": "code",
   "execution_count": 7,
   "id": "a55176e7",
   "metadata": {},
   "outputs": [],
   "source": [
    "# Multiple and Multilevel Inheritance Example\n",
    "\n",
    "class Animal:\n",
    "    def __init__(self, name):\n",
    "        self.name = name\n",
    "\n",
    "    def eat(self):\n",
    "        print(f\" {self.name} is eating\")\n",
    "    \n",
    "    def sleep(self):\n",
    "        print(f\" {self.name} is sleeping\")\n",
    "\n",
    "class Prey(Animal):\n",
    "    def flee(self):\n",
    "        print(f\" {self.name} is fleeing\")\n",
    "\n",
    "class Predator(Animal):\n",
    "    def hunt(self):\n",
    "        print(f\" {self.name} is hunting\")\n",
    "\n",
    "class Rabbit(Prey):\n",
    "    pass\n",
    "\n",
    "class Hawk(Predator):\n",
    "    pass\n",
    "\n",
    "class Fish(Prey, Predator):\n",
    "    pass"
   ]
  },
  {
   "cell_type": "code",
   "execution_count": 8,
   "id": "f716d0c8",
   "metadata": {},
   "outputs": [
    {
     "name": "stdout",
     "output_type": "stream",
     "text": [
      " Gaddha is hunting\n",
      " Kundelu is fleeing\n",
      " Chepa is fleeing\n",
      " Chepa is hunting\n"
     ]
    }
   ],
   "source": [
    "rabbit = Rabbit(\"Kundelu\")\n",
    "hawk = Hawk(\"Gaddha\")\n",
    "fish = Fish(\"Chepa\")\n",
    "\n",
    "hawk.hunt()\n",
    "rabbit.flee()\n",
    "fish.flee()\n",
    "fish.hunt()"
   ]
  },
  {
   "cell_type": "markdown",
   "id": "c33e779b",
   "metadata": {},
   "source": [
    "#### Multilevel inheritance demonstration\n",
    "\n",
    "You can call methods from all parent classes in the inheritance chain."
   ]
  },
  {
   "cell_type": "code",
   "execution_count": 9,
   "id": "6a4284e0",
   "metadata": {},
   "outputs": [
    {
     "name": "stdout",
     "output_type": "stream",
     "text": [
      " Gaddha is eating\n",
      " Kundelu is sleeping\n",
      " Chepa is hunting\n",
      " Chepa is eating\n"
     ]
    }
   ],
   "source": [
    "hawk.eat()\n",
    "rabbit.sleep()\n",
    "fish.hunt()\n",
    "fish.eat()\n",
    "# hawk.flee()   # AttributeError: 'Hawk' object has no attribute 'flee'\n",
    "# rabbit.hunt() # AttributeError: 'Rabbit' object has no attribute 'hunt'"
   ]
  },
  {
   "cell_type": "markdown",
   "id": "6d3be9be",
   "metadata": {},
   "source": [
    "## Abstract Class\n",
    "\n",
    "An **abstract class** is a class that cannot be instantiated directly.  \n",
    "It is meant to be subclassed and can contain abstract methods (methods declared but not implemented).\n",
    "\n",
    "**Benefits:**\n",
    "1. Prevents instantiation of the class itself.\n",
    "2. Forces child classes to implement the abstract methods, ensuring a consistent interface."
   ]
  },
  {
   "cell_type": "markdown",
   "id": "925cec6b",
   "metadata": {},
   "source": [
    "\n",
    "---\n",
    "\n",
    "```markdown\n",
    "### Syntax: Abstract Class\n",
    "\n",
    "```python\n",
    "from abc import ABC, abstractmethod\n",
    "\n",
    "class AbstractClass(ABC):\n",
    "    @abstractmethod\n",
    "    def method(self):\n",
    "        pass\n",
    "\n",
    "class Child(AbstractClass):\n",
    "    def method(self):\n",
    "        # implementation\n",
    "        pass"
   ]
  },
  {
   "cell_type": "code",
   "execution_count": 10,
   "id": "3b8444ba",
   "metadata": {},
   "outputs": [],
   "source": [
    "from abc import ABC, abstractmethod\n",
    "\n",
    "# Abstract base class\n",
    "class Vehicle(ABC):\n",
    "    \n",
    "    @abstractmethod\n",
    "    def go(self):\n",
    "        pass\n",
    "\n",
    "    @abstractmethod\n",
    "    def stop(self):\n",
    "        pass\n",
    "\n",
    "# Subclasses must implement all abstract methods\n",
    "class Car(Vehicle):\n",
    "    def go(self):\n",
    "        print(\"You drive the car\")\n",
    "\n",
    "    def stop(self):\n",
    "        print(\"You stop the car\")\n",
    "\n",
    "class Motorcycle(Vehicle):\n",
    "    def go(self):\n",
    "        print(\"You ride the motorcycle\")\n",
    "    \n",
    "    def stop(self):\n",
    "        print(\"You stop the motorcycle\")\n",
    "\n",
    "class Boat(Vehicle):\n",
    "    def go(self):\n",
    "        print(\"You sail the boat\")\n",
    "\n",
    "    def stop(self):\n",
    "        print(\"You anchor the boat\")"
   ]
  },
  {
   "cell_type": "code",
   "execution_count": 11,
   "id": "d004806f",
   "metadata": {},
   "outputs": [
    {
     "name": "stdout",
     "output_type": "stream",
     "text": [
      "You drive the car\n",
      "You stop the car\n",
      "You ride the motorcycle\n",
      "You stop the motorcycle\n",
      "You sail the boat\n",
      "You anchor the boat\n"
     ]
    }
   ],
   "source": [
    "car = Car()\n",
    "motorcycle = Motorcycle()\n",
    "boat = Boat()\n",
    "\n",
    "car.go()\n",
    "car.stop()\n",
    "motorcycle.go()\n",
    "motorcycle.stop()\n",
    "boat.go()\n",
    "boat.stop()"
   ]
  },
  {
   "cell_type": "markdown",
   "id": "32a5d923",
   "metadata": {},
   "source": [
    "## Super()\n",
    "\n",
    "The **super()** function in Python is used in a child class to call methods from its parent class (superclass).  \n",
    "This allows you to extend or customize the functionality of inherited methods without rewriting them.\n",
    "\n",
    "---\n",
    "\n",
    "### Syntax: Using super() in a subclass\n",
    "\n",
    "```python\n",
    "class Parent:\n",
    "    def __init__(self, ...):\n",
    "        # parent initialization\n",
    "        pass\n",
    "\n",
    "class Child(Parent):\n",
    "    def __init__(self, ...):\n",
    "        super().__init__(...)  # Calls Parent's __init__\n",
    "        # child initialization"
   ]
  },
  {
   "cell_type": "code",
   "execution_count": 22,
   "id": "b0b2eee8",
   "metadata": {},
   "outputs": [
    {
     "name": "stdout",
     "output_type": "stream",
     "text": [
      "Circle\n",
      "The color of the circle is red\n",
      "The circle is filled\n",
      "The radius of the circle is 5 cm\n",
      "\n",
      "Square\n",
      "The color of the square is blue\n",
      "The square is not filled\n",
      "The length of side of the square is 6 cm\n",
      "\n",
      "Triangle\n",
      "The color of the triangle is yellow\n",
      "The triangle is filled\n",
      "The length of side of the triangle is 4 cm\n",
      "The height of the triangle is 7 cm\n",
      "\n",
      "Describe method\n",
      "It is red and is filled\n",
      "It is blue and is not filled\n",
      "It is yellow and is filled\n"
     ]
    }
   ],
   "source": [
    "# Example: Using super() to initialize parent class attributes\n",
    "\n",
    "class Shape:\n",
    "    def __init__(self, color, is_filled):\n",
    "        self.color = color\n",
    "        self.is_filled = is_filled\n",
    "\n",
    "    def describe(self):\n",
    "        # Describe the shape's color and fill status\n",
    "        print(f\"It is {self.color} and is {'filled' if self.is_filled else 'not filled'}\")\n",
    "\n",
    "class Circle(Shape):\n",
    "    def __init__(self, color, is_filled, radius):\n",
    "        super().__init__(color, is_filled)\n",
    "        self.radius = radius\n",
    "\n",
    "class Square(Shape):\n",
    "    def __init__(self, color, is_filled, side_len):\n",
    "        super().__init__(color, is_filled)\n",
    "        self.side_len = side_len\n",
    "\n",
    "class Triangle(Shape):\n",
    "    def __init__(self, color, is_filled, side_len, height):\n",
    "        super().__init__(color, is_filled)\n",
    "        self.side_len = side_len\n",
    "        self.height = height\n",
    "\n",
    "# Creating objects of each shape\n",
    "circle = Circle(color=\"red\", is_filled=True, radius=5)\n",
    "square = Square(color=\"blue\", is_filled=False, side_len=6)\n",
    "triangle = Triangle(color=\"yellow\", is_filled=True, side_len=4, height=7)\n",
    "\n",
    "# Accessing attributes and using describe method\n",
    "print(\"Circle\")\n",
    "print(f\"The color of the circle is {circle.color}\")\n",
    "print(f\"{'The circle is filled' if circle.is_filled else 'The circle is not filled'}\")\n",
    "print(f\"The radius of the circle is {circle.radius} cm\")\n",
    "\n",
    "print(\"\\nSquare\")\n",
    "print(f\"The color of the square is {square.color}\")\n",
    "print(f\"{'The square is filled' if square.is_filled else 'The square is not filled'}\")\n",
    "print(f\"The length of side of the square is {square.side_len} cm\")\n",
    "\n",
    "print(\"\\nTriangle\")\n",
    "print(f\"The color of the triangle is {triangle.color}\")\n",
    "print(f\"{'The triangle is filled' if triangle.is_filled else 'The triangle is not filled'}\")\n",
    "print(f\"The length of side of the triangle is {triangle.side_len} cm\")\n",
    "print(f\"The height of the triangle is {triangle.height} cm\")\n",
    "\n",
    "# Call describe method for each shape\n",
    "print(\"\\nDescribe method\")\n",
    "circle.describe()\n",
    "square.describe()\n",
    "triangle.describe()"
   ]
  },
  {
   "cell_type": "markdown",
   "id": "d1719e2e",
   "metadata": {},
   "source": [
    "### Method Overriding\n",
    "\n",
    "**Method overriding** occurs when a child class defines a method with the same name as a method in its parent class.  \n",
    "When you call the method on the child class object, the child’s version is used.\n",
    "\n",
    "---\n",
    "\n",
    "### Syntax: Method Overriding\n",
    "\n",
    "```python\n",
    "class Parent:\n",
    "    def method(self):\n",
    "        print(\"Parent method\")\n",
    "\n",
    "class Child(Parent):\n",
    "    def method(self):\n",
    "        print(\"Child method\")\n",
    "\n",
    "obj = Child()\n",
    "obj.method()  # Output: Child method"
   ]
  },
  {
   "cell_type": "code",
   "execution_count": 16,
   "id": "5806f884",
   "metadata": {},
   "outputs": [
    {
     "name": "stdout",
     "output_type": "stream",
     "text": [
      "It is a circle of area 154.0 cm²\n"
     ]
    }
   ],
   "source": [
    "# Example: Overriding the describe method in Circle\n",
    "\n",
    "class Shape:\n",
    "    def __init__(self, color, is_filled):\n",
    "        self.color = color\n",
    "        self.is_filled = is_filled\n",
    "\n",
    "    def describe(self):\n",
    "        print(f\"It is {self.color} and is {'filled' if self.is_filled else 'not filled'}\")\n",
    "\n",
    "class Circle(Shape):\n",
    "    def __init__(self, color, is_filled, radius):\n",
    "        super().__init__(color, is_filled)\n",
    "        self.radius = radius\n",
    "\n",
    "    # Overriding the describe method\n",
    "    def describe(self):\n",
    "        area = 22/7 * self.radius * self.radius\n",
    "        print(f\"It is a circle of area {area} cm²\")\n",
    "\n",
    "circle = Circle(color=\"red\", is_filled=True, radius=7)\n",
    "circle.describe()  # Calls the overridden method in Circle"
   ]
  },
  {
   "cell_type": "markdown",
   "id": "278709a4",
   "metadata": {},
   "source": [
    "## Polymorphism\n",
    "\n",
    "The **Polymorphism** is a greek word that means to \"have many forms or faces\"\n",
    "- Poly = Many\n",
    "- Morphe = Form\n",
    "\n",
    "TWO WAYS TO ACHIEVE POLYMORPHISM\n",
    "1. Inheritance = An object could be treated of the same type as a parent class\n",
    "2. \"Duck typing\" = Object must have necessary attributes/methods\n",
    "\n",
    "---\n",
    "\n",
    "### Polymorphism\n",
    "\n",
    "```python"
   ]
  },
  {
   "cell_type": "code",
   "execution_count": 8,
   "id": "2e53a79b",
   "metadata": {},
   "outputs": [
    {
     "name": "stdout",
     "output_type": "stream",
     "text": [
      "Circle area: 28.26cm²\n",
      "Square area: 16cm²\n",
      "Triangle area: 22.5cm²\n",
      "Pizza area: 452.16cm²\n"
     ]
    }
   ],
   "source": [
    "from abc import ABC, abstractmethod\n",
    "\n",
    "class Shape(ABC):\n",
    "\n",
    "    @abstractmethod\n",
    "    def area(self):\n",
    "        pass\n",
    "\n",
    "class Circle(Shape):\n",
    "    def __init__(self, radius):\n",
    "        self.radius = radius\n",
    "    \n",
    "    def area(self):\n",
    "        return 3.14 * self.radius ** 2\n",
    "\n",
    "class Square(Shape):\n",
    "    def __init__(self, side):\n",
    "        self.side = side\n",
    "    \n",
    "    def area(self):\n",
    "        return self.side ** 2\n",
    "\n",
    "class Triangle(Shape):\n",
    "    def __init__(self, base, height):\n",
    "        self.base = base\n",
    "        self.height = height\n",
    "\n",
    "    def area(self):\n",
    "        return self.base * self.height * 0.5\n",
    "\n",
    "class Pizza(Circle):\n",
    "    def __init__(self, toppings, radius):\n",
    "        super().__init__(radius)\n",
    "        self.toppings = toppings\n",
    "\n",
    "shapes = [Circle(3), Square(4), Triangle(5, 9), Pizza(\"Pineapple\", 12)]\n",
    "\n",
    "for shape in shapes:\n",
    "    print(f\"{type(shape).__name__} area: {shape.area()}cm²\")\n",
    "\n"
   ]
  },
  {
   "cell_type": "markdown",
   "id": "02dad551",
   "metadata": {},
   "source": [
    "## Polymorphism\n",
    "\n",
    "**Polymorphism** means \"many forms\".  \n",
    "It allows objects of different classes to be treated as objects of a common superclass.  \n",
    "This enables a single interface (like a method name) to work with different types of objects.\n",
    "\n",
    "---\n",
    "\n",
    "### Syntax: Polymorphism\n",
    "\n",
    "```python\n",
    "from abc import ABC, abstractmethod\n",
    "\n",
    "class ParentClass(ABC):\n",
    "    @abstractmethod\n",
    "    def method(self):\n",
    "        pass\n",
    "\n",
    "class ChildA(ParentClass):\n",
    "    def method(self):\n",
    "        # implementation for ChildA\n",
    "        pass\n",
    "\n",
    "class ChildB(ParentClass):\n",
    "    def method(self):\n",
    "        # implementation for ChildB\n",
    "        pass\n",
    "\n",
    "# Using polymorphism\n",
    "objects = [ChildA(), ChildB()]\n",
    "for obj in objects:\n",
    "    obj.method()  # Calls the correct method for each object"
   ]
  },
  {
   "cell_type": "code",
   "execution_count": 9,
   "id": "4fe8b8ba",
   "metadata": {},
   "outputs": [
    {
     "name": "stdout",
     "output_type": "stream",
     "text": [
      "Circle area: 28.26 cm²\n",
      "Square area: 16 cm²\n",
      "Triangle area: 22.5 cm²\n",
      "Pizza area: 452.16 cm²\n"
     ]
    }
   ],
   "source": [
    "# Polymorphism Example with Shapes\n",
    "\n",
    "from abc import ABC, abstractmethod\n",
    "\n",
    "class Shape(ABC):\n",
    "    @abstractmethod\n",
    "    def area(self):\n",
    "        pass\n",
    "\n",
    "class Circle(Shape):\n",
    "    def __init__(self, radius):\n",
    "        self.radius = radius\n",
    "\n",
    "    def area(self):\n",
    "        return 3.14 * self.radius ** 2\n",
    "\n",
    "class Square(Shape):\n",
    "    def __init__(self, side):\n",
    "        self.side = side\n",
    "\n",
    "    def area(self):\n",
    "        return self.side ** 2\n",
    "\n",
    "class Triangle(Shape):\n",
    "    def __init__(self, base, height):\n",
    "        self.base = base\n",
    "        self.height = height\n",
    "\n",
    "    def area(self):\n",
    "        return self.base * self.height * 0.5\n",
    "\n",
    "class Pizza(Circle):\n",
    "    def __init__(self, toppings, radius):\n",
    "        super().__init__(radius)\n",
    "        self.toppings = toppings\n",
    "\n",
    "# List of different shapes (polymorphism in action)\n",
    "shapes = [Circle(3), Square(4), Triangle(5, 9), Pizza(\"Pineapple\", 12)]\n",
    "\n",
    "for shape in shapes:\n",
    "    # Each shape uses its own area() implementation\n",
    "    print(f\"{type(shape).__name__} area: {shape.area()} cm²\")"
   ]
  },
  {
   "cell_type": "markdown",
   "id": "df4ba5df",
   "metadata": {},
   "source": [
    "### Explanation\n",
    "\n",
    "- **Shape** is an abstract base class with an abstract method `area()`.\n",
    "- **Circle**, **Square**, **Triangle**, and **Pizza** all implement the `area()` method in their own way.\n",
    "- The `shapes` list contains objects of different classes, but all are treated as `Shape` objects.\n",
    "- When iterating through `shapes`, calling `area()` on each object invokes the correct method for that object’s class.\n",
    "- This is **polymorphism**: the same method name (`area`) behaves differently depending on the object’s class."
   ]
  }
 ],
 "metadata": {
  "kernelspec": {
   "display_name": "Python 3",
   "language": "python",
   "name": "python3"
  },
  "language_info": {
   "codemirror_mode": {
    "name": "ipython",
    "version": 3
   },
   "file_extension": ".py",
   "mimetype": "text/x-python",
   "name": "python",
   "nbconvert_exporter": "python",
   "pygments_lexer": "ipython3",
   "version": "3.12.4"
  }
 },
 "nbformat": 4,
 "nbformat_minor": 5
}
