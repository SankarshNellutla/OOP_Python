{
 "cells": [
  {
   "cell_type": "markdown",
   "id": "a0aec121",
   "metadata": {},
   "source": [
    "## Class and Object"
   ]
  },
  {
   "cell_type": "markdown",
   "id": "3181b717",
   "metadata": {},
   "source": [
    "#### class = (blueprint) used to design the structure and layout of an object\n",
    "\n",
    "#### object = A \"bundle\" of related attributes (variables) and methods (functions)\n",
    "1. Ex. phone, cup, book\n",
    "2. You need a \"class\" to create many objects"
   ]
  },
  {
   "cell_type": "code",
   "execution_count": 39,
   "id": "245650e1",
   "metadata": {},
   "outputs": [],
   "source": [
    "import importlib\n",
    "import classes\n",
    "importlib.reload(classes)\n",
    "Car = classes.Car"
   ]
  },
  {
   "cell_type": "code",
   "execution_count": 40,
   "id": "87a75d8e",
   "metadata": {},
   "outputs": [
    {
     "name": "stdout",
     "output_type": "stream",
     "text": [
      "<classes.Car object at 0x111171250>\n"
     ]
    }
   ],
   "source": [
    "car1 = Car(\"LaFerrari\", \"2025\", \"red\", False)\n",
    "car2 = Car(\"Mustang\", \"2025\", \"black\", True)\n",
    "car3 = Car(\"Urus\", \"2023\", \"yellow\", False)\n",
    "print(car1)"
   ]
  },
  {
   "cell_type": "code",
   "execution_count": 41,
   "id": "2097e97e",
   "metadata": {},
   "outputs": [
    {
     "name": "stdout",
     "output_type": "stream",
     "text": [
      "LaFerrari\n",
      "2023\n",
      "black\n",
      "True\n"
     ]
    }
   ],
   "source": [
    "print(car1.model)\n",
    "print(car3.year)\n",
    "print(car2.color)\n",
    "print(car2.for_sale)"
   ]
  },
  {
   "cell_type": "code",
   "execution_count": 42,
   "id": "530c337c",
   "metadata": {},
   "outputs": [
    {
     "name": "stdout",
     "output_type": "stream",
     "text": [
      "You're driving the red LaFerrari\n",
      "You stopped the red LaFerrari\n"
     ]
    }
   ],
   "source": [
    "car1.drive()\n",
    "car1.stop()"
   ]
  },
  {
   "cell_type": "code",
   "execution_count": 43,
   "id": "8a0f4d5b",
   "metadata": {},
   "outputs": [
    {
     "name": "stdout",
     "output_type": "stream",
     "text": [
      "2023 yellow Urus\n"
     ]
    }
   ],
   "source": [
    "car3.describe()"
   ]
  },
  {
   "cell_type": "markdown",
   "id": "5ea0b13c",
   "metadata": {},
   "source": [
    "## Class Variable"
   ]
  },
  {
   "cell_type": "markdown",
   "id": "b43e4435",
   "metadata": {},
   "source": [
    "#### class variables = Shared among all instances of a class\n",
    "1. Defined outside the constructor\n",
    "2. Allow you to share data among all objects created from that class"
   ]
  },
  {
   "cell_type": "code",
   "execution_count": 44,
   "id": "65408620",
   "metadata": {},
   "outputs": [],
   "source": [
    "import importlib\n",
    "import classes\n",
    "importlib.reload(classes)\n",
    "Student = classes.Student"
   ]
  },
  {
   "cell_type": "code",
   "execution_count": 45,
   "id": "d16197ca",
   "metadata": {},
   "outputs": [],
   "source": [
    "student1 = Student(\"Sankarsh\", 23)\n",
    "student2 = Student(\"Pavana\", 22)"
   ]
  },
  {
   "cell_type": "code",
   "execution_count": 46,
   "id": "39b1a098",
   "metadata": {},
   "outputs": [
    {
     "name": "stdout",
     "output_type": "stream",
     "text": [
      "Sankarsh\n",
      "23\n",
      "2023\n",
      "2\n"
     ]
    }
   ],
   "source": [
    "print(student1.name)\n",
    "print(student1.age)\n",
    "print(Student.class_grad_year)\n",
    "print(Student.num_students)"
   ]
  },
  {
   "cell_type": "code",
   "execution_count": 49,
   "id": "20babd87",
   "metadata": {},
   "outputs": [
    {
     "name": "stdout",
     "output_type": "stream",
     "text": [
      "My graduating class of 2023 has 2 students.\n",
      "Sankarsh\n",
      "Pavana\n"
     ]
    }
   ],
   "source": [
    "print(f\"My graduating class of {Student.class_grad_year} has {Student.num_students} students.\")\n",
    "print(student1.name)\n",
    "print(student2.name)"
   ]
  }
 ],
 "metadata": {
  "kernelspec": {
   "display_name": "Python 3",
   "language": "python",
   "name": "python3"
  },
  "language_info": {
   "codemirror_mode": {
    "name": "ipython",
    "version": 3
   },
   "file_extension": ".py",
   "mimetype": "text/x-python",
   "name": "python",
   "nbconvert_exporter": "python",
   "pygments_lexer": "ipython3",
   "version": "3.12.4"
  }
 },
 "nbformat": 4,
 "nbformat_minor": 5
}
