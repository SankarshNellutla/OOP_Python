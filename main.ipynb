{
 "cells": [
  {
   "cell_type": "markdown",
   "id": "26ecc978",
   "metadata": {},
   "source": [
    "# Python OOP Notes\n",
    "\n",
    "## What is Object-Oriented Programming?\n",
    "\n",
    "**Object-Oriented Programming (OOP)** is a programming paradigm based on the concept of \"objects\", which bundle data (attributes) and code (methods).  \n",
    "OOP helps organize code, promotes reusability, and models real-world entities.\n",
    "\n",
    "**Main OOP concepts:**\n",
    "- **Class**: Blueprint for creating objects.\n",
    "- **Object**: Instance of a class.\n",
    "- **Attribute**: Variable that belongs to an object or class.\n",
    "- **Method**: Function that belongs to a class.\n",
    "- **Inheritance**: Mechanism to create new classes from existing ones.\n",
    "- **Abstraction**: Hiding complex implementation details.\n",
    "- **Encapsulation**: Bundling data and methods together.\n",
    "- **Polymorphism**: Using a common interface for different data types.\n",
    "\n",
    "This notebook covers the main Object-Oriented Programming (OOP) concepts in Python:\n",
    "- Class and Object\n",
    "- Class Variables\n",
    "- Inheritance (Single, Multiple, Multilevel)\n",
    "- Abstract Classes\n",
    "- Super() function \n",
    "- Method Overriding\n",
    "- Polymorphism\n",
    "- Duck Typing\n",
    "- Aggregation\n",
    "- Composition\n",
    "- Nested Class\n",
    "- Static Method\n",
    "- Magic Methods\n",
    "- Property Decorator\n",
    "\n",
    "Each section includes explanations, syntax and code examples."
   ]
  },
  {
   "cell_type": "markdown",
   "id": "3181b717",
   "metadata": {},
   "source": [
    "## Class and Object\n",
    "\n",
    "A **class** is a blueprint for creating objects.  \n",
    "An **object** (or instance) is a specific realization of a class, bundling related attributes (variables) and methods (functions).\n",
    "\n",
    "Example: You can have a class `Car` and create many car objects from it."
   ]
  },
  {
   "cell_type": "markdown",
   "id": "60917222",
   "metadata": {},
   "source": [
    "\n",
    "---\n",
    "\n",
    "```markdown\n",
    "### Syntax: Defining a Class and Creating an Object\n",
    "\n",
    "```python\n",
    "class ClassName:\n",
    "    def __init__(self, ...):\n",
    "        # attributes\n",
    "        pass\n",
    "    def method(self):\n",
    "        pass\n",
    "\n",
    "object_name = ClassName(...)"
   ]
  },
  {
   "cell_type": "code",
   "execution_count": 1,
   "id": "7ccf5255",
   "metadata": {},
   "outputs": [],
   "source": [
    "# Creating a Car class with attributes and methods\n",
    "\n",
    "class Car():\n",
    "    def __init__(self, model, year, color, for_sale):\n",
    "        # Instance attributes unique to each object\n",
    "        self.model = model\n",
    "        self.year = year\n",
    "        self.color = color\n",
    "        self.for_sale = for_sale\n",
    "\n",
    "    def drive(self):\n",
    "        # Simulate driving the car\n",
    "        print(f\"You're driving the {self.color} {self.model}\")\n",
    "        \n",
    "    def stop(self):\n",
    "        # Simulate stopping the car\n",
    "        print(f\"You stopped the {self.color} {self.model}\")\n",
    "\n",
    "    def describe(self):\n",
    "        # Print a description of the car\n",
    "        print(f\"{self.year} {self.color} {self.model}\")"
   ]
  },
  {
   "cell_type": "code",
   "execution_count": 2,
   "id": "87a75d8e",
   "metadata": {},
   "outputs": [
    {
     "name": "stdout",
     "output_type": "stream",
     "text": [
      "LaFerrari\n",
      "2023\n",
      "black\n",
      "True\n",
      "You're driving the red LaFerrari\n",
      "You stopped the red LaFerrari\n",
      "2023 yellow Urus\n"
     ]
    }
   ],
   "source": [
    "# Creating Car objects (instances)\n",
    "car1 = Car(\"LaFerrari\", \"2025\", \"red\", False)\n",
    "car2 = Car(\"Mustang\", \"2025\", \"black\", True)\n",
    "car3 = Car(\"Urus\", \"2023\", \"yellow\", False)\n",
    "\n",
    "# Accessing attributes and calling methods\n",
    "print(car1.model)\n",
    "print(car3.year)\n",
    "print(car2.color)\n",
    "print(car2.for_sale)\n",
    "\n",
    "car1.drive()\n",
    "car1.stop()\n",
    "car3.describe()"
   ]
  },
  {
   "cell_type": "markdown",
   "id": "66294ea2",
   "metadata": {},
   "source": [
    "### Explanation\n",
    "\n",
    "- A **class** defines the structure and behavior (attributes and methods) for objects.\n",
    "- An **object** is an instance of a class, with its own data and access to the class’s methods.\n",
    "- Classes help organize code and model real-world entities.\n",
    "- Objects allow you to create multiple independent instances from the same blueprint."
   ]
  },
  {
   "cell_type": "markdown",
   "id": "b43e4435",
   "metadata": {},
   "source": [
    "## Class Variable\n",
    "\n",
    "**Class variables** are shared among all instances of a class.  \n",
    "- They are defined outside the constructor and allow you to share data among all objects created from that class.\n",
    "\n",
    "Example: A class variable can keep track of the total number of students."
   ]
  },
  {
   "cell_type": "markdown",
   "id": "a8e46973",
   "metadata": {},
   "source": [
    "---\n",
    "\n",
    "```markdown\n",
    "### Syntax: Class Variable\n",
    "\n",
    "```python\n",
    "class ClassName:\n",
    "    class_variable = value\n",
    "    def __init__(self, ...):\n",
    "        pass"
   ]
  },
  {
   "cell_type": "code",
   "execution_count": 3,
   "id": "3f3a99f9",
   "metadata": {},
   "outputs": [],
   "source": [
    "# Example of class variables\n",
    "\n",
    "class Student():\n",
    "\n",
    "    class_grad_year = 2023   # Shared by all students\n",
    "    num_students = 0         # Counts all students\n",
    "\n",
    "    def __init__(self, name, age):\n",
    "        self.name = name\n",
    "        self.age = age\n",
    "        Student.num_students += 1  # Increment for each new student"
   ]
  },
  {
   "cell_type": "code",
   "execution_count": 4,
   "id": "d16197ca",
   "metadata": {},
   "outputs": [
    {
     "name": "stdout",
     "output_type": "stream",
     "text": [
      "Sankarsh\n",
      "23\n",
      "2023\n",
      "2\n",
      "My graduating class of 2023 has 2 students.\n",
      "Sankarsh\n",
      "Pavana\n"
     ]
    }
   ],
   "source": [
    "student1 = Student(\"Sankarsh\", 23)\n",
    "student2 = Student(\"Pavana\", 22)\n",
    "\n",
    "print(student1.name)\n",
    "print(student1.age)\n",
    "print(Student.class_grad_year)\n",
    "print(Student.num_students)\n",
    "\n",
    "print(f\"My graduating class of {Student.class_grad_year} has {Student.num_students} students.\")\n",
    "print(student1.name)\n",
    "print(student2.name)"
   ]
  },
  {
   "cell_type": "markdown",
   "id": "7b7de159",
   "metadata": {},
   "source": [
    "### Explanation\n",
    "\n",
    "- **Class variables** are shared by all instances of a class.\n",
    "- They are defined inside the class but outside any instance methods.\n",
    "- Useful for storing data that should be consistent across all objects (e.g., a counter).\n",
    "- Changing a class variable affects all instances unless overridden in an instance."
   ]
  },
  {
   "cell_type": "markdown",
   "id": "b8b3e774",
   "metadata": {},
   "source": [
    "## Inheritance\n",
    "\n",
    "**Inheritance** allows a class (child/subclass) to inherit attributes and methods from another class (parent/superclass).\n",
    "\n",
    "- This helps with code reusability and extensibility.\n",
    "- Syntax: `class Child(Parent)`"
   ]
  },
  {
   "cell_type": "markdown",
   "id": "31f85eb8",
   "metadata": {},
   "source": [
    "\n",
    "---\n",
    "\n",
    "```markdown\n",
    "### Syntax: Inheritance\n",
    "\n",
    "```python\n",
    "class Parent:\n",
    "    # parent code\n",
    "\n",
    "class Child(Parent):\n",
    "    # child code"
   ]
  },
  {
   "cell_type": "code",
   "execution_count": 5,
   "id": "5cc36ca9",
   "metadata": {},
   "outputs": [],
   "source": [
    "# Example of inheritance\n",
    "\n",
    "class Animal():\n",
    "    def __init__(self, name):\n",
    "        self.name = name\n",
    "        self.is_alive = True\n",
    "    \n",
    "    def eat(self):\n",
    "        print(f\"{self.name} is eating\")\n",
    "    \n",
    "    def sleep(self):\n",
    "        print(f\"{self.name} is sleeping\")\n",
    "    \n",
    "class Dog(Animal):\n",
    "    def speak(self):\n",
    "        print(\"Bow!\")\n",
    "\n",
    "class Cat(Animal):\n",
    "    def speak(self):\n",
    "        print(\"Meeyaam!\")\n",
    "\n",
    "class Mouse(Animal):\n",
    "    def speak(self):\n",
    "        print(\"chuu chuuu!\")"
   ]
  },
  {
   "cell_type": "code",
   "execution_count": 6,
   "id": "cf64cc8b",
   "metadata": {},
   "outputs": [
    {
     "name": "stdout",
     "output_type": "stream",
     "text": [
      "Kukka\n",
      "Kukka is eating\n",
      "Pilli\n",
      "Pilli is sleeping\n",
      "Eluka is eating\n",
      "True\n",
      "Bow!\n",
      "Meeyaam!\n",
      "chuu chuuu!\n"
     ]
    }
   ],
   "source": [
    "dog = Dog(\"Kukka\")\n",
    "cat = Cat(\"Pilli\")\n",
    "mouse = Mouse(\"Eluka\")\n",
    "\n",
    "print(dog.name)\n",
    "dog.eat()\n",
    "print(cat.name)\n",
    "cat.sleep()\n",
    "mouse.eat()\n",
    "print(mouse.is_alive)\n",
    "\n",
    "dog.speak()\n",
    "cat.speak()\n",
    "mouse.speak()"
   ]
  },
  {
   "cell_type": "markdown",
   "id": "78a0cb77",
   "metadata": {},
   "source": [
    "### Explanation\n",
    "\n",
    "- **Inheritance** allows a new class (child/subclass) to reuse code from an existing class (parent/superclass).\n",
    "- The child class inherits all attributes and methods from the parent.\n",
    "- Enables code reuse, extension, and organization.\n",
    "- You can add new features or override existing ones in the child class."
   ]
  },
  {
   "cell_type": "markdown",
   "id": "1fa1f264",
   "metadata": {},
   "source": [
    "## Multiple and Multilevel Inheritance\n",
    "\n",
    "- **Multiple inheritance**: A class inherits from more than one parent class.  \n",
    "  Syntax: `class C(A, B)`\n",
    "- **Multilevel inheritance**: A class inherits from a parent, which itself inherits from another parent.  \n",
    "  Example: `C(B) <- B(A) <- A`\n",
    "\n",
    "This allows you to build complex relationships and share functionality across classes."
   ]
  },
  {
   "cell_type": "markdown",
   "id": "61fc3412",
   "metadata": {},
   "source": [
    "\n",
    "---\n",
    "\n",
    "```markdown\n",
    "### Syntax: Multiple and Multilevel Inheritance\n",
    "\n",
    "```python\n",
    "# Multiple inheritance\n",
    "class A: pass\n",
    "class B: pass\n",
    "class C(A, B): pass\n",
    "\n",
    "# Multilevel inheritance\n",
    "class A: pass\n",
    "class B(A): pass\n",
    "class C(B): pass"
   ]
  },
  {
   "cell_type": "code",
   "execution_count": 7,
   "id": "a55176e7",
   "metadata": {},
   "outputs": [],
   "source": [
    "# Multiple and Multilevel Inheritance Example\n",
    "\n",
    "class Animal:\n",
    "    def __init__(self, name):\n",
    "        self.name = name\n",
    "\n",
    "    def eat(self):\n",
    "        print(f\" {self.name} is eating\")\n",
    "    \n",
    "    def sleep(self):\n",
    "        print(f\" {self.name} is sleeping\")\n",
    "\n",
    "class Prey(Animal):\n",
    "    def flee(self):\n",
    "        print(f\" {self.name} is fleeing\")\n",
    "\n",
    "class Predator(Animal):\n",
    "    def hunt(self):\n",
    "        print(f\" {self.name} is hunting\")\n",
    "\n",
    "class Rabbit(Prey):\n",
    "    pass\n",
    "\n",
    "class Hawk(Predator):\n",
    "    pass\n",
    "\n",
    "class Fish(Prey, Predator):\n",
    "    pass"
   ]
  },
  {
   "cell_type": "code",
   "execution_count": 8,
   "id": "f716d0c8",
   "metadata": {},
   "outputs": [
    {
     "name": "stdout",
     "output_type": "stream",
     "text": [
      " Gaddha is hunting\n",
      " Kundelu is fleeing\n",
      " Chepa is fleeing\n",
      " Chepa is hunting\n"
     ]
    }
   ],
   "source": [
    "rabbit = Rabbit(\"Kundelu\")\n",
    "hawk = Hawk(\"Gaddha\")\n",
    "fish = Fish(\"Chepa\")\n",
    "\n",
    "hawk.hunt()\n",
    "rabbit.flee()\n",
    "fish.flee()\n",
    "fish.hunt()"
   ]
  },
  {
   "cell_type": "markdown",
   "id": "c33e779b",
   "metadata": {},
   "source": [
    "#### Multilevel inheritance demonstration\n",
    "\n",
    "You can call methods from all parent classes in the inheritance chain."
   ]
  },
  {
   "cell_type": "code",
   "execution_count": 9,
   "id": "6a4284e0",
   "metadata": {},
   "outputs": [
    {
     "name": "stdout",
     "output_type": "stream",
     "text": [
      " Gaddha is eating\n",
      " Kundelu is sleeping\n",
      " Chepa is hunting\n",
      " Chepa is eating\n"
     ]
    }
   ],
   "source": [
    "hawk.eat()\n",
    "rabbit.sleep()\n",
    "fish.hunt()\n",
    "fish.eat()\n",
    "# hawk.flee()   # AttributeError: 'Hawk' object has no attribute 'flee'\n",
    "# rabbit.hunt() # AttributeError: 'Rabbit' object has no attribute 'hunt'"
   ]
  },
  {
   "cell_type": "markdown",
   "id": "06bb5ff4",
   "metadata": {},
   "source": [
    "### Explanation\n",
    "\n",
    "- **Multiple inheritance**: A class can inherit from more than one parent class, combining their features.\n",
    "- **Multilevel inheritance**: A class inherits from another class, which itself inherits from a third class, forming a chain.\n",
    "- Both allow for more complex relationships and code reuse.\n",
    "- Care must be taken with method resolution order (MRO) in multiple inheritance."
   ]
  },
  {
   "cell_type": "markdown",
   "id": "6d3be9be",
   "metadata": {},
   "source": [
    "## Abstract Class\n",
    "\n",
    "An **abstract class** is a class that cannot be instantiated directly.  \n",
    "It is meant to be subclassed and can contain abstract methods (methods declared but not implemented).\n",
    "\n",
    "**Benefits:**\n",
    "1. Prevents instantiation of the class itself.\n",
    "2. Forces child classes to implement the abstract methods, ensuring a consistent interface."
   ]
  },
  {
   "cell_type": "markdown",
   "id": "925cec6b",
   "metadata": {},
   "source": [
    "---\n",
    "\n",
    "```markdown\n",
    "### Syntax: Abstract Class\n",
    "\n",
    "```python\n",
    "from abc import ABC, abstractmethod\n",
    "\n",
    "class AbstractClass(ABC):\n",
    "    @abstractmethod\n",
    "    def method(self):\n",
    "        pass\n",
    "\n",
    "class Child(AbstractClass):\n",
    "    def method(self):\n",
    "        # implementation\n",
    "        pass"
   ]
  },
  {
   "cell_type": "code",
   "execution_count": 10,
   "id": "3b8444ba",
   "metadata": {},
   "outputs": [],
   "source": [
    "from abc import ABC, abstractmethod\n",
    "\n",
    "# Abstract base class\n",
    "class Vehicle(ABC):\n",
    "    \n",
    "    @abstractmethod\n",
    "    def go(self):\n",
    "        pass\n",
    "\n",
    "    @abstractmethod\n",
    "    def stop(self):\n",
    "        pass\n",
    "\n",
    "# Subclasses must implement all abstract methods\n",
    "class Car(Vehicle):\n",
    "    def go(self):\n",
    "        print(\"You drive the car\")\n",
    "\n",
    "    def stop(self):\n",
    "        print(\"You stop the car\")\n",
    "\n",
    "class Motorcycle(Vehicle):\n",
    "    def go(self):\n",
    "        print(\"You ride the motorcycle\")\n",
    "    \n",
    "    def stop(self):\n",
    "        print(\"You stop the motorcycle\")\n",
    "\n",
    "class Boat(Vehicle):\n",
    "    def go(self):\n",
    "        print(\"You sail the boat\")\n",
    "\n",
    "    def stop(self):\n",
    "        print(\"You anchor the boat\")"
   ]
  },
  {
   "cell_type": "code",
   "execution_count": 11,
   "id": "d004806f",
   "metadata": {},
   "outputs": [
    {
     "name": "stdout",
     "output_type": "stream",
     "text": [
      "You drive the car\n",
      "You stop the car\n",
      "You ride the motorcycle\n",
      "You stop the motorcycle\n",
      "You sail the boat\n",
      "You anchor the boat\n"
     ]
    }
   ],
   "source": [
    "car = Car()\n",
    "motorcycle = Motorcycle()\n",
    "boat = Boat()\n",
    "\n",
    "car.go()\n",
    "car.stop()\n",
    "motorcycle.go()\n",
    "motorcycle.stop()\n",
    "boat.go()\n",
    "boat.stop()"
   ]
  },
  {
   "cell_type": "markdown",
   "id": "969585b0",
   "metadata": {},
   "source": [
    "### Explanation\n",
    "\n",
    "- An **abstract class** cannot be instantiated directly; it serves as a template for other classes.\n",
    "- Contains one or more abstract methods that must be implemented by subclasses.\n",
    "- Ensures a consistent interface across all subclasses.\n",
    "- Useful for defining a common base for related classes."
   ]
  },
  {
   "cell_type": "markdown",
   "id": "9eaad20a",
   "metadata": {},
   "source": [
    "## Super()\n",
    "\n",
    "The **super()** function in Python is used in a child class to call methods from its parent class (superclass).  \n",
    "- This allows you to extend or customize the functionality of inherited methods without rewriting them."
   ]
  },
  {
   "cell_type": "markdown",
   "id": "32a5d923",
   "metadata": {},
   "source": [
    "\n",
    "\n",
    "---\n",
    "\n",
    "```markdown\n",
    "### Syntax: Using super() in a subclass\n",
    "\n",
    "```python\n",
    "class Parent:\n",
    "    def __init__(self, ...):\n",
    "        # parent initialization\n",
    "        pass\n",
    "\n",
    "class Child(Parent):\n",
    "    def __init__(self, ...):\n",
    "        super().__init__(...)  # Calls Parent's __init__\n",
    "        # child initialization"
   ]
  },
  {
   "cell_type": "code",
   "execution_count": 12,
   "id": "b0b2eee8",
   "metadata": {},
   "outputs": [
    {
     "name": "stdout",
     "output_type": "stream",
     "text": [
      "Circle\n",
      "The color of the circle is red\n",
      "The circle is filled\n",
      "The radius of the circle is 5 cm\n",
      "\n",
      "Square\n",
      "The color of the square is blue\n",
      "The square is not filled\n",
      "The length of side of the square is 6 cm\n",
      "\n",
      "Triangle\n",
      "The color of the triangle is yellow\n",
      "The triangle is filled\n",
      "The length of side of the triangle is 4 cm\n",
      "The height of the triangle is 7 cm\n",
      "\n",
      "Describe method\n",
      "It is red and is filled\n",
      "It is blue and is not filled\n",
      "It is yellow and is filled\n"
     ]
    }
   ],
   "source": [
    "# Example: Using super() to initialize parent class attributes\n",
    "\n",
    "class Shape:\n",
    "    def __init__(self, color, is_filled):\n",
    "        self.color = color\n",
    "        self.is_filled = is_filled\n",
    "\n",
    "    def describe(self):\n",
    "        # Describe the shape's color and fill status\n",
    "        print(f\"It is {self.color} and is {'filled' if self.is_filled else 'not filled'}\")\n",
    "\n",
    "class Circle(Shape):\n",
    "    def __init__(self, color, is_filled, radius):\n",
    "        super().__init__(color, is_filled)\n",
    "        self.radius = radius\n",
    "\n",
    "class Square(Shape):\n",
    "    def __init__(self, color, is_filled, side_len):\n",
    "        super().__init__(color, is_filled)\n",
    "        self.side_len = side_len\n",
    "\n",
    "class Triangle(Shape):\n",
    "    def __init__(self, color, is_filled, side_len, height):\n",
    "        super().__init__(color, is_filled)\n",
    "        self.side_len = side_len\n",
    "        self.height = height\n",
    "\n",
    "# Creating objects of each shape\n",
    "circle = Circle(color=\"red\", is_filled=True, radius=5)\n",
    "square = Square(color=\"blue\", is_filled=False, side_len=6)\n",
    "triangle = Triangle(color=\"yellow\", is_filled=True, side_len=4, height=7)\n",
    "\n",
    "# Accessing attributes and using describe method\n",
    "print(\"Circle\")\n",
    "print(f\"The color of the circle is {circle.color}\")\n",
    "print(f\"{'The circle is filled' if circle.is_filled else 'The circle is not filled'}\")\n",
    "print(f\"The radius of the circle is {circle.radius} cm\")\n",
    "\n",
    "print(\"\\nSquare\")\n",
    "print(f\"The color of the square is {square.color}\")\n",
    "print(f\"{'The square is filled' if square.is_filled else 'The square is not filled'}\")\n",
    "print(f\"The length of side of the square is {square.side_len} cm\")\n",
    "\n",
    "print(\"\\nTriangle\")\n",
    "print(f\"The color of the triangle is {triangle.color}\")\n",
    "print(f\"{'The triangle is filled' if triangle.is_filled else 'The triangle is not filled'}\")\n",
    "print(f\"The length of side of the triangle is {triangle.side_len} cm\")\n",
    "print(f\"The height of the triangle is {triangle.height} cm\")\n",
    "\n",
    "# Call describe method for each shape\n",
    "print(\"\\nDescribe method\")\n",
    "circle.describe()\n",
    "square.describe()\n",
    "triangle.describe()"
   ]
  },
  {
   "cell_type": "markdown",
   "id": "01560eb9",
   "metadata": {},
   "source": [
    "### Explanation\n",
    "\n",
    "- The **super()** function allows a child class to call methods from its parent class.\n",
    "- Commonly used to initialize parent class attributes in the child’s constructor.\n",
    "- Helps avoid code duplication and ensures proper initialization.\n",
    "- Useful when overriding methods but still needing parent class behavior."
   ]
  },
  {
   "cell_type": "markdown",
   "id": "d1719e2e",
   "metadata": {},
   "source": [
    "## Method Overriding\n",
    "\n",
    "**Method overriding** occurs when a child class defines a method with the same name as a method in its parent class.  \n",
    "- When you call the method on the child class object, the child’s version is used."
   ]
  },
  {
   "cell_type": "markdown",
   "id": "0cbda48a",
   "metadata": {},
   "source": [
    "---\n",
    "\n",
    "### Syntax: Method Overriding\n",
    "\n",
    "```python\n",
    "class Parent:\n",
    "    def method(self):\n",
    "        print(\"Parent method\")\n",
    "\n",
    "class Child(Parent):\n",
    "    def method(self):\n",
    "        print(\"Child method\")\n",
    "\n",
    "obj = Child()\n",
    "obj.method()  # Output: Child method"
   ]
  },
  {
   "cell_type": "code",
   "execution_count": 13,
   "id": "5806f884",
   "metadata": {},
   "outputs": [
    {
     "name": "stdout",
     "output_type": "stream",
     "text": [
      "It is a circle of area 154.0 cm²\n"
     ]
    }
   ],
   "source": [
    "# Example: Overriding the describe method in Circle\n",
    "\n",
    "class Shape:\n",
    "    def __init__(self, color, is_filled):\n",
    "        self.color = color\n",
    "        self.is_filled = is_filled\n",
    "\n",
    "    def describe(self):\n",
    "        print(f\"It is {self.color} and is {'filled' if self.is_filled else 'not filled'}\")\n",
    "\n",
    "class Circle(Shape):\n",
    "    def __init__(self, color, is_filled, radius):\n",
    "        super().__init__(color, is_filled)\n",
    "        self.radius = radius\n",
    "\n",
    "    # Overriding the describe method\n",
    "    def describe(self):\n",
    "        area = 22/7 * self.radius * self.radius\n",
    "        print(f\"It is a circle of area {area} cm²\")\n",
    "\n",
    "circle = Circle(color=\"red\", is_filled=True, radius=7)\n",
    "circle.describe()  # Calls the overridden method in Circle"
   ]
  },
  {
   "cell_type": "markdown",
   "id": "facfb2a7",
   "metadata": {},
   "source": [
    "### Explanation\n",
    "\n",
    "- **Method overriding** occurs when a child class defines a method with the same name as one in its parent class.\n",
    "- The child’s method replaces the parent’s version when called on a child object.\n",
    "- Allows customization or extension of inherited behavior.\n",
    "- Supports polymorphism by enabling different behaviors for the same method name."
   ]
  },
  {
   "cell_type": "markdown",
   "id": "02dad551",
   "metadata": {},
   "source": [
    "## Polymorphism\n",
    "\n",
    "**Polymorphism** means \"many forms\".  \n",
    "- It allows objects of different classes to be treated as objects of a common superclass.  \n",
    "- This enables a single interface (like a method name) to work with different types of objects."
   ]
  },
  {
   "cell_type": "markdown",
   "id": "d4690dbe",
   "metadata": {},
   "source": [
    "---\n",
    "\n",
    "### Syntax: Polymorphism\n",
    "\n",
    "```python\n",
    "from abc import ABC, abstractmethod\n",
    "\n",
    "class ParentClass(ABC):\n",
    "    @abstractmethod\n",
    "    def method(self):\n",
    "        pass\n",
    "\n",
    "class ChildA(ParentClass):\n",
    "    def method(self):\n",
    "        # implementation for ChildA\n",
    "        pass\n",
    "\n",
    "class ChildB(ParentClass):\n",
    "    def method(self):\n",
    "        # implementation for ChildB\n",
    "        pass\n",
    "\n",
    "# Using polymorphism\n",
    "objects = [ChildA(), ChildB()]\n",
    "for obj in objects:\n",
    "    obj.method()  # Calls the correct method for each object"
   ]
  },
  {
   "cell_type": "code",
   "execution_count": 14,
   "id": "4fe8b8ba",
   "metadata": {},
   "outputs": [
    {
     "name": "stdout",
     "output_type": "stream",
     "text": [
      "Circle area: 28.26 cm²\n",
      "Square area: 16 cm²\n",
      "Triangle area: 22.5 cm²\n",
      "Pizza area: 452.16 cm²\n"
     ]
    }
   ],
   "source": [
    "# Polymorphism Example with Shapes\n",
    "\n",
    "from abc import ABC, abstractmethod\n",
    "\n",
    "class Shape(ABC):\n",
    "    @abstractmethod\n",
    "    def area(self):\n",
    "        pass\n",
    "\n",
    "class Circle(Shape):\n",
    "    def __init__(self, radius):\n",
    "        self.radius = radius\n",
    "\n",
    "    def area(self):\n",
    "        return 3.14 * self.radius ** 2\n",
    "\n",
    "class Square(Shape):\n",
    "    def __init__(self, side):\n",
    "        self.side = side\n",
    "\n",
    "    def area(self):\n",
    "        return self.side ** 2\n",
    "\n",
    "class Triangle(Shape):\n",
    "    def __init__(self, base, height):\n",
    "        self.base = base\n",
    "        self.height = height\n",
    "\n",
    "    def area(self):\n",
    "        return self.base * self.height * 0.5\n",
    "\n",
    "class Pizza(Circle):\n",
    "    def __init__(self, toppings, radius):\n",
    "        super().__init__(radius)\n",
    "        self.toppings = toppings\n",
    "\n",
    "# List of different shapes (polymorphism in action)\n",
    "shapes = [Circle(3), Square(4), Triangle(5, 9), Pizza(\"Pineapple\", 12)]\n",
    "\n",
    "for shape in shapes:\n",
    "    # Each shape uses its own area() implementation\n",
    "    print(f\"{type(shape).__name__} area: {shape.area()} cm²\")"
   ]
  },
  {
   "cell_type": "markdown",
   "id": "df4ba5df",
   "metadata": {},
   "source": [
    "### Explanation\n",
    "\n",
    "- **Shape** is an abstract base class with an abstract method `area()`.\n",
    "- **Circle**, **Square**, **Triangle**, and **Pizza** all implement the `area()` method in their own way.\n",
    "- The `shapes` list contains objects of different classes, but all are treated as `Shape` objects.\n",
    "- When iterating through `shapes`, calling `area()` on each object invokes the correct method for that object’s class.\n",
    "- This is **polymorphism**: the same method name (`area`) behaves differently depending on the object’s class."
   ]
  },
  {
   "cell_type": "markdown",
   "id": "fbe35ee7",
   "metadata": {},
   "source": [
    "## Duck Typing\n",
    "\n",
    "**Duck Typing** is a concept in Python where the type or class of an object is less important than the methods it defines or the operations it supports.\n",
    "\n",
    "- \"If it looks like a duck and quacks like a duck, it must be a duck.\"\n",
    "- You don’t need inheritance for polymorphism—just matching method names and attributes."
   ]
  },
  {
   "cell_type": "markdown",
   "id": "370918e8",
   "metadata": {},
   "source": [
    "---\n",
    "\n",
    "### Syntax: Duck Typing\n",
    "\n",
    "```python\n",
    "class Dog:\n",
    "    def speak(self):\n",
    "        print(\"Bow!\")\n",
    "\n",
    "class Cat:\n",
    "    def speak(self):\n",
    "        print(\"Meeyaaam!\")\n",
    "\n",
    "class Car:\n",
    "    def speak(self):\n",
    "        print(\"Hooonnnkkkkkk\")\n",
    "\n",
    "animals = [Dog(), Cat(), Car()]\n",
    "\n",
    "for animal in animals:\n",
    "    animal.speak()  # Calls the correct speak() method for each object\n",
    "```"
   ]
  },
  {
   "cell_type": "code",
   "execution_count": 15,
   "id": "857dbcaf",
   "metadata": {},
   "outputs": [
    {
     "name": "stdout",
     "output_type": "stream",
     "text": [
      "Bow!\n",
      "It's alive!\n",
      "Meeyaaam!\n",
      "It's alive!\n",
      "Hooonnnkkkkkk\n",
      "It's not alive.\n"
     ]
    }
   ],
   "source": [
    "# Example: Duck Typing with Attributes\n",
    "\n",
    "class Animal:\n",
    "    Alive = True\n",
    "\n",
    "class Dog(Animal):\n",
    "    def speak(self):\n",
    "        print(\"Bow!\")\n",
    "\n",
    "class Cat(Animal):\n",
    "    def speak(self):\n",
    "        print(\"Meeyaaam!\")\n",
    "\n",
    "class Car:\n",
    "    def speak(self):\n",
    "        print(\"Hooonnnkkkkkk\")\n",
    "    Alive = False\n",
    "\n",
    "animals = [Dog(), Cat(), Car()]\n",
    "\n",
    "for animal in animals:\n",
    "    animal.speak()\n",
    "    # Duck typing: checks for Alive attribute, works for all objects that have it\n",
    "    print(\"It's alive!\" if animal.Alive else \"It's not alive.\")"
   ]
  },
  {
   "cell_type": "markdown",
   "id": "9f27bde7",
   "metadata": {},
   "source": [
    "### Explanation\n",
    "\n",
    "- **Duck typing** allows you to use any object in a context as long as it has the required methods/attributes, regardless of its actual class.\n",
    "- In the example, `Dog`, `Cat`, and `Car` all have a `speak()` method, so they can be used interchangeably in the loop.\n",
    "- The `Alive` attribute is present in all classes, so `\"It's alive!\" if animal.Alive else \"It's not alive.\"` works for all.\n",
    "- This demonstrates Python’s flexibility: objects are defined by their behavior, not their inheritance."
   ]
  },
  {
   "cell_type": "markdown",
   "id": "e53d8d61",
   "metadata": {},
   "source": [
    "## Aggregation\n",
    "\n",
    "**Aggregation** represents a relationship where one object (the whole) contains references to one or more independent objects (the parts).\n",
    "\n",
    "- The contained objects can exist independently of the container.\n",
    "- Example: A `Library` contains `Book` objects, but books can exist without the library."
   ]
  },
  {
   "cell_type": "markdown",
   "id": "fddea3f1",
   "metadata": {},
   "source": [
    "---\n",
    "\n",
    "### Syntax: Aggregation\n",
    "\n",
    "```python\n",
    "class Part:\n",
    "    pass\n",
    "\n",
    "class Whole:\n",
    "    def __init__(self):\n",
    "        self.parts = []\n",
    "\n",
    "    def add_part(self, part):\n",
    "        self.parts.append(part)\n",
    "```"
   ]
  },
  {
   "cell_type": "code",
   "execution_count": 16,
   "id": "5ab7924e",
   "metadata": {},
   "outputs": [
    {
     "name": "stdout",
     "output_type": "stream",
     "text": [
      "Texas Public Library\n",
      "Taggedhe le by Sankarsh\n",
      "Heyyyy Pinkkkkk by Pavana\n",
      "Name is Laasam by Lasya\n",
      "Hoyyare Hoya by Bavana\n"
     ]
    }
   ],
   "source": [
    "# Example: Aggregation with Library and Book\n",
    "\n",
    "class Library:\n",
    "    def __init__(self, name):\n",
    "        self.name = name\n",
    "        self.books = []  # Aggregates Book objects\n",
    "\n",
    "    def add_book(self, book):\n",
    "        self.books.append(book)\n",
    "\n",
    "    def list_books(self):\n",
    "        # Returns a list of book descriptions\n",
    "        return [f\"{book.title} by {book.author}\" for book in self.books]\n",
    "\n",
    "class Book:\n",
    "    def __init__(self, title, author):\n",
    "        self.title = title\n",
    "        self.author = author\n",
    "\n",
    "library1 = Library(\"Texas Public Library\")\n",
    "\n",
    "book1 = Book(\"Taggedhe le\", \"Sankarsh\")\n",
    "book2 = Book(\"Heyyyy Pinkkkkk\", \"Pavana\")\n",
    "book3 = Book(\"Name is Laasam\", \"Lasya\")\n",
    "book4 = Book(\"Hoyyare Hoya\", \"Bavana\")\n",
    "\n",
    "library1.add_book(book1)\n",
    "library1.add_book(book2)\n",
    "library1.add_book(book3)\n",
    "library1.add_book(book4)\n",
    "\n",
    "print(library1.name)\n",
    "for book in library1.list_books():\n",
    "    print(book)"
   ]
  },
  {
   "cell_type": "markdown",
   "id": "66961d50",
   "metadata": {},
   "source": [
    "### Explanation\n",
    "\n",
    "- The `Library` class contains a list of `Book` objects, but `Book` objects can exist independently.\n",
    "- Aggregation is shown by the `Library` holding references to `Book` instances.\n",
    "- Removing the `Library` does not delete the `Book` objects—they can be used elsewhere."
   ]
  },
  {
   "cell_type": "markdown",
   "id": "219d449f",
   "metadata": {},
   "source": [
    "## Composition\n",
    "\n",
    "**Composition** is a strong form of association where one object (the whole) is composed of one or more objects (the parts), and the parts **cannot exist independently** of the whole.\n",
    "\n",
    "- Represents a strict \"owns-a\" relationship.\n",
    "- If the whole is destroyed, its parts are also destroyed.\n",
    "- Example: A `Car` is composed of an `Engine` and `Wheel` objects. The engine and wheels do not exist independently outside the car.\n",
    "\n",
    "### Comparison: Composition vs Aggregation\n",
    "\n",
    "- **Aggregation**: The parts can exist independently of the whole (e.g., a `Book` can exist without a `Library`). Aggregation (has-a) relationship.\n",
    "- **Composition**: The parts cannot exist independently of the whole (e.g., an `Engine` or `Wheel` is created and destroyed with the `Car`). Composition (owns-a) relationship."
   ]
  },
  {
   "cell_type": "markdown",
   "id": "3fe1ef8a",
   "metadata": {},
   "source": [
    "---\n",
    "\n",
    "### Syntax: Composition\n",
    "\n",
    "```python\n",
    "class Part:\n",
    "    pass\n",
    "\n",
    "class Whole:\n",
    "    def __init__(self):\n",
    "        self.part = Part()  # Created and owned by Whole\n",
    "```"
   ]
  },
  {
   "cell_type": "code",
   "execution_count": 17,
   "id": "40d12d8e",
   "metadata": {},
   "outputs": [
    {
     "name": "stdout",
     "output_type": "stream",
     "text": [
      "Ford Mustang Shelby GT350 | Engine: 830 HP | Wheel size: 20 in\n",
      "Nissan GT-R | Engine: 565 HP | Wheel size: 19 in\n"
     ]
    }
   ],
   "source": [
    "# Example: Composition with Car, Engine, and Wheel\n",
    "\n",
    "class Car:\n",
    "    def __init__(self, make, model, horse_power, wheel_size):\n",
    "        self.make = make\n",
    "        self.model = model\n",
    "        # Engine and Wheel objects are created inside Car and do not exist outside it\n",
    "        self.engine = Engine(horse_power)  # Composition: Car owns Engine\n",
    "        self.wheels = [Wheel(wheel_size) for _ in range(4)]  # Composition: Car owns Wheels\n",
    "\n",
    "    def display_car(self):\n",
    "        # Display car details including engine and wheel info\n",
    "        return f\"{self.make} {self.model} | Engine: {self.engine.horse_power} HP | Wheel size: {self.wheels[0].size} in\"\n",
    "\n",
    "class Engine:\n",
    "    def __init__(self, horse_power):\n",
    "        self.horse_power = horse_power\n",
    "\n",
    "class Wheel:\n",
    "    def __init__(self, size):\n",
    "        self.size = size\n",
    "\n",
    "car1 = Car(make=\"Ford\", model=\"Mustang Shelby GT350\", horse_power=830, wheel_size=20)\n",
    "car2 = Car(\"Nissan\", \"GT-R\", 565, 19)\n",
    "\n",
    "print(car1.display_car())\n",
    "print(car2.display_car())"
   ]
  },
  {
   "cell_type": "markdown",
   "id": "f1026004",
   "metadata": {},
   "source": [
    "### Explanation\n",
    "\n",
    "- In **composition**, the `Car` class creates and owns its `Engine` and `Wheel` objects. These parts do not exist outside the `Car` and are destroyed when the `Car` is destroyed.\n",
    "- This is different from **aggregation**, where the parts (like `Book` in a `Library`) can exist independently and be shared or reused elsewhere.\n",
    "- Use composition when the lifetime of the part is strictly bound to the lifetime of the whole."
   ]
  },
  {
   "cell_type": "markdown",
   "id": "acb10813",
   "metadata": {},
   "source": [
    "## Nested Class\n",
    "\n",
    "A **nested class** is a class defined within another class.\n",
    "\n",
    "- Useful for logically grouping classes that are only used in one place.\n",
    "- The inner class is scoped within the outer class, encapsulating details and keeping the namespace clean.\n",
    "\n",
    "**Benefits:**\n",
    "- Groups related functionality together.\n",
    "- Encapsulates private details not relevant outside the outer class.\n",
    "- Reduces naming conflicts in larger projects."
   ]
  },
  {
   "cell_type": "markdown",
   "id": "b34cf7e4",
   "metadata": {},
   "source": [
    "---\n",
    "\n",
    "### Syntax: Nested Class\n",
    "\n",
    "```python\n",
    "class Outer:\n",
    "    class Inner:\n",
    "        pass\n",
    "```"
   ]
  },
  {
   "cell_type": "code",
   "execution_count": 18,
   "id": "6765a214",
   "metadata": {},
   "outputs": [
    {
     "name": "stdout",
     "output_type": "stream",
     "text": [
      "Employees at Google:\n",
      "Sankarsh Nellutla working as a Machine Learning Engineer\n",
      "Pavana Chikkala working as a Product Manager\n",
      "Bavana Chikkala working as a Data Engineer\n",
      "\n",
      "Employees at Tesla:\n",
      "Prem prasad rao Nellutla working as a Product Owner\n",
      "Shireesha Devulapally working as a Program Manager\n",
      "Lasya Nellutla working as a Data Scientist\n"
     ]
    }
   ],
   "source": [
    "# Example: Company with a Nested Employee Class\n",
    "\n",
    "class Company:\n",
    "    def __init__(self, company_name):\n",
    "        self.company_name = company_name\n",
    "        self.employees = []  # List to store Employee objects\n",
    "\n",
    "    def add_employee(self, employee_name, employee_position):\n",
    "        # Create an Employee object using the nested class\n",
    "        new_employee = self.Employee(employee_name, employee_position)\n",
    "        self.employees.append(new_employee)\n",
    "\n",
    "    def list_employees(self):\n",
    "        # Return a list of employee details\n",
    "        return [employee.get_details() for employee in self.employees]\n",
    "\n",
    "    class Employee:\n",
    "        # Nested Employee class\n",
    "        def __init__(self, employee_name, employee_position):\n",
    "            self.employee_name = employee_name\n",
    "            self.employee_position = employee_position\n",
    "\n",
    "        def get_details(self):\n",
    "            # Return a formatted string with employee details\n",
    "            return f\"{self.employee_name} working as a {self.employee_position}\"\n",
    "\n",
    "# Creating Company objects and adding employees\n",
    "company1 = Company(company_name=\"Google\")\n",
    "company2 = Company(company_name=\"Tesla\")\n",
    "\n",
    "company1.add_employee(\"Sankarsh Nellutla\", \"Machine Learning Engineer\")\n",
    "company1.add_employee(\"Pavana Chikkala\", \"Product Manager\")\n",
    "company1.add_employee(\"Bavana Chikkala\", \"Data Engineer\")\n",
    "\n",
    "company2.add_employee(\"Prem prasad rao Nellutla\", \"Product Owner\")\n",
    "company2.add_employee(\"Shireesha Devulapally\", \"Program Manager\")\n",
    "company2.add_employee(\"Lasya Nellutla\", \"Data Scientist\")\n",
    "\n",
    "# Listing employees for each company\n",
    "print(f\"Employees at {company1.company_name}:\")\n",
    "for employee in company1.list_employees():\n",
    "    print(employee)\n",
    "\n",
    "print()\n",
    "\n",
    "print(f\"Employees at {company2.company_name}:\")\n",
    "for employee in company2.list_employees():\n",
    "    print(employee)"
   ]
  },
  {
   "cell_type": "markdown",
   "id": "cfddb155",
   "metadata": {},
   "source": [
    "### Explanation\n",
    "\n",
    "- The `Company` class contains a nested `Employee` class.\n",
    "- Employees are created and managed only through the `Company` class.\n",
    "- This structure keeps the `Employee` class logically grouped and hidden from the global scope.\n",
    "- The `list_employees` method returns a list of formatted employee details for each company."
   ]
  },
  {
   "cell_type": "markdown",
   "id": "863965e7",
   "metadata": {},
   "source": [
    "### Static Method\n",
    "\n",
    "A **static method** belongs to a class rather than any object from that class (instance).\n",
    "\n",
    "- Use `@staticmethod` decorator.\n",
    "- Best for utility functions that do not need access to class or instance data.\n",
    "- Instance methods: operate on object data (`self`)\n",
    "- Static methods: do not access `self` or `cls`"
   ]
  },
  {
   "cell_type": "markdown",
   "id": "fc915332",
   "metadata": {},
   "source": [
    "---\n",
    "\n",
    "### Syntax: Static Method\n",
    "\n",
    "```python\n",
    "class ClassName:\n",
    "    @staticmethod\n",
    "    def static_method_name(args):\n",
    "        # method body\n",
    "        pass\n",
    "```"
   ]
  },
  {
   "cell_type": "code",
   "execution_count": 19,
   "id": "4e3341e3",
   "metadata": {},
   "outputs": [
    {
     "name": "stdout",
     "output_type": "stream",
     "text": [
      "Jiraya = Sanin\n",
      "Minato = Hokage\n",
      "Kakashi = Jonin\n",
      "False\n",
      "True\n"
     ]
    }
   ],
   "source": [
    "# Example: Employee class with a static method\n",
    "\n",
    "class Employee:\n",
    "    def __init__(self, name, position):\n",
    "        self.name = name\n",
    "        self.position = position\n",
    "\n",
    "    def get_info(self):\n",
    "        return f\"{self.name} = {self.position}\"\n",
    "\n",
    "    @staticmethod\n",
    "    def is_valid_position(position):\n",
    "        # Static method: checks if the position is valid\n",
    "        valid_positions = [\"Hokage\", \"Sanin\", \"Jonin\", \"Chunin\"]\n",
    "        return position in valid_positions\n",
    "\n",
    "employee1 = Employee(\"Minato\", \"Hokage\")\n",
    "employee2 = Employee(\"Jiraya\", \"Sanin\")\n",
    "employee3 = Employee(\"Kakashi\", \"Jonin\")\n",
    "\n",
    "print(employee2.get_info())\n",
    "print(employee1.get_info())\n",
    "print(employee3.get_info())\n",
    "\n",
    "# Using the static method\n",
    "print(Employee.is_valid_position(\"Kazekage\"))  # False\n",
    "print(Employee.is_valid_position(\"Jonin\"))     # True"
   ]
  },
  {
   "cell_type": "markdown",
   "id": "c6c46445",
   "metadata": {},
   "source": [
    "### Explanation\n",
    "\n",
    "- **Static methods** are defined with `@staticmethod` and do not access instance (`self`) or class (`cls`) data.\n",
    "- They are called on the class itself, not on an instance.\n",
    "- Useful for utility functions related to the class, but not dependent on class or instance state.\n",
    "- In the example, `is_valid_position` checks if a position is valid, without needing any employee data."
   ]
  },
  {
   "cell_type": "markdown",
   "id": "54d6b92d",
   "metadata": {},
   "source": [
    "### Class Method\n",
    "\n",
    "A **class method** is a method that operates on the class itself, not on instances.  \n",
    "- Use the `@classmethod` decorator.\n",
    "- The first parameter is `cls`, which refers to the class.\n",
    "- Useful for operations that affect the class as a whole (e.g., counters, alternative constructors).\n",
    "\n",
    "- **Instance methods**: Best for operations on instances of the class (objects).\n",
    "- **Static methods**: Best for utility functions that do not need access to class data.\n",
    "- **Class methods**: Best for class-level data or require access to the class itself."
   ]
  },
  {
   "cell_type": "markdown",
   "id": "563d702f",
   "metadata": {},
   "source": [
    "---\n",
    "\n",
    "### Syntax: Class Method\n",
    "\n",
    "```python\n",
    "class ClassName:\n",
    "    @classmethod\n",
    "    def class_method_name(cls, ...):\n",
    "        # method body\n",
    "        pass\n",
    "```"
   ]
  },
  {
   "cell_type": "code",
   "execution_count": 20,
   "id": "a4ee45ee",
   "metadata": {},
   "outputs": [
    {
     "name": "stdout",
     "output_type": "stream",
     "text": [
      "Sana = 3.8\n",
      "Total number of students: 3\n",
      "Average gpa: 3.80\n"
     ]
    }
   ],
   "source": [
    "# Example: Student class with class methods\n",
    "\n",
    "class Student:\n",
    "\n",
    "    count = 0\n",
    "    total_gpa = 0\n",
    "\n",
    "    def __init__(self, name, gpa):\n",
    "        self.name = name\n",
    "        self.gpa = gpa\n",
    "        Student.count += 1\n",
    "        Student.total_gpa += gpa\n",
    "\n",
    "    def get_info(self):\n",
    "        # Instance method: returns info about this student\n",
    "        return f\"{self.name} = {self.gpa}\"\n",
    "    \n",
    "    @classmethod\n",
    "    def get_count(cls):\n",
    "        # Class method: returns total number of students\n",
    "        return f\"Total number of students: {cls.count}\"\n",
    "    \n",
    "    @classmethod\n",
    "    def avg_gpa(cls):\n",
    "        # Class method: returns average GPA of all students\n",
    "        if cls.count == 0:\n",
    "            return 0\n",
    "        else:\n",
    "            return f\"Average gpa: {cls.total_gpa/cls.count:.2f}\"\n",
    "    \n",
    "# Create student objects\n",
    "student1 = Student(\"Pavana\", 4.0)\n",
    "student2 = Student(\"Sankarsh\", 3.6)\n",
    "student3 = Student(\"Sana\", 3.8)\n",
    "\n",
    "# Print info using instance and class methods\n",
    "print(Student.get_info(student3))\n",
    "print(Student.get_count())\n",
    "print(Student.avg_gpa())"
   ]
  },
  {
   "cell_type": "markdown",
   "id": "5c5b16cb",
   "metadata": {},
   "source": [
    "### Explanation\n",
    "\n",
    "- **Class methods** are defined with `@classmethod` and take `cls` as the first parameter.\n",
    "- They can access and modify class variables shared by all instances.\n",
    "- Called on the class itself, not on an instance.\n",
    "- In the example, `get_count()` and `avg_gpa()` operate on class-level data for all students."
   ]
  },
  {
   "cell_type": "markdown",
   "id": "f85187e5",
   "metadata": {},
   "source": [
    "### Magic Methods\n",
    "\n",
    "Magic methods (also called dunder methods, for \"double underscore\") are special methods in Python that let you define how objects of your class behave with built-in operations (like `+`, `<`, `==`, `in`, `[]`, and `print()`).\n",
    "\n",
    "- They start and end with double underscores, e.g., `__init__`, `__str__`, `__eq__`.\n",
    "- They allow you to customize object behavior for operators and built-in functions."
   ]
  },
  {
   "cell_type": "markdown",
   "id": "b7d2229f",
   "metadata": {},
   "source": [
    "---\n",
    "\n",
    "### Syntax: Magic Methods\n",
    "\n",
    "```python\n",
    "class ClassName:\n",
    "    def __init__(self, ...):      # Object creation\n",
    "        pass\n",
    "    def __str__(self):            # String representation\n",
    "        pass\n",
    "    def __eq__(self, other):      # Equality check\n",
    "        pass\n",
    "    def __lt__(self, other):      # Less than\n",
    "        pass\n",
    "    def __gt__(self, other):      # Greater than\n",
    "        pass\n",
    "    def __add__(self, other):     # Addition\n",
    "        pass\n",
    "    def __contains__(self, item): # 'in' keyword\n",
    "        pass\n",
    "    def __getitem__(self, key):   # Indexing\n",
    "        pass\n",
    "```"
   ]
  },
  {
   "cell_type": "code",
   "execution_count": 21,
   "id": "7cc30c96",
   "metadata": {},
   "outputs": [
    {
     "name": "stdout",
     "output_type": "stream",
     "text": [
      "'Darling' by Prabhas\n",
      "Movies are equal: True\n",
      "Movie 'Ishq' has less budget than 'Arya': False\n",
      "Movie 'Arya' has greater budget than 'Ishq': True\n",
      "40 crores\n",
      "True\n",
      "Allu Arjun\n",
      "Key 'director' was not found\n"
     ]
    }
   ],
   "source": [
    "# Example: Movie class with magic methods returning f-strings for booleans\n",
    "\n",
    "class Movie:\n",
    "    def __init__(self, title, hero, budget):\n",
    "        self.title = title      # Movie title\n",
    "        self.hero = hero        # Lead actor\n",
    "        self.budget = budget    # Budget in crores\n",
    "\n",
    "    def __str__(self):\n",
    "        # Called by print(movie)\n",
    "        return f\"'{self.title}' by {self.hero}\"\n",
    "\n",
    "    def __eq__(self, other):\n",
    "        # Called by movie1 == movie2\n",
    "        result = self.title == other.title and self.hero == other.hero\n",
    "        return f\"Movies are equal: {result}\"\n",
    "\n",
    "    def __lt__(self, other):\n",
    "        # Called by movie1 < movie2\n",
    "        result = self.budget < other.budget\n",
    "        return f\"Movie '{self.title}' has less budget than '{other.title}': {result}\"\n",
    "\n",
    "    def __gt__(self, other):\n",
    "        # Called by movie1 > movie2\n",
    "        result = self.budget > other.budget\n",
    "        return f\"Movie '{self.title}' has greater budget than '{other.title}': {result}\"\n",
    "\n",
    "    def __add__(self, other):\n",
    "        # Called by movie1 + movie2\n",
    "        return f\"{self.budget + other.budget} crores\"\n",
    "\n",
    "    def __contains__(self, keyword):\n",
    "        # Called by 'keyword' in movie\n",
    "        found = keyword in self.title or keyword in self.hero\n",
    "        return f\"'{keyword}' found in movie: {found}\"\n",
    "\n",
    "    def __getitem__(self, key):\n",
    "        # Called by movie['title'], movie['hero'], movie['budget']\n",
    "        if key == \"title\":\n",
    "            return self.title\n",
    "        elif key == \"hero\":\n",
    "            return self.hero\n",
    "        elif key == \"budget\":\n",
    "            return self.budget\n",
    "        else:\n",
    "            return f\"Key '{key}' was not found\"\n",
    "\n",
    "# Creating Movie objects\n",
    "movie1 = Movie(\"Darling\", \"Prabhas\", 30)\n",
    "movie2 = Movie(\"Ishq\", \"Nithin\", 15)\n",
    "movie3 = Movie(\"Arya\", \"Allu Arjun\", 10)\n",
    "movie4 = Movie(\"Arya\", \"Allu Arjun\", 20)\n",
    "movie5 = Movie(\"Kabhi Khushi Kabhie Gham\", \"Shah Rukh Khan\", 50)\n",
    "\n",
    "# Demonstrating magic methods\n",
    "print(movie1)  # __str__\n",
    "print(movie3 == movie4)                  # __eq__ returns f-string\n",
    "print(movie2 < movie3)                   # __lt__ returns f-string\n",
    "print(movie4 > movie2)                   # __gt__ returns f-string\n",
    "print(movie1 + movie3)                   # __add__\n",
    "print(\"Khushi\" in movie5)                # __contains__ returns boolean by default even if f string is given\n",
    "print(movie3['hero'])                    # __getitem__\n",
    "print(movie3['director'])                # __getitem__ with invalid key"
   ]
  },
  {
   "cell_type": "markdown",
   "id": "2d957522",
   "metadata": {},
   "source": [
    "### Explanation\n",
    "\n",
    "- `__str__`: Defines the string shown when you print the object.\n",
    "- `__eq__`: Checks if two movies have the same title and hero.\n",
    "- `__lt__` / `__gt__`: Allow comparison of movies by budget using `<` and `>`.\n",
    "- `__add__`: Adds the budgets of two movies.\n",
    "- `__contains__`: Lets you use `'something' in movie` to search in title or hero.\n",
    "- `__getitem__`: Lets you use `movie['hero']` to access attributes like a dictionary.\n",
    "- Magic methods make your classes behave like built-in types and support Python operators."
   ]
  },
  {
   "cell_type": "markdown",
   "id": "4974dd88",
   "metadata": {},
   "source": [
    "### Property Decorator\n",
    "\n",
    "@property is a decorator used to define a method as a property (so it can be accessed like an attribute).  \n",
    "It allows you to add logic when reading, writing, or deleting attributes, and supports getter, setter, and deleter methods."
   ]
  },
  {
   "cell_type": "markdown",
   "id": "c1419694",
   "metadata": {},
   "source": [
    "---\n",
    "\n",
    "#### Syntax: Property Decorator\n",
    "\n",
    "```python\n",
    "class ClassName:\n",
    "    def __init__(self, value):\n",
    "        self._value = value\n",
    "\n",
    "    @property\n",
    "    def value(self):\n",
    "        # Getter\n",
    "        return self._value\n",
    "\n",
    "    @value.setter\n",
    "    def value(self, new_value):\n",
    "        # Setter\n",
    "        self._value = new_value\n",
    "\n",
    "    @value.deleter\n",
    "    def value(self):\n",
    "        # Deleter\n",
    "        del self._value"
   ]
  },
  {
   "cell_type": "code",
   "execution_count": 22,
   "id": "286038ab",
   "metadata": {},
   "outputs": [
    {
     "name": "stdout",
     "output_type": "stream",
     "text": [
      "Width has been deleted\n",
      "Height has been deleted\n",
      "Width must be greater than zero\n",
      "5.0cm\n",
      "6.0cm\n"
     ]
    }
   ],
   "source": [
    "# Example: Rectangle class using @property, @setter, and @deleter\n",
    "\n",
    "class Rectangle:\n",
    "    def __init__(self, width, height):\n",
    "        self._width = width      # Private attribute for width\n",
    "        self._height = height    # Private attribute for height\n",
    "\n",
    "    @property\n",
    "    def width(self):\n",
    "        # Getter for width\n",
    "        return f\"{self._width:.1f}cm\"\n",
    "\n",
    "    @property\n",
    "    def height(self):\n",
    "        # Getter for height\n",
    "        return f\"{self._height:.1f}cm\"\n",
    "    \n",
    "    @width.setter\n",
    "    def width(self, new_width):\n",
    "        # Setter for width with validation\n",
    "        if new_width > 0:\n",
    "            self._width = new_width\n",
    "        else:\n",
    "            print(\"Width must be greater than zero\")\n",
    "\n",
    "    @height.setter\n",
    "    def height(self, new_height):\n",
    "        # Setter for height with validation\n",
    "        if new_height > 0:\n",
    "            self._height = new_height\n",
    "        else:\n",
    "            print(\"Height must be greater than zero\")\n",
    "\n",
    "    @width.deleter\n",
    "    def width(self):\n",
    "        # Deleter for width\n",
    "        del self._width\n",
    "        print(\"Width has been deleted\")\n",
    "\n",
    "    @height.deleter\n",
    "    def height(self):\n",
    "        # Deleter for height\n",
    "        del self._height\n",
    "        print(\"Height has been deleted\") \n",
    "\n",
    "# Usage example\n",
    "rectangle = Rectangle(3, 4)\n",
    "\n",
    "del rectangle.width      # Deletes width\n",
    "del rectangle.height     # Deletes height\n",
    "\n",
    "rectangle.width = 0     # Will print warning\n",
    "rectangle.width = 5     # Sets width to 5\n",
    "rectangle.height = 6    # Sets height to 6\n",
    "\n",
    "print(rectangle.width)  # Prints: 5.0cm\n",
    "print(rectangle.height) # Prints: 6.0cm"
   ]
  },
  {
   "cell_type": "markdown",
   "id": "a7be8ba3",
   "metadata": {},
   "source": [
    "#### Explanation\n",
    "\n",
    "- `@property` allows you to access methods like attributes (getter).\n",
    "- `@width.setter` and `@height.setter` allow controlled setting with validation.\n",
    "- `@width.deleter` and `@height.deleter` allow deleting the attribute with a message.\n",
    "- This pattern is used for encapsulation and validation in OOP."
   ]
  }
 ],
 "metadata": {
  "kernelspec": {
   "display_name": "Python 3",
   "language": "python",
   "name": "python3"
  },
  "language_info": {
   "codemirror_mode": {
    "name": "ipython",
    "version": 3
   },
   "file_extension": ".py",
   "mimetype": "text/x-python",
   "name": "python",
   "nbconvert_exporter": "python",
   "pygments_lexer": "ipython3",
   "version": "3.12.4"
  }
 },
 "nbformat": 4,
 "nbformat_minor": 5
}
